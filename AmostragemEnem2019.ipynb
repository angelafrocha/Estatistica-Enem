{
  "nbformat": 4,
  "nbformat_minor": 0,
  "metadata": {
    "colab": {
      "provenance": [],
      "toc_visible": true,
      "mount_file_id": "1AVoCNyT0JoWr6qrv3zHvUedP7GCvkVIL",
      "authorship_tag": "ABX9TyNBkKLfFBM79IbPZHtezWZA",
      "include_colab_link": true
    },
    "kernelspec": {
      "name": "python3",
      "display_name": "Python 3"
    },
    "language_info": {
      "name": "python"
    }
  },
  "cells": [
    {
      "cell_type": "markdown",
      "metadata": {
        "id": "view-in-github",
        "colab_type": "text"
      },
      "source": [
        "<a href=\"https://colab.research.google.com/github/angelafrocha/Estatistica-com-Python-para-analise-de-dados/blob/main/AmostragemEnem2019.ipynb\" target=\"_parent\"><img src=\"https://colab.research.google.com/assets/colab-badge.svg\" alt=\"Open In Colab\"/></a>"
      ]
    },
    {
      "cell_type": "markdown",
      "source": [
        "#Amostragem\n",
        "Projeto usando o dataframe tratado do repoistório Enem2019 do Github para demonstrar os tipos de técnicas de amostragem que pode ser feitos usando as bibliotecas pandas e numpy.\n",
        "\n",
        "**Amostragem:** Amostragem é o ato de analisar uma parte do evento observado com o intuito de saber como a população se comporta, sem necessariamente analisar a população como um todo. A seguir criarei dataframes com os seguintes tipos de amostragem: aleatória simples, sistemática, estradificada e agrupamento(conglomerado)\n",
        "\n",
        "Os dados aqui se referem a todos os classificados no enem 2019 do estado de São Paulo\n",
        "\n",
        "Dados Originais: INEP\n",
        "\n",
        "Dados tratados:  https://drive.google.com/file/d/1edacFMquCBOQ-y04txGAYZDrUcMlONu3/view?usp=share_link\n"
      ],
      "metadata": {
        "id": "6wivdmejHIV8"
      }
    },
    {
      "cell_type": "markdown",
      "source": [
        "##Importação das bibliotecas e conexão com o Google Drive"
      ],
      "metadata": {
        "id": "N6TOGt9sIqNM"
      }
    },
    {
      "cell_type": "code",
      "source": [
        "import pandas as pd\n",
        "import numpy as np"
      ],
      "metadata": {
        "id": "tqLnZsz4H-mw"
      },
      "execution_count": 109,
      "outputs": []
    },
    {
      "cell_type": "code",
      "source": [
        "from google.colab import drive\n",
        "drive.mount('/content/drive')"
      ],
      "metadata": {
        "id": "poeSW3b2JG4B",
        "colab": {
          "base_uri": "https://localhost:8080/"
        },
        "outputId": "2649b9e5-83df-4a3b-ea6d-56e3213a8272"
      },
      "execution_count": 110,
      "outputs": [
        {
          "output_type": "stream",
          "name": "stdout",
          "text": [
            "Drive already mounted at /content/drive; to attempt to forcibly remount, call drive.mount(\"/content/drive\", force_remount=True).\n"
          ]
        }
      ]
    },
    {
      "cell_type": "markdown",
      "source": [
        "##Extração dos Dados"
      ],
      "metadata": {
        "id": "FVke7ok9JgOS"
      }
    },
    {
      "cell_type": "code",
      "source": [
        "df = pd.read_csv('/content/drive/MyDrive/Datasets/microdados_enem_2019/enem_2019_tratado.csv',\n",
        "                 sep= ',',\n",
        "                 encoding='iso-8859-1')"
      ],
      "metadata": {
        "id": "GtwnGN2QJj6o"
      },
      "execution_count": 111,
      "outputs": []
    },
    {
      "cell_type": "code",
      "source": [
        "pd.set_option('display.max_columns',100)"
      ],
      "metadata": {
        "id": "4pJj9P_nABJZ"
      },
      "execution_count": 112,
      "outputs": []
    },
    {
      "cell_type": "code",
      "source": [
        "df.shape"
      ],
      "metadata": {
        "id": "2lZv8ECQAGj3",
        "colab": {
          "base_uri": "https://localhost:8080/"
        },
        "outputId": "d2535d90-cb62-4f4d-e6cb-d48137cb32be"
      },
      "execution_count": 113,
      "outputs": [
        {
          "output_type": "execute_result",
          "data": {
            "text/plain": [
              "(499940, 28)"
            ]
          },
          "metadata": {},
          "execution_count": 113
        }
      ]
    },
    {
      "cell_type": "code",
      "source": [
        "df.head(5)"
      ],
      "metadata": {
        "id": "fYR6iYIEKaOT",
        "colab": {
          "base_uri": "https://localhost:8080/",
          "height": 287
        },
        "outputId": "f339390a-03da-4b8e-ded0-347096432827"
      },
      "execution_count": 114,
      "outputs": [
        {
          "output_type": "execute_result",
          "data": {
            "text/plain": [
              "  NU_INSCRICAO NO_MUNICIPIO_RESIDENCIA  IDADE SEXO TP_ESTADO_CIVIL    RACA  \\\n",
              "0     1,90E+11            Santa Isabel     22    M        solterio   parda   \n",
              "1     1,90E+11               São Paulo     17    F        solterio   parda   \n",
              "2     1,90E+11   São Bernardo do Campo     19    M        solterio   parda   \n",
              "3     1,90E+11              Embu-Guaçu     17    F        solterio   parda   \n",
              "4     1,90E+11               Guarulhos     23    F        solterio  branca   \n",
              "\n",
              "  TP_NACIONALIDADE  TP_ST_CONCLUSAO         ESCOLA   CO_ESCOLA  \\\n",
              "0       brasileiro                1  nao_respondeu         NaN   \n",
              "1       brasileiro                2        privada  15567761.0   \n",
              "2       brasileiro                2        publica  35904958.0   \n",
              "3       brasileiro                2        publica         NaN   \n",
              "4       brasileiro                1  nao_respondeu         NaN   \n",
              "\n",
              "        NO_MUNICIPIO_ESC  TP_PRESENCA_CN  TP_PRESENCA_CH  TP_PRESENCA_LC  \\\n",
              "0                    NaN               1               1               1   \n",
              "1                  Belém               1               1               1   \n",
              "2  São Bernardo do Campo               1               1               1   \n",
              "3                    NaN               1               1               1   \n",
              "4                    NaN               1               1               1   \n",
              "\n",
              "   TP_PRESENCA_MT  NOTA_CN  NOTA_CH  NOTA_LC  NOTA_MT TP_LINGUA  \\\n",
              "0               1    564.6    585.8    592.9    600.2    ingles   \n",
              "1               1    576.2    641.1    634.3    731.8    ingles   \n",
              "2               1    402.2    424.8    509.6    393.2  espanhol   \n",
              "3               1    399.6    426.8    487.2    419.2    ingles   \n",
              "4               1    625.7    646.5    629.3    796.1    ingles   \n",
              "\n",
              "   TP_STATUS_REDACAO  COMP1  COMP2  COMP3  COMP4  COMP5  NOTA_REDACAO INTERNET  \n",
              "0                1.0  160.0  200.0  180.0  200.0  200.0         940.0      sim  \n",
              "1                1.0  160.0  120.0  200.0  200.0  200.0         880.0      nao  \n",
              "2                1.0   80.0  160.0  120.0  100.0  100.0         560.0      sim  \n",
              "3                1.0  120.0  120.0  120.0  120.0   80.0         560.0      sim  \n",
              "4                1.0  160.0  200.0  180.0  180.0  160.0         880.0      sim  "
            ],
            "text/html": [
              "\n",
              "  <div id=\"df-e165f040-f0af-4f2e-a3d0-0e30c14bf149\">\n",
              "    <div class=\"colab-df-container\">\n",
              "      <div>\n",
              "<style scoped>\n",
              "    .dataframe tbody tr th:only-of-type {\n",
              "        vertical-align: middle;\n",
              "    }\n",
              "\n",
              "    .dataframe tbody tr th {\n",
              "        vertical-align: top;\n",
              "    }\n",
              "\n",
              "    .dataframe thead th {\n",
              "        text-align: right;\n",
              "    }\n",
              "</style>\n",
              "<table border=\"1\" class=\"dataframe\">\n",
              "  <thead>\n",
              "    <tr style=\"text-align: right;\">\n",
              "      <th></th>\n",
              "      <th>NU_INSCRICAO</th>\n",
              "      <th>NO_MUNICIPIO_RESIDENCIA</th>\n",
              "      <th>IDADE</th>\n",
              "      <th>SEXO</th>\n",
              "      <th>TP_ESTADO_CIVIL</th>\n",
              "      <th>RACA</th>\n",
              "      <th>TP_NACIONALIDADE</th>\n",
              "      <th>TP_ST_CONCLUSAO</th>\n",
              "      <th>ESCOLA</th>\n",
              "      <th>CO_ESCOLA</th>\n",
              "      <th>NO_MUNICIPIO_ESC</th>\n",
              "      <th>TP_PRESENCA_CN</th>\n",
              "      <th>TP_PRESENCA_CH</th>\n",
              "      <th>TP_PRESENCA_LC</th>\n",
              "      <th>TP_PRESENCA_MT</th>\n",
              "      <th>NOTA_CN</th>\n",
              "      <th>NOTA_CH</th>\n",
              "      <th>NOTA_LC</th>\n",
              "      <th>NOTA_MT</th>\n",
              "      <th>TP_LINGUA</th>\n",
              "      <th>TP_STATUS_REDACAO</th>\n",
              "      <th>COMP1</th>\n",
              "      <th>COMP2</th>\n",
              "      <th>COMP3</th>\n",
              "      <th>COMP4</th>\n",
              "      <th>COMP5</th>\n",
              "      <th>NOTA_REDACAO</th>\n",
              "      <th>INTERNET</th>\n",
              "    </tr>\n",
              "  </thead>\n",
              "  <tbody>\n",
              "    <tr>\n",
              "      <th>0</th>\n",
              "      <td>1,90E+11</td>\n",
              "      <td>Santa Isabel</td>\n",
              "      <td>22</td>\n",
              "      <td>M</td>\n",
              "      <td>solterio</td>\n",
              "      <td>parda</td>\n",
              "      <td>brasileiro</td>\n",
              "      <td>1</td>\n",
              "      <td>nao_respondeu</td>\n",
              "      <td>NaN</td>\n",
              "      <td>NaN</td>\n",
              "      <td>1</td>\n",
              "      <td>1</td>\n",
              "      <td>1</td>\n",
              "      <td>1</td>\n",
              "      <td>564.6</td>\n",
              "      <td>585.8</td>\n",
              "      <td>592.9</td>\n",
              "      <td>600.2</td>\n",
              "      <td>ingles</td>\n",
              "      <td>1.0</td>\n",
              "      <td>160.0</td>\n",
              "      <td>200.0</td>\n",
              "      <td>180.0</td>\n",
              "      <td>200.0</td>\n",
              "      <td>200.0</td>\n",
              "      <td>940.0</td>\n",
              "      <td>sim</td>\n",
              "    </tr>\n",
              "    <tr>\n",
              "      <th>1</th>\n",
              "      <td>1,90E+11</td>\n",
              "      <td>São Paulo</td>\n",
              "      <td>17</td>\n",
              "      <td>F</td>\n",
              "      <td>solterio</td>\n",
              "      <td>parda</td>\n",
              "      <td>brasileiro</td>\n",
              "      <td>2</td>\n",
              "      <td>privada</td>\n",
              "      <td>15567761.0</td>\n",
              "      <td>Belém</td>\n",
              "      <td>1</td>\n",
              "      <td>1</td>\n",
              "      <td>1</td>\n",
              "      <td>1</td>\n",
              "      <td>576.2</td>\n",
              "      <td>641.1</td>\n",
              "      <td>634.3</td>\n",
              "      <td>731.8</td>\n",
              "      <td>ingles</td>\n",
              "      <td>1.0</td>\n",
              "      <td>160.0</td>\n",
              "      <td>120.0</td>\n",
              "      <td>200.0</td>\n",
              "      <td>200.0</td>\n",
              "      <td>200.0</td>\n",
              "      <td>880.0</td>\n",
              "      <td>nao</td>\n",
              "    </tr>\n",
              "    <tr>\n",
              "      <th>2</th>\n",
              "      <td>1,90E+11</td>\n",
              "      <td>São Bernardo do Campo</td>\n",
              "      <td>19</td>\n",
              "      <td>M</td>\n",
              "      <td>solterio</td>\n",
              "      <td>parda</td>\n",
              "      <td>brasileiro</td>\n",
              "      <td>2</td>\n",
              "      <td>publica</td>\n",
              "      <td>35904958.0</td>\n",
              "      <td>São Bernardo do Campo</td>\n",
              "      <td>1</td>\n",
              "      <td>1</td>\n",
              "      <td>1</td>\n",
              "      <td>1</td>\n",
              "      <td>402.2</td>\n",
              "      <td>424.8</td>\n",
              "      <td>509.6</td>\n",
              "      <td>393.2</td>\n",
              "      <td>espanhol</td>\n",
              "      <td>1.0</td>\n",
              "      <td>80.0</td>\n",
              "      <td>160.0</td>\n",
              "      <td>120.0</td>\n",
              "      <td>100.0</td>\n",
              "      <td>100.0</td>\n",
              "      <td>560.0</td>\n",
              "      <td>sim</td>\n",
              "    </tr>\n",
              "    <tr>\n",
              "      <th>3</th>\n",
              "      <td>1,90E+11</td>\n",
              "      <td>Embu-Guaçu</td>\n",
              "      <td>17</td>\n",
              "      <td>F</td>\n",
              "      <td>solterio</td>\n",
              "      <td>parda</td>\n",
              "      <td>brasileiro</td>\n",
              "      <td>2</td>\n",
              "      <td>publica</td>\n",
              "      <td>NaN</td>\n",
              "      <td>NaN</td>\n",
              "      <td>1</td>\n",
              "      <td>1</td>\n",
              "      <td>1</td>\n",
              "      <td>1</td>\n",
              "      <td>399.6</td>\n",
              "      <td>426.8</td>\n",
              "      <td>487.2</td>\n",
              "      <td>419.2</td>\n",
              "      <td>ingles</td>\n",
              "      <td>1.0</td>\n",
              "      <td>120.0</td>\n",
              "      <td>120.0</td>\n",
              "      <td>120.0</td>\n",
              "      <td>120.0</td>\n",
              "      <td>80.0</td>\n",
              "      <td>560.0</td>\n",
              "      <td>sim</td>\n",
              "    </tr>\n",
              "    <tr>\n",
              "      <th>4</th>\n",
              "      <td>1,90E+11</td>\n",
              "      <td>Guarulhos</td>\n",
              "      <td>23</td>\n",
              "      <td>F</td>\n",
              "      <td>solterio</td>\n",
              "      <td>branca</td>\n",
              "      <td>brasileiro</td>\n",
              "      <td>1</td>\n",
              "      <td>nao_respondeu</td>\n",
              "      <td>NaN</td>\n",
              "      <td>NaN</td>\n",
              "      <td>1</td>\n",
              "      <td>1</td>\n",
              "      <td>1</td>\n",
              "      <td>1</td>\n",
              "      <td>625.7</td>\n",
              "      <td>646.5</td>\n",
              "      <td>629.3</td>\n",
              "      <td>796.1</td>\n",
              "      <td>ingles</td>\n",
              "      <td>1.0</td>\n",
              "      <td>160.0</td>\n",
              "      <td>200.0</td>\n",
              "      <td>180.0</td>\n",
              "      <td>180.0</td>\n",
              "      <td>160.0</td>\n",
              "      <td>880.0</td>\n",
              "      <td>sim</td>\n",
              "    </tr>\n",
              "  </tbody>\n",
              "</table>\n",
              "</div>\n",
              "      <button class=\"colab-df-convert\" onclick=\"convertToInteractive('df-e165f040-f0af-4f2e-a3d0-0e30c14bf149')\"\n",
              "              title=\"Convert this dataframe to an interactive table.\"\n",
              "              style=\"display:none;\">\n",
              "        \n",
              "  <svg xmlns=\"http://www.w3.org/2000/svg\" height=\"24px\"viewBox=\"0 0 24 24\"\n",
              "       width=\"24px\">\n",
              "    <path d=\"M0 0h24v24H0V0z\" fill=\"none\"/>\n",
              "    <path d=\"M18.56 5.44l.94 2.06.94-2.06 2.06-.94-2.06-.94-.94-2.06-.94 2.06-2.06.94zm-11 1L8.5 8.5l.94-2.06 2.06-.94-2.06-.94L8.5 2.5l-.94 2.06-2.06.94zm10 10l.94 2.06.94-2.06 2.06-.94-2.06-.94-.94-2.06-.94 2.06-2.06.94z\"/><path d=\"M17.41 7.96l-1.37-1.37c-.4-.4-.92-.59-1.43-.59-.52 0-1.04.2-1.43.59L10.3 9.45l-7.72 7.72c-.78.78-.78 2.05 0 2.83L4 21.41c.39.39.9.59 1.41.59.51 0 1.02-.2 1.41-.59l7.78-7.78 2.81-2.81c.8-.78.8-2.07 0-2.86zM5.41 20L4 18.59l7.72-7.72 1.47 1.35L5.41 20z\"/>\n",
              "  </svg>\n",
              "      </button>\n",
              "      \n",
              "  <style>\n",
              "    .colab-df-container {\n",
              "      display:flex;\n",
              "      flex-wrap:wrap;\n",
              "      gap: 12px;\n",
              "    }\n",
              "\n",
              "    .colab-df-convert {\n",
              "      background-color: #E8F0FE;\n",
              "      border: none;\n",
              "      border-radius: 50%;\n",
              "      cursor: pointer;\n",
              "      display: none;\n",
              "      fill: #1967D2;\n",
              "      height: 32px;\n",
              "      padding: 0 0 0 0;\n",
              "      width: 32px;\n",
              "    }\n",
              "\n",
              "    .colab-df-convert:hover {\n",
              "      background-color: #E2EBFA;\n",
              "      box-shadow: 0px 1px 2px rgba(60, 64, 67, 0.3), 0px 1px 3px 1px rgba(60, 64, 67, 0.15);\n",
              "      fill: #174EA6;\n",
              "    }\n",
              "\n",
              "    [theme=dark] .colab-df-convert {\n",
              "      background-color: #3B4455;\n",
              "      fill: #D2E3FC;\n",
              "    }\n",
              "\n",
              "    [theme=dark] .colab-df-convert:hover {\n",
              "      background-color: #434B5C;\n",
              "      box-shadow: 0px 1px 3px 1px rgba(0, 0, 0, 0.15);\n",
              "      filter: drop-shadow(0px 1px 2px rgba(0, 0, 0, 0.3));\n",
              "      fill: #FFFFFF;\n",
              "    }\n",
              "  </style>\n",
              "\n",
              "      <script>\n",
              "        const buttonEl =\n",
              "          document.querySelector('#df-e165f040-f0af-4f2e-a3d0-0e30c14bf149 button.colab-df-convert');\n",
              "        buttonEl.style.display =\n",
              "          google.colab.kernel.accessAllowed ? 'block' : 'none';\n",
              "\n",
              "        async function convertToInteractive(key) {\n",
              "          const element = document.querySelector('#df-e165f040-f0af-4f2e-a3d0-0e30c14bf149');\n",
              "          const dataTable =\n",
              "            await google.colab.kernel.invokeFunction('convertToInteractive',\n",
              "                                                     [key], {});\n",
              "          if (!dataTable) return;\n",
              "\n",
              "          const docLinkHtml = 'Like what you see? Visit the ' +\n",
              "            '<a target=\"_blank\" href=https://colab.research.google.com/notebooks/data_table.ipynb>data table notebook</a>'\n",
              "            + ' to learn more about interactive tables.';\n",
              "          element.innerHTML = '';\n",
              "          dataTable['output_type'] = 'display_data';\n",
              "          await google.colab.output.renderOutput(dataTable, element);\n",
              "          const docLink = document.createElement('div');\n",
              "          docLink.innerHTML = docLinkHtml;\n",
              "          element.appendChild(docLink);\n",
              "        }\n",
              "      </script>\n",
              "    </div>\n",
              "  </div>\n",
              "  "
            ]
          },
          "metadata": {},
          "execution_count": 114
        }
      ]
    },
    {
      "cell_type": "code",
      "source": [
        "#Para essa análise usarei apenas os vestibulandos de Campinas\n",
        "df_campinas = df.loc[df.NO_MUNICIPIO_RESIDENCIA == 'Campinas']"
      ],
      "metadata": {
        "id": "OOeLw_LTMTNF"
      },
      "execution_count": 115,
      "outputs": []
    },
    {
      "cell_type": "code",
      "source": [
        "#verificando se ficou listado apenas o município de Campinas\n",
        "df_campinas['NO_MUNICIPIO_RESIDENCIA'].unique()"
      ],
      "metadata": {
        "id": "--rGANaQMyyI",
        "colab": {
          "base_uri": "https://localhost:8080/"
        },
        "outputId": "6aa095a7-6ba8-469c-aa57-ca995cc88f8b"
      },
      "execution_count": 116,
      "outputs": [
        {
          "output_type": "execute_result",
          "data": {
            "text/plain": [
              "array(['Campinas'], dtype=object)"
            ]
          },
          "metadata": {},
          "execution_count": 116
        }
      ]
    },
    {
      "cell_type": "code",
      "source": [
        "#Verificando a quantidade de classificados Enem 2019 em Campinas\n",
        "df_campinas.shape"
      ],
      "metadata": {
        "id": "TRVO0qwuOcNo",
        "colab": {
          "base_uri": "https://localhost:8080/"
        },
        "outputId": "994cbe9c-ec70-4ed5-dd23-c60847bc90b1"
      },
      "execution_count": 117,
      "outputs": [
        {
          "output_type": "execute_result",
          "data": {
            "text/plain": [
              "(13198, 28)"
            ]
          },
          "metadata": {},
          "execution_count": 117
        }
      ]
    },
    {
      "cell_type": "markdown",
      "source": [
        "##Amostragem Aleatória Simples\n",
        "Seleção executada por meio de sorteio, sem nenhum filtro\n"
      ],
      "metadata": {
        "id": "As3AhfmfQW0l"
      }
    },
    {
      "cell_type": "code",
      "source": [
        "#Gerando semente aleatória(caso queira sempre uma nova amostra, deixar o parênteses vazio)\n",
        "np.random.seed(1)"
      ],
      "metadata": {
        "id": "PAUxYQ3OQnZu"
      },
      "execution_count": 118,
      "outputs": []
    },
    {
      "cell_type": "code",
      "source": [
        "#Gerando df de com amostra de 20% do df_campinas\n",
        "dfa1_simples = df_campinas.sample(frac=0.20)"
      ],
      "metadata": {
        "id": "GNKo4i4e9bLL"
      },
      "execution_count": 119,
      "outputs": []
    },
    {
      "cell_type": "code",
      "source": [
        "#Veridicando se está correto\n",
        "dfa1_simples.shape"
      ],
      "metadata": {
        "id": "6VXtKwmE9tpM",
        "colab": {
          "base_uri": "https://localhost:8080/"
        },
        "outputId": "74932d88-f36f-4069-9353-03908fa093d0"
      },
      "execution_count": 120,
      "outputs": [
        {
          "output_type": "execute_result",
          "data": {
            "text/plain": [
              "(2640, 28)"
            ]
          },
          "metadata": {},
          "execution_count": 120
        }
      ]
    },
    {
      "cell_type": "code",
      "source": [
        "dfa1_simples.tail(3)"
      ],
      "metadata": {
        "id": "M58IuFqWAmUb",
        "colab": {
          "base_uri": "https://localhost:8080/",
          "height": 0
        },
        "outputId": "da5c21e9-9b5b-410a-bbd8-a8d834a7c5be"
      },
      "execution_count": 121,
      "outputs": [
        {
          "output_type": "execute_result",
          "data": {
            "text/plain": [
              "       NU_INSCRICAO NO_MUNICIPIO_RESIDENCIA  IDADE SEXO TP_ESTADO_CIVIL  \\\n",
              "221397     1,90E+11                Campinas     19    F        solterio   \n",
              "76628      1,90E+11                Campinas     17    M   nao_informado   \n",
              "126402     1,90E+11                Campinas     17    F        solterio   \n",
              "\n",
              "          RACA TP_NACIONALIDADE  TP_ST_CONCLUSAO         ESCOLA   CO_ESCOLA  \\\n",
              "221397  branca       brasileiro                1  nao_respondeu         NaN   \n",
              "76628   branca       brasileiro                2        publica  35018797.0   \n",
              "126402   parda       brasileiro                2        publica  35039901.0   \n",
              "\n",
              "       NO_MUNICIPIO_ESC  TP_PRESENCA_CN  TP_PRESENCA_CH  TP_PRESENCA_LC  \\\n",
              "221397              NaN               1               1               1   \n",
              "76628          Campinas               1               1               1   \n",
              "126402         Campinas               1               1               1   \n",
              "\n",
              "        TP_PRESENCA_MT  NOTA_CN  NOTA_CH  NOTA_LC  NOTA_MT TP_LINGUA  \\\n",
              "221397               1    471.3    561.1    591.8    524.8  espanhol   \n",
              "76628                1    559.5    559.8    560.5    649.7    ingles   \n",
              "126402               1    471.8    507.5    525.4    376.6  espanhol   \n",
              "\n",
              "        TP_STATUS_REDACAO  COMP1  COMP2  COMP3  COMP4  COMP5  NOTA_REDACAO  \\\n",
              "221397                1.0  120.0  120.0  120.0  120.0  100.0         580.0   \n",
              "76628                 1.0  120.0  120.0  120.0  120.0   80.0         560.0   \n",
              "126402                1.0  120.0  160.0  140.0  120.0  140.0         680.0   \n",
              "\n",
              "       INTERNET  \n",
              "221397      sim  \n",
              "76628       sim  \n",
              "126402      sim  "
            ],
            "text/html": [
              "\n",
              "  <div id=\"df-f7825ac9-1c57-4371-9a08-9e2354f1624b\">\n",
              "    <div class=\"colab-df-container\">\n",
              "      <div>\n",
              "<style scoped>\n",
              "    .dataframe tbody tr th:only-of-type {\n",
              "        vertical-align: middle;\n",
              "    }\n",
              "\n",
              "    .dataframe tbody tr th {\n",
              "        vertical-align: top;\n",
              "    }\n",
              "\n",
              "    .dataframe thead th {\n",
              "        text-align: right;\n",
              "    }\n",
              "</style>\n",
              "<table border=\"1\" class=\"dataframe\">\n",
              "  <thead>\n",
              "    <tr style=\"text-align: right;\">\n",
              "      <th></th>\n",
              "      <th>NU_INSCRICAO</th>\n",
              "      <th>NO_MUNICIPIO_RESIDENCIA</th>\n",
              "      <th>IDADE</th>\n",
              "      <th>SEXO</th>\n",
              "      <th>TP_ESTADO_CIVIL</th>\n",
              "      <th>RACA</th>\n",
              "      <th>TP_NACIONALIDADE</th>\n",
              "      <th>TP_ST_CONCLUSAO</th>\n",
              "      <th>ESCOLA</th>\n",
              "      <th>CO_ESCOLA</th>\n",
              "      <th>NO_MUNICIPIO_ESC</th>\n",
              "      <th>TP_PRESENCA_CN</th>\n",
              "      <th>TP_PRESENCA_CH</th>\n",
              "      <th>TP_PRESENCA_LC</th>\n",
              "      <th>TP_PRESENCA_MT</th>\n",
              "      <th>NOTA_CN</th>\n",
              "      <th>NOTA_CH</th>\n",
              "      <th>NOTA_LC</th>\n",
              "      <th>NOTA_MT</th>\n",
              "      <th>TP_LINGUA</th>\n",
              "      <th>TP_STATUS_REDACAO</th>\n",
              "      <th>COMP1</th>\n",
              "      <th>COMP2</th>\n",
              "      <th>COMP3</th>\n",
              "      <th>COMP4</th>\n",
              "      <th>COMP5</th>\n",
              "      <th>NOTA_REDACAO</th>\n",
              "      <th>INTERNET</th>\n",
              "    </tr>\n",
              "  </thead>\n",
              "  <tbody>\n",
              "    <tr>\n",
              "      <th>221397</th>\n",
              "      <td>1,90E+11</td>\n",
              "      <td>Campinas</td>\n",
              "      <td>19</td>\n",
              "      <td>F</td>\n",
              "      <td>solterio</td>\n",
              "      <td>branca</td>\n",
              "      <td>brasileiro</td>\n",
              "      <td>1</td>\n",
              "      <td>nao_respondeu</td>\n",
              "      <td>NaN</td>\n",
              "      <td>NaN</td>\n",
              "      <td>1</td>\n",
              "      <td>1</td>\n",
              "      <td>1</td>\n",
              "      <td>1</td>\n",
              "      <td>471.3</td>\n",
              "      <td>561.1</td>\n",
              "      <td>591.8</td>\n",
              "      <td>524.8</td>\n",
              "      <td>espanhol</td>\n",
              "      <td>1.0</td>\n",
              "      <td>120.0</td>\n",
              "      <td>120.0</td>\n",
              "      <td>120.0</td>\n",
              "      <td>120.0</td>\n",
              "      <td>100.0</td>\n",
              "      <td>580.0</td>\n",
              "      <td>sim</td>\n",
              "    </tr>\n",
              "    <tr>\n",
              "      <th>76628</th>\n",
              "      <td>1,90E+11</td>\n",
              "      <td>Campinas</td>\n",
              "      <td>17</td>\n",
              "      <td>M</td>\n",
              "      <td>nao_informado</td>\n",
              "      <td>branca</td>\n",
              "      <td>brasileiro</td>\n",
              "      <td>2</td>\n",
              "      <td>publica</td>\n",
              "      <td>35018797.0</td>\n",
              "      <td>Campinas</td>\n",
              "      <td>1</td>\n",
              "      <td>1</td>\n",
              "      <td>1</td>\n",
              "      <td>1</td>\n",
              "      <td>559.5</td>\n",
              "      <td>559.8</td>\n",
              "      <td>560.5</td>\n",
              "      <td>649.7</td>\n",
              "      <td>ingles</td>\n",
              "      <td>1.0</td>\n",
              "      <td>120.0</td>\n",
              "      <td>120.0</td>\n",
              "      <td>120.0</td>\n",
              "      <td>120.0</td>\n",
              "      <td>80.0</td>\n",
              "      <td>560.0</td>\n",
              "      <td>sim</td>\n",
              "    </tr>\n",
              "    <tr>\n",
              "      <th>126402</th>\n",
              "      <td>1,90E+11</td>\n",
              "      <td>Campinas</td>\n",
              "      <td>17</td>\n",
              "      <td>F</td>\n",
              "      <td>solterio</td>\n",
              "      <td>parda</td>\n",
              "      <td>brasileiro</td>\n",
              "      <td>2</td>\n",
              "      <td>publica</td>\n",
              "      <td>35039901.0</td>\n",
              "      <td>Campinas</td>\n",
              "      <td>1</td>\n",
              "      <td>1</td>\n",
              "      <td>1</td>\n",
              "      <td>1</td>\n",
              "      <td>471.8</td>\n",
              "      <td>507.5</td>\n",
              "      <td>525.4</td>\n",
              "      <td>376.6</td>\n",
              "      <td>espanhol</td>\n",
              "      <td>1.0</td>\n",
              "      <td>120.0</td>\n",
              "      <td>160.0</td>\n",
              "      <td>140.0</td>\n",
              "      <td>120.0</td>\n",
              "      <td>140.0</td>\n",
              "      <td>680.0</td>\n",
              "      <td>sim</td>\n",
              "    </tr>\n",
              "  </tbody>\n",
              "</table>\n",
              "</div>\n",
              "      <button class=\"colab-df-convert\" onclick=\"convertToInteractive('df-f7825ac9-1c57-4371-9a08-9e2354f1624b')\"\n",
              "              title=\"Convert this dataframe to an interactive table.\"\n",
              "              style=\"display:none;\">\n",
              "        \n",
              "  <svg xmlns=\"http://www.w3.org/2000/svg\" height=\"24px\"viewBox=\"0 0 24 24\"\n",
              "       width=\"24px\">\n",
              "    <path d=\"M0 0h24v24H0V0z\" fill=\"none\"/>\n",
              "    <path d=\"M18.56 5.44l.94 2.06.94-2.06 2.06-.94-2.06-.94-.94-2.06-.94 2.06-2.06.94zm-11 1L8.5 8.5l.94-2.06 2.06-.94-2.06-.94L8.5 2.5l-.94 2.06-2.06.94zm10 10l.94 2.06.94-2.06 2.06-.94-2.06-.94-.94-2.06-.94 2.06-2.06.94z\"/><path d=\"M17.41 7.96l-1.37-1.37c-.4-.4-.92-.59-1.43-.59-.52 0-1.04.2-1.43.59L10.3 9.45l-7.72 7.72c-.78.78-.78 2.05 0 2.83L4 21.41c.39.39.9.59 1.41.59.51 0 1.02-.2 1.41-.59l7.78-7.78 2.81-2.81c.8-.78.8-2.07 0-2.86zM5.41 20L4 18.59l7.72-7.72 1.47 1.35L5.41 20z\"/>\n",
              "  </svg>\n",
              "      </button>\n",
              "      \n",
              "  <style>\n",
              "    .colab-df-container {\n",
              "      display:flex;\n",
              "      flex-wrap:wrap;\n",
              "      gap: 12px;\n",
              "    }\n",
              "\n",
              "    .colab-df-convert {\n",
              "      background-color: #E8F0FE;\n",
              "      border: none;\n",
              "      border-radius: 50%;\n",
              "      cursor: pointer;\n",
              "      display: none;\n",
              "      fill: #1967D2;\n",
              "      height: 32px;\n",
              "      padding: 0 0 0 0;\n",
              "      width: 32px;\n",
              "    }\n",
              "\n",
              "    .colab-df-convert:hover {\n",
              "      background-color: #E2EBFA;\n",
              "      box-shadow: 0px 1px 2px rgba(60, 64, 67, 0.3), 0px 1px 3px 1px rgba(60, 64, 67, 0.15);\n",
              "      fill: #174EA6;\n",
              "    }\n",
              "\n",
              "    [theme=dark] .colab-df-convert {\n",
              "      background-color: #3B4455;\n",
              "      fill: #D2E3FC;\n",
              "    }\n",
              "\n",
              "    [theme=dark] .colab-df-convert:hover {\n",
              "      background-color: #434B5C;\n",
              "      box-shadow: 0px 1px 3px 1px rgba(0, 0, 0, 0.15);\n",
              "      filter: drop-shadow(0px 1px 2px rgba(0, 0, 0, 0.3));\n",
              "      fill: #FFFFFF;\n",
              "    }\n",
              "  </style>\n",
              "\n",
              "      <script>\n",
              "        const buttonEl =\n",
              "          document.querySelector('#df-f7825ac9-1c57-4371-9a08-9e2354f1624b button.colab-df-convert');\n",
              "        buttonEl.style.display =\n",
              "          google.colab.kernel.accessAllowed ? 'block' : 'none';\n",
              "\n",
              "        async function convertToInteractive(key) {\n",
              "          const element = document.querySelector('#df-f7825ac9-1c57-4371-9a08-9e2354f1624b');\n",
              "          const dataTable =\n",
              "            await google.colab.kernel.invokeFunction('convertToInteractive',\n",
              "                                                     [key], {});\n",
              "          if (!dataTable) return;\n",
              "\n",
              "          const docLinkHtml = 'Like what you see? Visit the ' +\n",
              "            '<a target=\"_blank\" href=https://colab.research.google.com/notebooks/data_table.ipynb>data table notebook</a>'\n",
              "            + ' to learn more about interactive tables.';\n",
              "          element.innerHTML = '';\n",
              "          dataTable['output_type'] = 'display_data';\n",
              "          await google.colab.output.renderOutput(dataTable, element);\n",
              "          const docLink = document.createElement('div');\n",
              "          docLink.innerHTML = docLinkHtml;\n",
              "          element.appendChild(docLink);\n",
              "        }\n",
              "      </script>\n",
              "    </div>\n",
              "  </div>\n",
              "  "
            ]
          },
          "metadata": {},
          "execution_count": 121
        }
      ]
    },
    {
      "cell_type": "markdown",
      "source": [
        "Está ok. Temos então uma amostra aleatória de 20% dos dados dos vestibulando enem2019 de Campinas"
      ],
      "metadata": {
        "id": "07W7q_9a_BBX"
      }
    },
    {
      "cell_type": "code",
      "source": [
        "#Agora, selecionando aleatoriamente 3000 registros\n",
        "dfa2_simples = df_campinas.sample(3000)"
      ],
      "metadata": {
        "id": "MbGQX8OZ-nxf"
      },
      "execution_count": 122,
      "outputs": []
    },
    {
      "cell_type": "code",
      "source": [
        "#Verificando se está correto\n",
        "dfa2_simples.shape"
      ],
      "metadata": {
        "id": "bK-PNn0yBwVo",
        "colab": {
          "base_uri": "https://localhost:8080/"
        },
        "outputId": "c1d06eb5-2cef-4807-de22-5f889d3edfc2"
      },
      "execution_count": 123,
      "outputs": [
        {
          "output_type": "execute_result",
          "data": {
            "text/plain": [
              "(3000, 28)"
            ]
          },
          "metadata": {},
          "execution_count": 123
        }
      ]
    },
    {
      "cell_type": "code",
      "source": [
        "dfa2_simples.tail(3)"
      ],
      "metadata": {
        "id": "W9Fb-6RRB-FK",
        "colab": {
          "base_uri": "https://localhost:8080/",
          "height": 0
        },
        "outputId": "a0a0e23e-6451-4c4f-fc48-387c45f29023"
      },
      "execution_count": 124,
      "outputs": [
        {
          "output_type": "execute_result",
          "data": {
            "text/plain": [
              "       NU_INSCRICAO NO_MUNICIPIO_RESIDENCIA  IDADE SEXO TP_ESTADO_CIVIL  \\\n",
              "467039     1,90E+11                Campinas     17    F        solterio   \n",
              "189967     1,90E+11                Campinas     19    F        solterio   \n",
              "282921     1,90E+11                Campinas     18    F        solterio   \n",
              "\n",
              "         RACA TP_NACIONALIDADE  TP_ST_CONCLUSAO         ESCOLA   CO_ESCOLA  \\\n",
              "467039  preta       brasileiro                2        publica         NaN   \n",
              "189967  parda       brasileiro                1  nao_respondeu         NaN   \n",
              "282921  parda       brasileiro                2        publica  35812900.0   \n",
              "\n",
              "       NO_MUNICIPIO_ESC  TP_PRESENCA_CN  TP_PRESENCA_CH  TP_PRESENCA_LC  \\\n",
              "467039              NaN               1               1               1   \n",
              "189967              NaN               1               1               1   \n",
              "282921         Campinas               1               1               1   \n",
              "\n",
              "        TP_PRESENCA_MT  NOTA_CN  NOTA_CH  NOTA_LC  NOTA_MT TP_LINGUA  \\\n",
              "467039               1    456.8    432.9    520.3    382.6    ingles   \n",
              "189967               1    409.1     55.6     51.6    455.1  espanhol   \n",
              "282921               1    459.3    412.3    533.6    511.2    ingles   \n",
              "\n",
              "        TP_STATUS_REDACAO  COMP1  COMP2  COMP3  COMP4  COMP5  NOTA_REDACAO  \\\n",
              "467039                1.0   80.0  120.0  100.0  100.0  100.0         500.0   \n",
              "189967                1.0  100.0  140.0  120.0  140.0  120.0         620.0   \n",
              "282921                1.0  120.0  140.0  120.0  140.0  140.0         660.0   \n",
              "\n",
              "       INTERNET  \n",
              "467039      sim  \n",
              "189967      nao  \n",
              "282921      sim  "
            ],
            "text/html": [
              "\n",
              "  <div id=\"df-c4082a04-6e8b-4070-b088-052c91e6a8d5\">\n",
              "    <div class=\"colab-df-container\">\n",
              "      <div>\n",
              "<style scoped>\n",
              "    .dataframe tbody tr th:only-of-type {\n",
              "        vertical-align: middle;\n",
              "    }\n",
              "\n",
              "    .dataframe tbody tr th {\n",
              "        vertical-align: top;\n",
              "    }\n",
              "\n",
              "    .dataframe thead th {\n",
              "        text-align: right;\n",
              "    }\n",
              "</style>\n",
              "<table border=\"1\" class=\"dataframe\">\n",
              "  <thead>\n",
              "    <tr style=\"text-align: right;\">\n",
              "      <th></th>\n",
              "      <th>NU_INSCRICAO</th>\n",
              "      <th>NO_MUNICIPIO_RESIDENCIA</th>\n",
              "      <th>IDADE</th>\n",
              "      <th>SEXO</th>\n",
              "      <th>TP_ESTADO_CIVIL</th>\n",
              "      <th>RACA</th>\n",
              "      <th>TP_NACIONALIDADE</th>\n",
              "      <th>TP_ST_CONCLUSAO</th>\n",
              "      <th>ESCOLA</th>\n",
              "      <th>CO_ESCOLA</th>\n",
              "      <th>NO_MUNICIPIO_ESC</th>\n",
              "      <th>TP_PRESENCA_CN</th>\n",
              "      <th>TP_PRESENCA_CH</th>\n",
              "      <th>TP_PRESENCA_LC</th>\n",
              "      <th>TP_PRESENCA_MT</th>\n",
              "      <th>NOTA_CN</th>\n",
              "      <th>NOTA_CH</th>\n",
              "      <th>NOTA_LC</th>\n",
              "      <th>NOTA_MT</th>\n",
              "      <th>TP_LINGUA</th>\n",
              "      <th>TP_STATUS_REDACAO</th>\n",
              "      <th>COMP1</th>\n",
              "      <th>COMP2</th>\n",
              "      <th>COMP3</th>\n",
              "      <th>COMP4</th>\n",
              "      <th>COMP5</th>\n",
              "      <th>NOTA_REDACAO</th>\n",
              "      <th>INTERNET</th>\n",
              "    </tr>\n",
              "  </thead>\n",
              "  <tbody>\n",
              "    <tr>\n",
              "      <th>467039</th>\n",
              "      <td>1,90E+11</td>\n",
              "      <td>Campinas</td>\n",
              "      <td>17</td>\n",
              "      <td>F</td>\n",
              "      <td>solterio</td>\n",
              "      <td>preta</td>\n",
              "      <td>brasileiro</td>\n",
              "      <td>2</td>\n",
              "      <td>publica</td>\n",
              "      <td>NaN</td>\n",
              "      <td>NaN</td>\n",
              "      <td>1</td>\n",
              "      <td>1</td>\n",
              "      <td>1</td>\n",
              "      <td>1</td>\n",
              "      <td>456.8</td>\n",
              "      <td>432.9</td>\n",
              "      <td>520.3</td>\n",
              "      <td>382.6</td>\n",
              "      <td>ingles</td>\n",
              "      <td>1.0</td>\n",
              "      <td>80.0</td>\n",
              "      <td>120.0</td>\n",
              "      <td>100.0</td>\n",
              "      <td>100.0</td>\n",
              "      <td>100.0</td>\n",
              "      <td>500.0</td>\n",
              "      <td>sim</td>\n",
              "    </tr>\n",
              "    <tr>\n",
              "      <th>189967</th>\n",
              "      <td>1,90E+11</td>\n",
              "      <td>Campinas</td>\n",
              "      <td>19</td>\n",
              "      <td>F</td>\n",
              "      <td>solterio</td>\n",
              "      <td>parda</td>\n",
              "      <td>brasileiro</td>\n",
              "      <td>1</td>\n",
              "      <td>nao_respondeu</td>\n",
              "      <td>NaN</td>\n",
              "      <td>NaN</td>\n",
              "      <td>1</td>\n",
              "      <td>1</td>\n",
              "      <td>1</td>\n",
              "      <td>1</td>\n",
              "      <td>409.1</td>\n",
              "      <td>55.6</td>\n",
              "      <td>51.6</td>\n",
              "      <td>455.1</td>\n",
              "      <td>espanhol</td>\n",
              "      <td>1.0</td>\n",
              "      <td>100.0</td>\n",
              "      <td>140.0</td>\n",
              "      <td>120.0</td>\n",
              "      <td>140.0</td>\n",
              "      <td>120.0</td>\n",
              "      <td>620.0</td>\n",
              "      <td>nao</td>\n",
              "    </tr>\n",
              "    <tr>\n",
              "      <th>282921</th>\n",
              "      <td>1,90E+11</td>\n",
              "      <td>Campinas</td>\n",
              "      <td>18</td>\n",
              "      <td>F</td>\n",
              "      <td>solterio</td>\n",
              "      <td>parda</td>\n",
              "      <td>brasileiro</td>\n",
              "      <td>2</td>\n",
              "      <td>publica</td>\n",
              "      <td>35812900.0</td>\n",
              "      <td>Campinas</td>\n",
              "      <td>1</td>\n",
              "      <td>1</td>\n",
              "      <td>1</td>\n",
              "      <td>1</td>\n",
              "      <td>459.3</td>\n",
              "      <td>412.3</td>\n",
              "      <td>533.6</td>\n",
              "      <td>511.2</td>\n",
              "      <td>ingles</td>\n",
              "      <td>1.0</td>\n",
              "      <td>120.0</td>\n",
              "      <td>140.0</td>\n",
              "      <td>120.0</td>\n",
              "      <td>140.0</td>\n",
              "      <td>140.0</td>\n",
              "      <td>660.0</td>\n",
              "      <td>sim</td>\n",
              "    </tr>\n",
              "  </tbody>\n",
              "</table>\n",
              "</div>\n",
              "      <button class=\"colab-df-convert\" onclick=\"convertToInteractive('df-c4082a04-6e8b-4070-b088-052c91e6a8d5')\"\n",
              "              title=\"Convert this dataframe to an interactive table.\"\n",
              "              style=\"display:none;\">\n",
              "        \n",
              "  <svg xmlns=\"http://www.w3.org/2000/svg\" height=\"24px\"viewBox=\"0 0 24 24\"\n",
              "       width=\"24px\">\n",
              "    <path d=\"M0 0h24v24H0V0z\" fill=\"none\"/>\n",
              "    <path d=\"M18.56 5.44l.94 2.06.94-2.06 2.06-.94-2.06-.94-.94-2.06-.94 2.06-2.06.94zm-11 1L8.5 8.5l.94-2.06 2.06-.94-2.06-.94L8.5 2.5l-.94 2.06-2.06.94zm10 10l.94 2.06.94-2.06 2.06-.94-2.06-.94-.94-2.06-.94 2.06-2.06.94z\"/><path d=\"M17.41 7.96l-1.37-1.37c-.4-.4-.92-.59-1.43-.59-.52 0-1.04.2-1.43.59L10.3 9.45l-7.72 7.72c-.78.78-.78 2.05 0 2.83L4 21.41c.39.39.9.59 1.41.59.51 0 1.02-.2 1.41-.59l7.78-7.78 2.81-2.81c.8-.78.8-2.07 0-2.86zM5.41 20L4 18.59l7.72-7.72 1.47 1.35L5.41 20z\"/>\n",
              "  </svg>\n",
              "      </button>\n",
              "      \n",
              "  <style>\n",
              "    .colab-df-container {\n",
              "      display:flex;\n",
              "      flex-wrap:wrap;\n",
              "      gap: 12px;\n",
              "    }\n",
              "\n",
              "    .colab-df-convert {\n",
              "      background-color: #E8F0FE;\n",
              "      border: none;\n",
              "      border-radius: 50%;\n",
              "      cursor: pointer;\n",
              "      display: none;\n",
              "      fill: #1967D2;\n",
              "      height: 32px;\n",
              "      padding: 0 0 0 0;\n",
              "      width: 32px;\n",
              "    }\n",
              "\n",
              "    .colab-df-convert:hover {\n",
              "      background-color: #E2EBFA;\n",
              "      box-shadow: 0px 1px 2px rgba(60, 64, 67, 0.3), 0px 1px 3px 1px rgba(60, 64, 67, 0.15);\n",
              "      fill: #174EA6;\n",
              "    }\n",
              "\n",
              "    [theme=dark] .colab-df-convert {\n",
              "      background-color: #3B4455;\n",
              "      fill: #D2E3FC;\n",
              "    }\n",
              "\n",
              "    [theme=dark] .colab-df-convert:hover {\n",
              "      background-color: #434B5C;\n",
              "      box-shadow: 0px 1px 3px 1px rgba(0, 0, 0, 0.15);\n",
              "      filter: drop-shadow(0px 1px 2px rgba(0, 0, 0, 0.3));\n",
              "      fill: #FFFFFF;\n",
              "    }\n",
              "  </style>\n",
              "\n",
              "      <script>\n",
              "        const buttonEl =\n",
              "          document.querySelector('#df-c4082a04-6e8b-4070-b088-052c91e6a8d5 button.colab-df-convert');\n",
              "        buttonEl.style.display =\n",
              "          google.colab.kernel.accessAllowed ? 'block' : 'none';\n",
              "\n",
              "        async function convertToInteractive(key) {\n",
              "          const element = document.querySelector('#df-c4082a04-6e8b-4070-b088-052c91e6a8d5');\n",
              "          const dataTable =\n",
              "            await google.colab.kernel.invokeFunction('convertToInteractive',\n",
              "                                                     [key], {});\n",
              "          if (!dataTable) return;\n",
              "\n",
              "          const docLinkHtml = 'Like what you see? Visit the ' +\n",
              "            '<a target=\"_blank\" href=https://colab.research.google.com/notebooks/data_table.ipynb>data table notebook</a>'\n",
              "            + ' to learn more about interactive tables.';\n",
              "          element.innerHTML = '';\n",
              "          dataTable['output_type'] = 'display_data';\n",
              "          await google.colab.output.renderOutput(dataTable, element);\n",
              "          const docLink = document.createElement('div');\n",
              "          docLink.innerHTML = docLinkHtml;\n",
              "          element.appendChild(docLink);\n",
              "        }\n",
              "      </script>\n",
              "    </div>\n",
              "  </div>\n",
              "  "
            ]
          },
          "metadata": {},
          "execution_count": 124
        }
      ]
    },
    {
      "cell_type": "markdown",
      "source": [
        "##Amostragem Sistemática\n",
        "Os membros da população são ordenados numericamente e selecionados aleatóriamente, obedecendo uma sequência numérica"
      ],
      "metadata": {
        "id": "dsuJwj37GDnR"
      }
    },
    {
      "cell_type": "markdown",
      "source": [
        "###Range definido pelo pesquisador"
      ],
      "metadata": {
        "id": "IFipoaOoM9gF"
      }
    },
    {
      "cell_type": "code",
      "source": [
        "# Observando a quantidade de registros da população\n",
        "df_campinas.shape"
      ],
      "metadata": {
        "id": "nE5k-hORGYkH",
        "colab": {
          "base_uri": "https://localhost:8080/"
        },
        "outputId": "a67af2d9-16ce-4871-8735-049816a285d6"
      },
      "execution_count": 125,
      "outputs": [
        {
          "output_type": "execute_result",
          "data": {
            "text/plain": [
              "(13198, 28)"
            ]
          },
          "metadata": {},
          "execution_count": 125
        }
      ]
    },
    {
      "cell_type": "code",
      "source": [
        "# Gerando uma semente aleatória para escolher aleatoriamente o número inicial\n",
        "np.random.seed(2)\n",
        "inicio1 = np.random.choice(10,1)"
      ],
      "metadata": {
        "id": "StY6gTohHurm"
      },
      "execution_count": 126,
      "outputs": []
    },
    {
      "cell_type": "code",
      "source": [
        "#Verificando onde irá iniciar\n",
        "inicio1"
      ],
      "metadata": {
        "id": "hKNFlmCeJRaT",
        "colab": {
          "base_uri": "https://localhost:8080/"
        },
        "outputId": "562a04a0-d52a-49d0-bf9a-5feeeb2c79da"
      },
      "execution_count": 127,
      "outputs": [
        {
          "output_type": "execute_result",
          "data": {
            "text/plain": [
              "array([8])"
            ]
          },
          "metadata": {},
          "execution_count": 127
        }
      ]
    },
    {
      "cell_type": "code",
      "source": [
        "# Definindo a lista dos registros com o range e a sequencia escolhida a partir do inicío\n",
        "# farei aqui de 100 em 100 até o ultimo registro a partir do início aleatório\n",
        "amostra2_1 = np.arange(inicio1,13198,100)\n",
        "amostra2_1"
      ],
      "metadata": {
        "id": "6du3IJ5hJxff",
        "colab": {
          "base_uri": "https://localhost:8080/"
        },
        "outputId": "137206f7-1dd0-4023-c37e-c6d1c87cd2f9"
      },
      "execution_count": 128,
      "outputs": [
        {
          "output_type": "execute_result",
          "data": {
            "text/plain": [
              "array([    8,   108,   208,   308,   408,   508,   608,   708,   808,\n",
              "         908,  1008,  1108,  1208,  1308,  1408,  1508,  1608,  1708,\n",
              "        1808,  1908,  2008,  2108,  2208,  2308,  2408,  2508,  2608,\n",
              "        2708,  2808,  2908,  3008,  3108,  3208,  3308,  3408,  3508,\n",
              "        3608,  3708,  3808,  3908,  4008,  4108,  4208,  4308,  4408,\n",
              "        4508,  4608,  4708,  4808,  4908,  5008,  5108,  5208,  5308,\n",
              "        5408,  5508,  5608,  5708,  5808,  5908,  6008,  6108,  6208,\n",
              "        6308,  6408,  6508,  6608,  6708,  6808,  6908,  7008,  7108,\n",
              "        7208,  7308,  7408,  7508,  7608,  7708,  7808,  7908,  8008,\n",
              "        8108,  8208,  8308,  8408,  8508,  8608,  8708,  8808,  8908,\n",
              "        9008,  9108,  9208,  9308,  9408,  9508,  9608,  9708,  9808,\n",
              "        9908, 10008, 10108, 10208, 10308, 10408, 10508, 10608, 10708,\n",
              "       10808, 10908, 11008, 11108, 11208, 11308, 11408, 11508, 11608,\n",
              "       11708, 11808, 11908, 12008, 12108, 12208, 12308, 12408, 12508,\n",
              "       12608, 12708, 12808, 12908, 13008, 13108])"
            ]
          },
          "metadata": {},
          "execution_count": 128
        }
      ]
    },
    {
      "cell_type": "code",
      "source": [
        "# Criando o dataframe com os índices sistemátizados\n",
        "# iloc para localizar por índice; dentro do vetor amostra, \n",
        "# :(para pegar todas as colunas referentes a esse registro)\n",
        "dfa2_sistem = df_campinas.iloc[amostra2_1,:]"
      ],
      "metadata": {
        "id": "gHJj9jizIxKK"
      },
      "execution_count": 129,
      "outputs": []
    },
    {
      "cell_type": "code",
      "source": [
        "dfa2_sistem.shape"
      ],
      "metadata": {
        "id": "kgZQFcxFL-l9",
        "colab": {
          "base_uri": "https://localhost:8080/"
        },
        "outputId": "98eee445-c98e-47d9-9045-4efd6993be2b"
      },
      "execution_count": 130,
      "outputs": [
        {
          "output_type": "execute_result",
          "data": {
            "text/plain": [
              "(132, 28)"
            ]
          },
          "metadata": {},
          "execution_count": 130
        }
      ]
    },
    {
      "cell_type": "code",
      "source": [
        "# Verificando a amostra sistemática\n",
        "dfa2_sistem.head(3)"
      ],
      "metadata": {
        "id": "xCkg_vfrMDVl",
        "colab": {
          "base_uri": "https://localhost:8080/",
          "height": 0
        },
        "outputId": "1ddea4b0-e74e-4b47-ad05-0874a3c55f85"
      },
      "execution_count": 131,
      "outputs": [
        {
          "output_type": "execute_result",
          "data": {
            "text/plain": [
              "     NU_INSCRICAO NO_MUNICIPIO_RESIDENCIA  IDADE SEXO TP_ESTADO_CIVIL    RACA  \\\n",
              "401      1,90E+11                Campinas     18    F        solterio  branca   \n",
              "5079     1,90E+11                Campinas     18    F        solterio  branca   \n",
              "9218     1,90E+11                Campinas     19    F        solterio  branca   \n",
              "\n",
              "     TP_NACIONALIDADE  TP_ST_CONCLUSAO         ESCOLA   CO_ESCOLA  \\\n",
              "401        brasileiro                1  nao_respondeu         NaN   \n",
              "5079       brasileiro                2        publica  35018855.0   \n",
              "9218       brasileiro                1  nao_respondeu         NaN   \n",
              "\n",
              "     NO_MUNICIPIO_ESC  TP_PRESENCA_CN  TP_PRESENCA_CH  TP_PRESENCA_LC  \\\n",
              "401               NaN               1               1               1   \n",
              "5079         Campinas               1               1               1   \n",
              "9218              NaN               1               1               1   \n",
              "\n",
              "      TP_PRESENCA_MT  NOTA_CN  NOTA_CH  NOTA_LC  NOTA_MT TP_LINGUA  \\\n",
              "401                1    614.8    657.2    592.5     68.6    ingles   \n",
              "5079               1    433.1    494.7    505.1    419.9    ingles   \n",
              "9218               1    605.4    593.5    628.8    617.1    ingles   \n",
              "\n",
              "      TP_STATUS_REDACAO  COMP1  COMP2  COMP3  COMP4  COMP5  NOTA_REDACAO  \\\n",
              "401                 1.0  160.0  160.0  180.0  160.0  200.0         860.0   \n",
              "5079                1.0  140.0  120.0  120.0  120.0  140.0         640.0   \n",
              "9218                1.0  120.0  120.0  120.0  120.0  120.0         600.0   \n",
              "\n",
              "     INTERNET  \n",
              "401       sim  \n",
              "5079      sim  \n",
              "9218      sim  "
            ],
            "text/html": [
              "\n",
              "  <div id=\"df-c4eb542b-b717-4f2b-9cb6-ec2f76c782dd\">\n",
              "    <div class=\"colab-df-container\">\n",
              "      <div>\n",
              "<style scoped>\n",
              "    .dataframe tbody tr th:only-of-type {\n",
              "        vertical-align: middle;\n",
              "    }\n",
              "\n",
              "    .dataframe tbody tr th {\n",
              "        vertical-align: top;\n",
              "    }\n",
              "\n",
              "    .dataframe thead th {\n",
              "        text-align: right;\n",
              "    }\n",
              "</style>\n",
              "<table border=\"1\" class=\"dataframe\">\n",
              "  <thead>\n",
              "    <tr style=\"text-align: right;\">\n",
              "      <th></th>\n",
              "      <th>NU_INSCRICAO</th>\n",
              "      <th>NO_MUNICIPIO_RESIDENCIA</th>\n",
              "      <th>IDADE</th>\n",
              "      <th>SEXO</th>\n",
              "      <th>TP_ESTADO_CIVIL</th>\n",
              "      <th>RACA</th>\n",
              "      <th>TP_NACIONALIDADE</th>\n",
              "      <th>TP_ST_CONCLUSAO</th>\n",
              "      <th>ESCOLA</th>\n",
              "      <th>CO_ESCOLA</th>\n",
              "      <th>NO_MUNICIPIO_ESC</th>\n",
              "      <th>TP_PRESENCA_CN</th>\n",
              "      <th>TP_PRESENCA_CH</th>\n",
              "      <th>TP_PRESENCA_LC</th>\n",
              "      <th>TP_PRESENCA_MT</th>\n",
              "      <th>NOTA_CN</th>\n",
              "      <th>NOTA_CH</th>\n",
              "      <th>NOTA_LC</th>\n",
              "      <th>NOTA_MT</th>\n",
              "      <th>TP_LINGUA</th>\n",
              "      <th>TP_STATUS_REDACAO</th>\n",
              "      <th>COMP1</th>\n",
              "      <th>COMP2</th>\n",
              "      <th>COMP3</th>\n",
              "      <th>COMP4</th>\n",
              "      <th>COMP5</th>\n",
              "      <th>NOTA_REDACAO</th>\n",
              "      <th>INTERNET</th>\n",
              "    </tr>\n",
              "  </thead>\n",
              "  <tbody>\n",
              "    <tr>\n",
              "      <th>401</th>\n",
              "      <td>1,90E+11</td>\n",
              "      <td>Campinas</td>\n",
              "      <td>18</td>\n",
              "      <td>F</td>\n",
              "      <td>solterio</td>\n",
              "      <td>branca</td>\n",
              "      <td>brasileiro</td>\n",
              "      <td>1</td>\n",
              "      <td>nao_respondeu</td>\n",
              "      <td>NaN</td>\n",
              "      <td>NaN</td>\n",
              "      <td>1</td>\n",
              "      <td>1</td>\n",
              "      <td>1</td>\n",
              "      <td>1</td>\n",
              "      <td>614.8</td>\n",
              "      <td>657.2</td>\n",
              "      <td>592.5</td>\n",
              "      <td>68.6</td>\n",
              "      <td>ingles</td>\n",
              "      <td>1.0</td>\n",
              "      <td>160.0</td>\n",
              "      <td>160.0</td>\n",
              "      <td>180.0</td>\n",
              "      <td>160.0</td>\n",
              "      <td>200.0</td>\n",
              "      <td>860.0</td>\n",
              "      <td>sim</td>\n",
              "    </tr>\n",
              "    <tr>\n",
              "      <th>5079</th>\n",
              "      <td>1,90E+11</td>\n",
              "      <td>Campinas</td>\n",
              "      <td>18</td>\n",
              "      <td>F</td>\n",
              "      <td>solterio</td>\n",
              "      <td>branca</td>\n",
              "      <td>brasileiro</td>\n",
              "      <td>2</td>\n",
              "      <td>publica</td>\n",
              "      <td>35018855.0</td>\n",
              "      <td>Campinas</td>\n",
              "      <td>1</td>\n",
              "      <td>1</td>\n",
              "      <td>1</td>\n",
              "      <td>1</td>\n",
              "      <td>433.1</td>\n",
              "      <td>494.7</td>\n",
              "      <td>505.1</td>\n",
              "      <td>419.9</td>\n",
              "      <td>ingles</td>\n",
              "      <td>1.0</td>\n",
              "      <td>140.0</td>\n",
              "      <td>120.0</td>\n",
              "      <td>120.0</td>\n",
              "      <td>120.0</td>\n",
              "      <td>140.0</td>\n",
              "      <td>640.0</td>\n",
              "      <td>sim</td>\n",
              "    </tr>\n",
              "    <tr>\n",
              "      <th>9218</th>\n",
              "      <td>1,90E+11</td>\n",
              "      <td>Campinas</td>\n",
              "      <td>19</td>\n",
              "      <td>F</td>\n",
              "      <td>solterio</td>\n",
              "      <td>branca</td>\n",
              "      <td>brasileiro</td>\n",
              "      <td>1</td>\n",
              "      <td>nao_respondeu</td>\n",
              "      <td>NaN</td>\n",
              "      <td>NaN</td>\n",
              "      <td>1</td>\n",
              "      <td>1</td>\n",
              "      <td>1</td>\n",
              "      <td>1</td>\n",
              "      <td>605.4</td>\n",
              "      <td>593.5</td>\n",
              "      <td>628.8</td>\n",
              "      <td>617.1</td>\n",
              "      <td>ingles</td>\n",
              "      <td>1.0</td>\n",
              "      <td>120.0</td>\n",
              "      <td>120.0</td>\n",
              "      <td>120.0</td>\n",
              "      <td>120.0</td>\n",
              "      <td>120.0</td>\n",
              "      <td>600.0</td>\n",
              "      <td>sim</td>\n",
              "    </tr>\n",
              "  </tbody>\n",
              "</table>\n",
              "</div>\n",
              "      <button class=\"colab-df-convert\" onclick=\"convertToInteractive('df-c4eb542b-b717-4f2b-9cb6-ec2f76c782dd')\"\n",
              "              title=\"Convert this dataframe to an interactive table.\"\n",
              "              style=\"display:none;\">\n",
              "        \n",
              "  <svg xmlns=\"http://www.w3.org/2000/svg\" height=\"24px\"viewBox=\"0 0 24 24\"\n",
              "       width=\"24px\">\n",
              "    <path d=\"M0 0h24v24H0V0z\" fill=\"none\"/>\n",
              "    <path d=\"M18.56 5.44l.94 2.06.94-2.06 2.06-.94-2.06-.94-.94-2.06-.94 2.06-2.06.94zm-11 1L8.5 8.5l.94-2.06 2.06-.94-2.06-.94L8.5 2.5l-.94 2.06-2.06.94zm10 10l.94 2.06.94-2.06 2.06-.94-2.06-.94-.94-2.06-.94 2.06-2.06.94z\"/><path d=\"M17.41 7.96l-1.37-1.37c-.4-.4-.92-.59-1.43-.59-.52 0-1.04.2-1.43.59L10.3 9.45l-7.72 7.72c-.78.78-.78 2.05 0 2.83L4 21.41c.39.39.9.59 1.41.59.51 0 1.02-.2 1.41-.59l7.78-7.78 2.81-2.81c.8-.78.8-2.07 0-2.86zM5.41 20L4 18.59l7.72-7.72 1.47 1.35L5.41 20z\"/>\n",
              "  </svg>\n",
              "      </button>\n",
              "      \n",
              "  <style>\n",
              "    .colab-df-container {\n",
              "      display:flex;\n",
              "      flex-wrap:wrap;\n",
              "      gap: 12px;\n",
              "    }\n",
              "\n",
              "    .colab-df-convert {\n",
              "      background-color: #E8F0FE;\n",
              "      border: none;\n",
              "      border-radius: 50%;\n",
              "      cursor: pointer;\n",
              "      display: none;\n",
              "      fill: #1967D2;\n",
              "      height: 32px;\n",
              "      padding: 0 0 0 0;\n",
              "      width: 32px;\n",
              "    }\n",
              "\n",
              "    .colab-df-convert:hover {\n",
              "      background-color: #E2EBFA;\n",
              "      box-shadow: 0px 1px 2px rgba(60, 64, 67, 0.3), 0px 1px 3px 1px rgba(60, 64, 67, 0.15);\n",
              "      fill: #174EA6;\n",
              "    }\n",
              "\n",
              "    [theme=dark] .colab-df-convert {\n",
              "      background-color: #3B4455;\n",
              "      fill: #D2E3FC;\n",
              "    }\n",
              "\n",
              "    [theme=dark] .colab-df-convert:hover {\n",
              "      background-color: #434B5C;\n",
              "      box-shadow: 0px 1px 3px 1px rgba(0, 0, 0, 0.15);\n",
              "      filter: drop-shadow(0px 1px 2px rgba(0, 0, 0, 0.3));\n",
              "      fill: #FFFFFF;\n",
              "    }\n",
              "  </style>\n",
              "\n",
              "      <script>\n",
              "        const buttonEl =\n",
              "          document.querySelector('#df-c4eb542b-b717-4f2b-9cb6-ec2f76c782dd button.colab-df-convert');\n",
              "        buttonEl.style.display =\n",
              "          google.colab.kernel.accessAllowed ? 'block' : 'none';\n",
              "\n",
              "        async function convertToInteractive(key) {\n",
              "          const element = document.querySelector('#df-c4eb542b-b717-4f2b-9cb6-ec2f76c782dd');\n",
              "          const dataTable =\n",
              "            await google.colab.kernel.invokeFunction('convertToInteractive',\n",
              "                                                     [key], {});\n",
              "          if (!dataTable) return;\n",
              "\n",
              "          const docLinkHtml = 'Like what you see? Visit the ' +\n",
              "            '<a target=\"_blank\" href=https://colab.research.google.com/notebooks/data_table.ipynb>data table notebook</a>'\n",
              "            + ' to learn more about interactive tables.';\n",
              "          element.innerHTML = '';\n",
              "          dataTable['output_type'] = 'display_data';\n",
              "          await google.colab.output.renderOutput(dataTable, element);\n",
              "          const docLink = document.createElement('div');\n",
              "          docLink.innerHTML = docLinkHtml;\n",
              "          element.appendChild(docLink);\n",
              "        }\n",
              "      </script>\n",
              "    </div>\n",
              "  </div>\n",
              "  "
            ]
          },
          "metadata": {},
          "execution_count": 131
        }
      ]
    },
    {
      "cell_type": "markdown",
      "source": [
        "###Range aleatório"
      ],
      "metadata": {
        "id": "QuizSwEbNHVI"
      }
    },
    {
      "cell_type": "code",
      "source": [
        "# Gerando a semente aleatória (número do parênteses decidido casualmente)\n",
        "np.random.seed(6)"
      ],
      "metadata": {
        "id": "3a7z1OJmNPg-"
      },
      "execution_count": 132,
      "outputs": []
    },
    {
      "cell_type": "code",
      "source": [
        "#definindo um índice aleatório até o índice 10\n",
        "inicio2 = np.random.choice(10,1)\n",
        "inicio2"
      ],
      "metadata": {
        "id": "vVH4CUAWN_3k",
        "colab": {
          "base_uri": "https://localhost:8080/"
        },
        "outputId": "db81edfb-55e8-45e3-c18a-4b6253667641"
      },
      "execution_count": 133,
      "outputs": [
        {
          "output_type": "execute_result",
          "data": {
            "text/plain": [
              "array([9])"
            ]
          },
          "metadata": {},
          "execution_count": 133
        }
      ]
    },
    {
      "cell_type": "code",
      "source": [
        "# definindo o range aleatóriamente entre 100 e 150\n",
        "passo = np.random.randint(100,150,1)\n",
        "passo"
      ],
      "metadata": {
        "id": "oIcgh8ADPi3O",
        "colab": {
          "base_uri": "https://localhost:8080/"
        },
        "outputId": "adf9e998-6186-4bc9-c310-410a36a8ce46"
      },
      "execution_count": 134,
      "outputs": [
        {
          "output_type": "execute_result",
          "data": {
            "text/plain": [
              "array([135])"
            ]
          },
          "metadata": {},
          "execution_count": 134
        }
      ]
    },
    {
      "cell_type": "code",
      "source": [
        "# Definindo a lista dos registros com o range e a sequencia escolhida aleatoriamente a partir do inicío2\n",
        "#ficará de 103 em 103 até o ultimo registro a partir do início aleatório\n",
        "amostra2_2 = np.arange(inicio2,13198,103)\n",
        "amostra2_2"
      ],
      "metadata": {
        "id": "oBZgyobaP_M4",
        "colab": {
          "base_uri": "https://localhost:8080/"
        },
        "outputId": "c4ca3daa-f850-42f9-bb6e-ffedfe4d9d1c"
      },
      "execution_count": 135,
      "outputs": [
        {
          "output_type": "execute_result",
          "data": {
            "text/plain": [
              "array([    9,   112,   215,   318,   421,   524,   627,   730,   833,\n",
              "         936,  1039,  1142,  1245,  1348,  1451,  1554,  1657,  1760,\n",
              "        1863,  1966,  2069,  2172,  2275,  2378,  2481,  2584,  2687,\n",
              "        2790,  2893,  2996,  3099,  3202,  3305,  3408,  3511,  3614,\n",
              "        3717,  3820,  3923,  4026,  4129,  4232,  4335,  4438,  4541,\n",
              "        4644,  4747,  4850,  4953,  5056,  5159,  5262,  5365,  5468,\n",
              "        5571,  5674,  5777,  5880,  5983,  6086,  6189,  6292,  6395,\n",
              "        6498,  6601,  6704,  6807,  6910,  7013,  7116,  7219,  7322,\n",
              "        7425,  7528,  7631,  7734,  7837,  7940,  8043,  8146,  8249,\n",
              "        8352,  8455,  8558,  8661,  8764,  8867,  8970,  9073,  9176,\n",
              "        9279,  9382,  9485,  9588,  9691,  9794,  9897, 10000, 10103,\n",
              "       10206, 10309, 10412, 10515, 10618, 10721, 10824, 10927, 11030,\n",
              "       11133, 11236, 11339, 11442, 11545, 11648, 11751, 11854, 11957,\n",
              "       12060, 12163, 12266, 12369, 12472, 12575, 12678, 12781, 12884,\n",
              "       12987, 13090, 13193])"
            ]
          },
          "metadata": {},
          "execution_count": 135
        }
      ]
    },
    {
      "cell_type": "code",
      "source": [
        "# Criando o dataframe com os índices sistemátizados\n",
        "dfa2_sistem2 = df_campinas.iloc[amostra2_2,:]"
      ],
      "metadata": {
        "id": "XyVccMNWRbMM"
      },
      "execution_count": 136,
      "outputs": []
    },
    {
      "cell_type": "code",
      "source": [
        "dfa2_sistem2.shape"
      ],
      "metadata": {
        "id": "J8PWRty_Rmpb",
        "colab": {
          "base_uri": "https://localhost:8080/"
        },
        "outputId": "1fa0d5b3-a75d-491c-8bd5-cdf3d153d36b"
      },
      "execution_count": 137,
      "outputs": [
        {
          "output_type": "execute_result",
          "data": {
            "text/plain": [
              "(129, 28)"
            ]
          },
          "metadata": {},
          "execution_count": 137
        }
      ]
    },
    {
      "cell_type": "code",
      "source": [
        "dfa2_sistem2.head(3)"
      ],
      "metadata": {
        "id": "XyGP6jo7RtgN",
        "colab": {
          "base_uri": "https://localhost:8080/",
          "height": 0
        },
        "outputId": "077d9ed2-db4c-4441-d2ac-a1746a2e60c1"
      },
      "execution_count": 138,
      "outputs": [
        {
          "output_type": "execute_result",
          "data": {
            "text/plain": [
              "     NU_INSCRICAO NO_MUNICIPIO_RESIDENCIA  IDADE SEXO TP_ESTADO_CIVIL  \\\n",
              "469      1,90E+11                Campinas     18    M        solterio   \n",
              "5241     1,90E+11                Campinas     18    F        solterio   \n",
              "9607     1,90E+11                Campinas     23    F        solterio   \n",
              "\n",
              "               RACA TP_NACIONALIDADE  TP_ST_CONCLUSAO         ESCOLA  \\\n",
              "469   nao_declarado       brasileiro                1  nao_respondeu   \n",
              "5241          parda       brasileiro                2        publica   \n",
              "9607          parda       brasileiro                1  nao_respondeu   \n",
              "\n",
              "       CO_ESCOLA NO_MUNICIPIO_ESC  TP_PRESENCA_CN  TP_PRESENCA_CH  \\\n",
              "469          NaN              NaN               1               1   \n",
              "5241  35047200.0         Campinas               1               1   \n",
              "9607         NaN              NaN               1               1   \n",
              "\n",
              "      TP_PRESENCA_LC  TP_PRESENCA_MT  NOTA_CN  NOTA_CH  NOTA_LC  NOTA_MT  \\\n",
              "469                1               1    626.4    610.2    601.2    669.4   \n",
              "5241               1               1    428.2    499.8    536.1    432.3   \n",
              "9607               1               1    416.3    486.2    529.9    399.6   \n",
              "\n",
              "     TP_LINGUA  TP_STATUS_REDACAO  COMP1  COMP2  COMP3  COMP4  COMP5  \\\n",
              "469     ingles                1.0  140.0  180.0  120.0  160.0  120.0   \n",
              "5241    ingles                1.0  120.0  120.0  120.0  100.0   60.0   \n",
              "9607    ingles                1.0  160.0  120.0  120.0  140.0  140.0   \n",
              "\n",
              "      NOTA_REDACAO INTERNET  \n",
              "469          720.0      sim  \n",
              "5241         520.0      sim  \n",
              "9607         680.0      sim  "
            ],
            "text/html": [
              "\n",
              "  <div id=\"df-c77c437d-42db-4a83-a0d9-8663cb78f711\">\n",
              "    <div class=\"colab-df-container\">\n",
              "      <div>\n",
              "<style scoped>\n",
              "    .dataframe tbody tr th:only-of-type {\n",
              "        vertical-align: middle;\n",
              "    }\n",
              "\n",
              "    .dataframe tbody tr th {\n",
              "        vertical-align: top;\n",
              "    }\n",
              "\n",
              "    .dataframe thead th {\n",
              "        text-align: right;\n",
              "    }\n",
              "</style>\n",
              "<table border=\"1\" class=\"dataframe\">\n",
              "  <thead>\n",
              "    <tr style=\"text-align: right;\">\n",
              "      <th></th>\n",
              "      <th>NU_INSCRICAO</th>\n",
              "      <th>NO_MUNICIPIO_RESIDENCIA</th>\n",
              "      <th>IDADE</th>\n",
              "      <th>SEXO</th>\n",
              "      <th>TP_ESTADO_CIVIL</th>\n",
              "      <th>RACA</th>\n",
              "      <th>TP_NACIONALIDADE</th>\n",
              "      <th>TP_ST_CONCLUSAO</th>\n",
              "      <th>ESCOLA</th>\n",
              "      <th>CO_ESCOLA</th>\n",
              "      <th>NO_MUNICIPIO_ESC</th>\n",
              "      <th>TP_PRESENCA_CN</th>\n",
              "      <th>TP_PRESENCA_CH</th>\n",
              "      <th>TP_PRESENCA_LC</th>\n",
              "      <th>TP_PRESENCA_MT</th>\n",
              "      <th>NOTA_CN</th>\n",
              "      <th>NOTA_CH</th>\n",
              "      <th>NOTA_LC</th>\n",
              "      <th>NOTA_MT</th>\n",
              "      <th>TP_LINGUA</th>\n",
              "      <th>TP_STATUS_REDACAO</th>\n",
              "      <th>COMP1</th>\n",
              "      <th>COMP2</th>\n",
              "      <th>COMP3</th>\n",
              "      <th>COMP4</th>\n",
              "      <th>COMP5</th>\n",
              "      <th>NOTA_REDACAO</th>\n",
              "      <th>INTERNET</th>\n",
              "    </tr>\n",
              "  </thead>\n",
              "  <tbody>\n",
              "    <tr>\n",
              "      <th>469</th>\n",
              "      <td>1,90E+11</td>\n",
              "      <td>Campinas</td>\n",
              "      <td>18</td>\n",
              "      <td>M</td>\n",
              "      <td>solterio</td>\n",
              "      <td>nao_declarado</td>\n",
              "      <td>brasileiro</td>\n",
              "      <td>1</td>\n",
              "      <td>nao_respondeu</td>\n",
              "      <td>NaN</td>\n",
              "      <td>NaN</td>\n",
              "      <td>1</td>\n",
              "      <td>1</td>\n",
              "      <td>1</td>\n",
              "      <td>1</td>\n",
              "      <td>626.4</td>\n",
              "      <td>610.2</td>\n",
              "      <td>601.2</td>\n",
              "      <td>669.4</td>\n",
              "      <td>ingles</td>\n",
              "      <td>1.0</td>\n",
              "      <td>140.0</td>\n",
              "      <td>180.0</td>\n",
              "      <td>120.0</td>\n",
              "      <td>160.0</td>\n",
              "      <td>120.0</td>\n",
              "      <td>720.0</td>\n",
              "      <td>sim</td>\n",
              "    </tr>\n",
              "    <tr>\n",
              "      <th>5241</th>\n",
              "      <td>1,90E+11</td>\n",
              "      <td>Campinas</td>\n",
              "      <td>18</td>\n",
              "      <td>F</td>\n",
              "      <td>solterio</td>\n",
              "      <td>parda</td>\n",
              "      <td>brasileiro</td>\n",
              "      <td>2</td>\n",
              "      <td>publica</td>\n",
              "      <td>35047200.0</td>\n",
              "      <td>Campinas</td>\n",
              "      <td>1</td>\n",
              "      <td>1</td>\n",
              "      <td>1</td>\n",
              "      <td>1</td>\n",
              "      <td>428.2</td>\n",
              "      <td>499.8</td>\n",
              "      <td>536.1</td>\n",
              "      <td>432.3</td>\n",
              "      <td>ingles</td>\n",
              "      <td>1.0</td>\n",
              "      <td>120.0</td>\n",
              "      <td>120.0</td>\n",
              "      <td>120.0</td>\n",
              "      <td>100.0</td>\n",
              "      <td>60.0</td>\n",
              "      <td>520.0</td>\n",
              "      <td>sim</td>\n",
              "    </tr>\n",
              "    <tr>\n",
              "      <th>9607</th>\n",
              "      <td>1,90E+11</td>\n",
              "      <td>Campinas</td>\n",
              "      <td>23</td>\n",
              "      <td>F</td>\n",
              "      <td>solterio</td>\n",
              "      <td>parda</td>\n",
              "      <td>brasileiro</td>\n",
              "      <td>1</td>\n",
              "      <td>nao_respondeu</td>\n",
              "      <td>NaN</td>\n",
              "      <td>NaN</td>\n",
              "      <td>1</td>\n",
              "      <td>1</td>\n",
              "      <td>1</td>\n",
              "      <td>1</td>\n",
              "      <td>416.3</td>\n",
              "      <td>486.2</td>\n",
              "      <td>529.9</td>\n",
              "      <td>399.6</td>\n",
              "      <td>ingles</td>\n",
              "      <td>1.0</td>\n",
              "      <td>160.0</td>\n",
              "      <td>120.0</td>\n",
              "      <td>120.0</td>\n",
              "      <td>140.0</td>\n",
              "      <td>140.0</td>\n",
              "      <td>680.0</td>\n",
              "      <td>sim</td>\n",
              "    </tr>\n",
              "  </tbody>\n",
              "</table>\n",
              "</div>\n",
              "      <button class=\"colab-df-convert\" onclick=\"convertToInteractive('df-c77c437d-42db-4a83-a0d9-8663cb78f711')\"\n",
              "              title=\"Convert this dataframe to an interactive table.\"\n",
              "              style=\"display:none;\">\n",
              "        \n",
              "  <svg xmlns=\"http://www.w3.org/2000/svg\" height=\"24px\"viewBox=\"0 0 24 24\"\n",
              "       width=\"24px\">\n",
              "    <path d=\"M0 0h24v24H0V0z\" fill=\"none\"/>\n",
              "    <path d=\"M18.56 5.44l.94 2.06.94-2.06 2.06-.94-2.06-.94-.94-2.06-.94 2.06-2.06.94zm-11 1L8.5 8.5l.94-2.06 2.06-.94-2.06-.94L8.5 2.5l-.94 2.06-2.06.94zm10 10l.94 2.06.94-2.06 2.06-.94-2.06-.94-.94-2.06-.94 2.06-2.06.94z\"/><path d=\"M17.41 7.96l-1.37-1.37c-.4-.4-.92-.59-1.43-.59-.52 0-1.04.2-1.43.59L10.3 9.45l-7.72 7.72c-.78.78-.78 2.05 0 2.83L4 21.41c.39.39.9.59 1.41.59.51 0 1.02-.2 1.41-.59l7.78-7.78 2.81-2.81c.8-.78.8-2.07 0-2.86zM5.41 20L4 18.59l7.72-7.72 1.47 1.35L5.41 20z\"/>\n",
              "  </svg>\n",
              "      </button>\n",
              "      \n",
              "  <style>\n",
              "    .colab-df-container {\n",
              "      display:flex;\n",
              "      flex-wrap:wrap;\n",
              "      gap: 12px;\n",
              "    }\n",
              "\n",
              "    .colab-df-convert {\n",
              "      background-color: #E8F0FE;\n",
              "      border: none;\n",
              "      border-radius: 50%;\n",
              "      cursor: pointer;\n",
              "      display: none;\n",
              "      fill: #1967D2;\n",
              "      height: 32px;\n",
              "      padding: 0 0 0 0;\n",
              "      width: 32px;\n",
              "    }\n",
              "\n",
              "    .colab-df-convert:hover {\n",
              "      background-color: #E2EBFA;\n",
              "      box-shadow: 0px 1px 2px rgba(60, 64, 67, 0.3), 0px 1px 3px 1px rgba(60, 64, 67, 0.15);\n",
              "      fill: #174EA6;\n",
              "    }\n",
              "\n",
              "    [theme=dark] .colab-df-convert {\n",
              "      background-color: #3B4455;\n",
              "      fill: #D2E3FC;\n",
              "    }\n",
              "\n",
              "    [theme=dark] .colab-df-convert:hover {\n",
              "      background-color: #434B5C;\n",
              "      box-shadow: 0px 1px 3px 1px rgba(0, 0, 0, 0.15);\n",
              "      filter: drop-shadow(0px 1px 2px rgba(0, 0, 0, 0.3));\n",
              "      fill: #FFFFFF;\n",
              "    }\n",
              "  </style>\n",
              "\n",
              "      <script>\n",
              "        const buttonEl =\n",
              "          document.querySelector('#df-c77c437d-42db-4a83-a0d9-8663cb78f711 button.colab-df-convert');\n",
              "        buttonEl.style.display =\n",
              "          google.colab.kernel.accessAllowed ? 'block' : 'none';\n",
              "\n",
              "        async function convertToInteractive(key) {\n",
              "          const element = document.querySelector('#df-c77c437d-42db-4a83-a0d9-8663cb78f711');\n",
              "          const dataTable =\n",
              "            await google.colab.kernel.invokeFunction('convertToInteractive',\n",
              "                                                     [key], {});\n",
              "          if (!dataTable) return;\n",
              "\n",
              "          const docLinkHtml = 'Like what you see? Visit the ' +\n",
              "            '<a target=\"_blank\" href=https://colab.research.google.com/notebooks/data_table.ipynb>data table notebook</a>'\n",
              "            + ' to learn more about interactive tables.';\n",
              "          element.innerHTML = '';\n",
              "          dataTable['output_type'] = 'display_data';\n",
              "          await google.colab.output.renderOutput(dataTable, element);\n",
              "          const docLink = document.createElement('div');\n",
              "          docLink.innerHTML = docLinkHtml;\n",
              "          element.appendChild(docLink);\n",
              "        }\n",
              "      </script>\n",
              "    </div>\n",
              "  </div>\n",
              "  "
            ]
          },
          "metadata": {},
          "execution_count": 138
        }
      ]
    },
    {
      "cell_type": "markdown",
      "source": [
        "##Amostragem Estradificada\n",
        "Divisão da população em grupos e seleção de uma amostragem simples dentro de cada grupo"
      ],
      "metadata": {
        "id": "P5aF8jo3ScT_"
      }
    },
    {
      "cell_type": "code",
      "source": [
        "# O grupo selecionada para esse exemplo foi raça\n",
        "# Fazendo uma contagem dos dados\n",
        "df_campinas['RACA'].value_counts()"
      ],
      "metadata": {
        "id": "rPkj2jklS2tU",
        "colab": {
          "base_uri": "https://localhost:8080/"
        },
        "outputId": "50c9f962-6237-425a-8f3c-11f7743b9896"
      },
      "execution_count": 139,
      "outputs": [
        {
          "output_type": "execute_result",
          "data": {
            "text/plain": [
              "branca           7507\n",
              "parda            3652\n",
              "preta            1510\n",
              "amarela           279\n",
              "nao_declarado     205\n",
              "indigena           45\n",
              "Name: RACA, dtype: int64"
            ]
          },
          "metadata": {},
          "execution_count": 139
        }
      ]
    },
    {
      "cell_type": "markdown",
      "source": [
        "###Para quantidades pequenas de grupos"
      ],
      "metadata": {
        "id": "Y_3DI7ZVbbMe"
      }
    },
    {
      "cell_type": "code",
      "source": [
        "#Gerando semente aleatória; seed decididade de forma casual\n",
        "np.random.seed(55)"
      ],
      "metadata": {
        "id": "-ZBFD3pNcI3M"
      },
      "execution_count": 140,
      "outputs": []
    },
    {
      "cell_type": "markdown",
      "source": [
        "Fazendo amostra aleatória simples para cada raça e verificando a quantidade de registros equivalente a 15%:"
      ],
      "metadata": {
        "id": "M7qHmBdVccvy"
      }
    },
    {
      "cell_type": "code",
      "source": [
        "df_branca = df_campinas.loc[df_campinas.RACA == 'branca'].sample(frac=0.15)\n",
        "df_branca.shape"
      ],
      "metadata": {
        "id": "V9Vm2PH0bevA",
        "colab": {
          "base_uri": "https://localhost:8080/"
        },
        "outputId": "bfd091ca-9e58-4169-f561-6262888884a9"
      },
      "execution_count": 141,
      "outputs": [
        {
          "output_type": "execute_result",
          "data": {
            "text/plain": [
              "(1126, 28)"
            ]
          },
          "metadata": {},
          "execution_count": 141
        }
      ]
    },
    {
      "cell_type": "code",
      "source": [
        "df_parda = df_campinas.loc[df_campinas.RACA == 'parda'].sample(frac=0.15)\n",
        "df_parda.shape"
      ],
      "metadata": {
        "id": "RkPfBfhCc2gV",
        "colab": {
          "base_uri": "https://localhost:8080/"
        },
        "outputId": "bd9f2eaf-3a03-4433-ed62-3e386bddcf71"
      },
      "execution_count": 142,
      "outputs": [
        {
          "output_type": "execute_result",
          "data": {
            "text/plain": [
              "(548, 28)"
            ]
          },
          "metadata": {},
          "execution_count": 142
        }
      ]
    },
    {
      "cell_type": "code",
      "source": [
        "df_preta = df_campinas.loc[df_campinas.RACA == 'preta'].sample(frac=0.15)\n",
        "df_preta.shape"
      ],
      "metadata": {
        "id": "ak-D8tiLdiWQ",
        "colab": {
          "base_uri": "https://localhost:8080/"
        },
        "outputId": "182d478c-c3ea-4be2-fbab-5862956a3389"
      },
      "execution_count": 143,
      "outputs": [
        {
          "output_type": "execute_result",
          "data": {
            "text/plain": [
              "(226, 28)"
            ]
          },
          "metadata": {},
          "execution_count": 143
        }
      ]
    },
    {
      "cell_type": "code",
      "source": [
        "df_amarela = df_campinas.loc[df_campinas.RACA == 'amarela'].sample(frac=0.15)\n",
        "df_amarela.shape"
      ],
      "metadata": {
        "id": "gTPoLszMdpTH",
        "colab": {
          "base_uri": "https://localhost:8080/"
        },
        "outputId": "5eae5834-3210-4d30-a942-eed23dd95880"
      },
      "execution_count": 144,
      "outputs": [
        {
          "output_type": "execute_result",
          "data": {
            "text/plain": [
              "(42, 28)"
            ]
          },
          "metadata": {},
          "execution_count": 144
        }
      ]
    },
    {
      "cell_type": "code",
      "source": [
        "#nd = não declarado\n",
        "df_nd = df_campinas.loc[df_campinas.RACA == 'nao_declarado'].sample(frac=0.15)\n",
        "df_nd.shape"
      ],
      "metadata": {
        "id": "fzMjYmt8d2ev",
        "colab": {
          "base_uri": "https://localhost:8080/"
        },
        "outputId": "7c32b652-1453-44a3-f130-ac4b78f6f384"
      },
      "execution_count": 145,
      "outputs": [
        {
          "output_type": "execute_result",
          "data": {
            "text/plain": [
              "(31, 28)"
            ]
          },
          "metadata": {},
          "execution_count": 145
        }
      ]
    },
    {
      "cell_type": "code",
      "source": [
        "df_indigena = df_campinas.loc[df_campinas.RACA == 'indigena'].sample(frac=0.15)\n",
        "df_indigena.shape"
      ],
      "metadata": {
        "id": "f9uVKBdfeNrP",
        "colab": {
          "base_uri": "https://localhost:8080/"
        },
        "outputId": "83cef94e-f62c-4afe-e7ba-41ed15e31c06"
      },
      "execution_count": 146,
      "outputs": [
        {
          "output_type": "execute_result",
          "data": {
            "text/plain": [
              "(7, 28)"
            ]
          },
          "metadata": {},
          "execution_count": 146
        }
      ]
    },
    {
      "cell_type": "code",
      "source": [
        "#Concatenando todos e criando um novo dataframe e agora temos a amostra estradificada por raça\n",
        "df_estrad1 = pd.concat([df_branca,\n",
        "                        df_parda,\n",
        "                        df_preta,\n",
        "                        df_amarela,\n",
        "                        df_nd,\n",
        "                        df_indigena])"
      ],
      "metadata": {
        "id": "eqWvNMNRe8-k"
      },
      "execution_count": 147,
      "outputs": []
    },
    {
      "cell_type": "code",
      "source": [
        "df_estrad1.shape"
      ],
      "metadata": {
        "id": "OrStevrBfy82",
        "colab": {
          "base_uri": "https://localhost:8080/"
        },
        "outputId": "524f6567-fd01-43fc-dbcb-48e78e3947fd"
      },
      "execution_count": 148,
      "outputs": [
        {
          "output_type": "execute_result",
          "data": {
            "text/plain": [
              "(1980, 28)"
            ]
          },
          "metadata": {},
          "execution_count": 148
        }
      ]
    },
    {
      "cell_type": "code",
      "source": [
        "df_estrad1.head(3)"
      ],
      "metadata": {
        "id": "_7yIKlqmfr97",
        "colab": {
          "base_uri": "https://localhost:8080/",
          "height": 0
        },
        "outputId": "8a092eee-4133-446a-f002-12f36db21abe"
      },
      "execution_count": 149,
      "outputs": [
        {
          "output_type": "execute_result",
          "data": {
            "text/plain": [
              "       NU_INSCRICAO NO_MUNICIPIO_RESIDENCIA  IDADE SEXO   TP_ESTADO_CIVIL  \\\n",
              "223078     1,90E+11                Campinas     18    M  casado/uniao_est   \n",
              "173099     1,90E+11                Campinas     24    M          solterio   \n",
              "291127     1,90E+11                Campinas     17    F          solterio   \n",
              "\n",
              "          RACA TP_NACIONALIDADE  TP_ST_CONCLUSAO         ESCOLA   CO_ESCOLA  \\\n",
              "223078  branca       brasileiro                1  nao_respondeu         NaN   \n",
              "173099  branca       brasileiro                1  nao_respondeu         NaN   \n",
              "291127  branca       brasileiro                2        privada  35112773.0   \n",
              "\n",
              "       NO_MUNICIPIO_ESC  TP_PRESENCA_CN  TP_PRESENCA_CH  TP_PRESENCA_LC  \\\n",
              "223078              NaN               1               1               1   \n",
              "173099              NaN               1               1               1   \n",
              "291127         Campinas               1               1               1   \n",
              "\n",
              "        TP_PRESENCA_MT  NOTA_CN  NOTA_CH  NOTA_LC  NOTA_MT TP_LINGUA  \\\n",
              "223078               1    452.4    470.1    443.5    596.3  espanhol   \n",
              "173099               1    509.3    604.5    534.3    526.7  espanhol   \n",
              "291127               1    596.6     65.5    573.3    721.9    ingles   \n",
              "\n",
              "        TP_STATUS_REDACAO  COMP1  COMP2  COMP3  COMP4  COMP5  NOTA_REDACAO  \\\n",
              "223078                1.0  100.0  120.0  120.0  120.0   40.0         500.0   \n",
              "173099                1.0  100.0  120.0  120.0  120.0  120.0         580.0   \n",
              "291127                1.0  160.0  140.0  160.0  160.0  200.0         820.0   \n",
              "\n",
              "       INTERNET  \n",
              "223078      sim  \n",
              "173099      sim  \n",
              "291127      sim  "
            ],
            "text/html": [
              "\n",
              "  <div id=\"df-ec11790d-39f9-49c6-92f9-58383be1cbe3\">\n",
              "    <div class=\"colab-df-container\">\n",
              "      <div>\n",
              "<style scoped>\n",
              "    .dataframe tbody tr th:only-of-type {\n",
              "        vertical-align: middle;\n",
              "    }\n",
              "\n",
              "    .dataframe tbody tr th {\n",
              "        vertical-align: top;\n",
              "    }\n",
              "\n",
              "    .dataframe thead th {\n",
              "        text-align: right;\n",
              "    }\n",
              "</style>\n",
              "<table border=\"1\" class=\"dataframe\">\n",
              "  <thead>\n",
              "    <tr style=\"text-align: right;\">\n",
              "      <th></th>\n",
              "      <th>NU_INSCRICAO</th>\n",
              "      <th>NO_MUNICIPIO_RESIDENCIA</th>\n",
              "      <th>IDADE</th>\n",
              "      <th>SEXO</th>\n",
              "      <th>TP_ESTADO_CIVIL</th>\n",
              "      <th>RACA</th>\n",
              "      <th>TP_NACIONALIDADE</th>\n",
              "      <th>TP_ST_CONCLUSAO</th>\n",
              "      <th>ESCOLA</th>\n",
              "      <th>CO_ESCOLA</th>\n",
              "      <th>NO_MUNICIPIO_ESC</th>\n",
              "      <th>TP_PRESENCA_CN</th>\n",
              "      <th>TP_PRESENCA_CH</th>\n",
              "      <th>TP_PRESENCA_LC</th>\n",
              "      <th>TP_PRESENCA_MT</th>\n",
              "      <th>NOTA_CN</th>\n",
              "      <th>NOTA_CH</th>\n",
              "      <th>NOTA_LC</th>\n",
              "      <th>NOTA_MT</th>\n",
              "      <th>TP_LINGUA</th>\n",
              "      <th>TP_STATUS_REDACAO</th>\n",
              "      <th>COMP1</th>\n",
              "      <th>COMP2</th>\n",
              "      <th>COMP3</th>\n",
              "      <th>COMP4</th>\n",
              "      <th>COMP5</th>\n",
              "      <th>NOTA_REDACAO</th>\n",
              "      <th>INTERNET</th>\n",
              "    </tr>\n",
              "  </thead>\n",
              "  <tbody>\n",
              "    <tr>\n",
              "      <th>223078</th>\n",
              "      <td>1,90E+11</td>\n",
              "      <td>Campinas</td>\n",
              "      <td>18</td>\n",
              "      <td>M</td>\n",
              "      <td>casado/uniao_est</td>\n",
              "      <td>branca</td>\n",
              "      <td>brasileiro</td>\n",
              "      <td>1</td>\n",
              "      <td>nao_respondeu</td>\n",
              "      <td>NaN</td>\n",
              "      <td>NaN</td>\n",
              "      <td>1</td>\n",
              "      <td>1</td>\n",
              "      <td>1</td>\n",
              "      <td>1</td>\n",
              "      <td>452.4</td>\n",
              "      <td>470.1</td>\n",
              "      <td>443.5</td>\n",
              "      <td>596.3</td>\n",
              "      <td>espanhol</td>\n",
              "      <td>1.0</td>\n",
              "      <td>100.0</td>\n",
              "      <td>120.0</td>\n",
              "      <td>120.0</td>\n",
              "      <td>120.0</td>\n",
              "      <td>40.0</td>\n",
              "      <td>500.0</td>\n",
              "      <td>sim</td>\n",
              "    </tr>\n",
              "    <tr>\n",
              "      <th>173099</th>\n",
              "      <td>1,90E+11</td>\n",
              "      <td>Campinas</td>\n",
              "      <td>24</td>\n",
              "      <td>M</td>\n",
              "      <td>solterio</td>\n",
              "      <td>branca</td>\n",
              "      <td>brasileiro</td>\n",
              "      <td>1</td>\n",
              "      <td>nao_respondeu</td>\n",
              "      <td>NaN</td>\n",
              "      <td>NaN</td>\n",
              "      <td>1</td>\n",
              "      <td>1</td>\n",
              "      <td>1</td>\n",
              "      <td>1</td>\n",
              "      <td>509.3</td>\n",
              "      <td>604.5</td>\n",
              "      <td>534.3</td>\n",
              "      <td>526.7</td>\n",
              "      <td>espanhol</td>\n",
              "      <td>1.0</td>\n",
              "      <td>100.0</td>\n",
              "      <td>120.0</td>\n",
              "      <td>120.0</td>\n",
              "      <td>120.0</td>\n",
              "      <td>120.0</td>\n",
              "      <td>580.0</td>\n",
              "      <td>sim</td>\n",
              "    </tr>\n",
              "    <tr>\n",
              "      <th>291127</th>\n",
              "      <td>1,90E+11</td>\n",
              "      <td>Campinas</td>\n",
              "      <td>17</td>\n",
              "      <td>F</td>\n",
              "      <td>solterio</td>\n",
              "      <td>branca</td>\n",
              "      <td>brasileiro</td>\n",
              "      <td>2</td>\n",
              "      <td>privada</td>\n",
              "      <td>35112773.0</td>\n",
              "      <td>Campinas</td>\n",
              "      <td>1</td>\n",
              "      <td>1</td>\n",
              "      <td>1</td>\n",
              "      <td>1</td>\n",
              "      <td>596.6</td>\n",
              "      <td>65.5</td>\n",
              "      <td>573.3</td>\n",
              "      <td>721.9</td>\n",
              "      <td>ingles</td>\n",
              "      <td>1.0</td>\n",
              "      <td>160.0</td>\n",
              "      <td>140.0</td>\n",
              "      <td>160.0</td>\n",
              "      <td>160.0</td>\n",
              "      <td>200.0</td>\n",
              "      <td>820.0</td>\n",
              "      <td>sim</td>\n",
              "    </tr>\n",
              "  </tbody>\n",
              "</table>\n",
              "</div>\n",
              "      <button class=\"colab-df-convert\" onclick=\"convertToInteractive('df-ec11790d-39f9-49c6-92f9-58383be1cbe3')\"\n",
              "              title=\"Convert this dataframe to an interactive table.\"\n",
              "              style=\"display:none;\">\n",
              "        \n",
              "  <svg xmlns=\"http://www.w3.org/2000/svg\" height=\"24px\"viewBox=\"0 0 24 24\"\n",
              "       width=\"24px\">\n",
              "    <path d=\"M0 0h24v24H0V0z\" fill=\"none\"/>\n",
              "    <path d=\"M18.56 5.44l.94 2.06.94-2.06 2.06-.94-2.06-.94-.94-2.06-.94 2.06-2.06.94zm-11 1L8.5 8.5l.94-2.06 2.06-.94-2.06-.94L8.5 2.5l-.94 2.06-2.06.94zm10 10l.94 2.06.94-2.06 2.06-.94-2.06-.94-.94-2.06-.94 2.06-2.06.94z\"/><path d=\"M17.41 7.96l-1.37-1.37c-.4-.4-.92-.59-1.43-.59-.52 0-1.04.2-1.43.59L10.3 9.45l-7.72 7.72c-.78.78-.78 2.05 0 2.83L4 21.41c.39.39.9.59 1.41.59.51 0 1.02-.2 1.41-.59l7.78-7.78 2.81-2.81c.8-.78.8-2.07 0-2.86zM5.41 20L4 18.59l7.72-7.72 1.47 1.35L5.41 20z\"/>\n",
              "  </svg>\n",
              "      </button>\n",
              "      \n",
              "  <style>\n",
              "    .colab-df-container {\n",
              "      display:flex;\n",
              "      flex-wrap:wrap;\n",
              "      gap: 12px;\n",
              "    }\n",
              "\n",
              "    .colab-df-convert {\n",
              "      background-color: #E8F0FE;\n",
              "      border: none;\n",
              "      border-radius: 50%;\n",
              "      cursor: pointer;\n",
              "      display: none;\n",
              "      fill: #1967D2;\n",
              "      height: 32px;\n",
              "      padding: 0 0 0 0;\n",
              "      width: 32px;\n",
              "    }\n",
              "\n",
              "    .colab-df-convert:hover {\n",
              "      background-color: #E2EBFA;\n",
              "      box-shadow: 0px 1px 2px rgba(60, 64, 67, 0.3), 0px 1px 3px 1px rgba(60, 64, 67, 0.15);\n",
              "      fill: #174EA6;\n",
              "    }\n",
              "\n",
              "    [theme=dark] .colab-df-convert {\n",
              "      background-color: #3B4455;\n",
              "      fill: #D2E3FC;\n",
              "    }\n",
              "\n",
              "    [theme=dark] .colab-df-convert:hover {\n",
              "      background-color: #434B5C;\n",
              "      box-shadow: 0px 1px 3px 1px rgba(0, 0, 0, 0.15);\n",
              "      filter: drop-shadow(0px 1px 2px rgba(0, 0, 0, 0.3));\n",
              "      fill: #FFFFFF;\n",
              "    }\n",
              "  </style>\n",
              "\n",
              "      <script>\n",
              "        const buttonEl =\n",
              "          document.querySelector('#df-ec11790d-39f9-49c6-92f9-58383be1cbe3 button.colab-df-convert');\n",
              "        buttonEl.style.display =\n",
              "          google.colab.kernel.accessAllowed ? 'block' : 'none';\n",
              "\n",
              "        async function convertToInteractive(key) {\n",
              "          const element = document.querySelector('#df-ec11790d-39f9-49c6-92f9-58383be1cbe3');\n",
              "          const dataTable =\n",
              "            await google.colab.kernel.invokeFunction('convertToInteractive',\n",
              "                                                     [key], {});\n",
              "          if (!dataTable) return;\n",
              "\n",
              "          const docLinkHtml = 'Like what you see? Visit the ' +\n",
              "            '<a target=\"_blank\" href=https://colab.research.google.com/notebooks/data_table.ipynb>data table notebook</a>'\n",
              "            + ' to learn more about interactive tables.';\n",
              "          element.innerHTML = '';\n",
              "          dataTable['output_type'] = 'display_data';\n",
              "          await google.colab.output.renderOutput(dataTable, element);\n",
              "          const docLink = document.createElement('div');\n",
              "          docLink.innerHTML = docLinkHtml;\n",
              "          element.appendChild(docLink);\n",
              "        }\n",
              "      </script>\n",
              "    </div>\n",
              "  </div>\n",
              "  "
            ]
          },
          "metadata": {},
          "execution_count": 149
        }
      ]
    },
    {
      "cell_type": "markdown",
      "source": [
        "###Para grandes quantidades de grupos\n",
        "Para isso será necessário usara o sklearn que é um módulo da biblioteca scikit-learn do Python que fornece funções para selecionar modelos de machine learning. A função train_test_split divide um conjunto de dados em conjuntos de treinamento e teste. Nessa atividade, servirá para separar a amostra"
      ],
      "metadata": {
        "id": "6BQhndfAg1jE"
      }
    },
    {
      "cell_type": "code",
      "source": [
        "from sklearn.model_selection import train_test_split"
      ],
      "metadata": {
        "id": "6thSqeydg75n"
      },
      "execution_count": 150,
      "outputs": []
    },
    {
      "cell_type": "code",
      "source": [
        "#Usando a função train_test para fazer uma amostra com 15% dos dados da coluna RAÇA\n",
        "x_treino, x_teste, y_treino, amos_estrad2 = train_test_split(df_campinas.drop('RACA',axis=1),df_campinas['RACA'],\n",
        "                                                    stratify=df_campinas['RACA'], test_size=0.15)"
      ],
      "metadata": {
        "id": "pn_eSGlhB_tb"
      },
      "execution_count": 151,
      "outputs": []
    },
    {
      "cell_type": "code",
      "source": [
        "#Verificando se confere com o valor esperado\n",
        "amos_estrad2.shape"
      ],
      "metadata": {
        "id": "Yw0Bd2JjRxP2",
        "colab": {
          "base_uri": "https://localhost:8080/"
        },
        "outputId": "f45f8bc8-2731-453a-e267-707bdd2f28de"
      },
      "execution_count": 152,
      "outputs": [
        {
          "output_type": "execute_result",
          "data": {
            "text/plain": [
              "(1980,)"
            ]
          },
          "metadata": {},
          "execution_count": 152
        }
      ]
    },
    {
      "cell_type": "code",
      "source": [
        "amos_estrad2.value_counts()"
      ],
      "metadata": {
        "id": "rIIbQMYeSRjw",
        "colab": {
          "base_uri": "https://localhost:8080/"
        },
        "outputId": "8e6685b2-5ad0-4095-a626-55f1d9f56a41"
      },
      "execution_count": 153,
      "outputs": [
        {
          "output_type": "execute_result",
          "data": {
            "text/plain": [
              "branca           1126\n",
              "parda             548\n",
              "preta             226\n",
              "amarela            42\n",
              "nao_declarado      31\n",
              "indigena            7\n",
              "Name: RACA, dtype: int64"
            ]
          },
          "metadata": {},
          "execution_count": 153
        }
      ]
    },
    {
      "cell_type": "code",
      "source": [
        "#Criando uma variável que contém a lista dos índices que fora separados\n",
        "amos_estrad2 = amos_estrad2.index"
      ],
      "metadata": {
        "id": "_aDVKa73S4i0"
      },
      "execution_count": 154,
      "outputs": []
    },
    {
      "cell_type": "code",
      "source": [
        "#Obeservando índices da amostra estradificada\n",
        "amos_estrad2"
      ],
      "metadata": {
        "id": "47TXvi_sS8Tn",
        "colab": {
          "base_uri": "https://localhost:8080/"
        },
        "outputId": "5917b508-80bd-41ab-8483-4cd75a51e86d"
      },
      "execution_count": 155,
      "outputs": [
        {
          "output_type": "execute_result",
          "data": {
            "text/plain": [
              "Int64Index([ 21124, 372825, 281587, 302417,  24832, 288294, 451929, 362955,\n",
              "            272264, 246763,\n",
              "            ...\n",
              "            431328, 141583,  92743, 115322, 441881, 232723, 227079, 371830,\n",
              "            169870, 230844],\n",
              "           dtype='int64', length=1980)"
            ]
          },
          "metadata": {},
          "execution_count": 155
        }
      ]
    },
    {
      "cell_type": "code",
      "source": [
        "# Criando o dataframe da amostragem estradificada usando os índices selecionados\n",
        "df_estrad2 = df_campinas.loc[amos_estrad2,:]"
      ],
      "metadata": {
        "id": "SJtqPvtaTl5v"
      },
      "execution_count": 156,
      "outputs": []
    },
    {
      "cell_type": "code",
      "source": [
        "df_estrad2.shape"
      ],
      "metadata": {
        "id": "a_IQhn5tT08z",
        "colab": {
          "base_uri": "https://localhost:8080/"
        },
        "outputId": "33278422-6be8-400d-9e0e-fae301315e55"
      },
      "execution_count": 157,
      "outputs": [
        {
          "output_type": "execute_result",
          "data": {
            "text/plain": [
              "(1980, 28)"
            ]
          },
          "metadata": {},
          "execution_count": 157
        }
      ]
    },
    {
      "cell_type": "code",
      "source": [
        "# Temos agora um dataframe que representa a amostra estradificada pelo grupo da coluna raça, \n",
        "# com 15% dos classificados em cada raça\n",
        "df_estrad2.head(3)"
      ],
      "metadata": {
        "id": "g_eLHsbnY_Jv",
        "colab": {
          "base_uri": "https://localhost:8080/",
          "height": 0
        },
        "outputId": "6f4556e2-22be-4291-9e47-e5ad4c3b04f1"
      },
      "execution_count": 158,
      "outputs": [
        {
          "output_type": "execute_result",
          "data": {
            "text/plain": [
              "       NU_INSCRICAO NO_MUNICIPIO_RESIDENCIA  IDADE SEXO TP_ESTADO_CIVIL  \\\n",
              "21124      1,90E+11                Campinas     20    F        solterio   \n",
              "372825     1,90E+11                Campinas     18    M        solterio   \n",
              "281587     1,90E+11                Campinas     17    F   nao_informado   \n",
              "\n",
              "          RACA TP_NACIONALIDADE  TP_ST_CONCLUSAO         ESCOLA   CO_ESCOLA  \\\n",
              "21124   branca       brasileiro                1  nao_respondeu         NaN   \n",
              "372825  branca       brasileiro                2        privada  35112689.0   \n",
              "281587   preta       brasileiro                2        publica         NaN   \n",
              "\n",
              "       NO_MUNICIPIO_ESC  TP_PRESENCA_CN  TP_PRESENCA_CH  TP_PRESENCA_LC  \\\n",
              "21124               NaN               1               1               1   \n",
              "372825         Campinas               1               1               1   \n",
              "281587              NaN               1               1               1   \n",
              "\n",
              "        TP_PRESENCA_MT  NOTA_CN  NOTA_CH  NOTA_LC  NOTA_MT TP_LINGUA  \\\n",
              "21124                1    452.4    505.4    542.8     40.5    ingles   \n",
              "372825               1    612.3    691.2    610.9    799.8    ingles   \n",
              "281587               1    365.1     47.9    394.6    455.1    ingles   \n",
              "\n",
              "        TP_STATUS_REDACAO  COMP1  COMP2  COMP3  COMP4  COMP5  NOTA_REDACAO  \\\n",
              "21124                 1.0  120.0   80.0   60.0  120.0   20.0         400.0   \n",
              "372825                1.0  160.0  200.0  180.0  160.0  160.0         860.0   \n",
              "281587                1.0   40.0   40.0   40.0   40.0    0.0         160.0   \n",
              "\n",
              "       INTERNET  \n",
              "21124       nao  \n",
              "372825      sim  \n",
              "281587      sim  "
            ],
            "text/html": [
              "\n",
              "  <div id=\"df-8825477c-61c7-4ea0-a9c1-84ca471a4517\">\n",
              "    <div class=\"colab-df-container\">\n",
              "      <div>\n",
              "<style scoped>\n",
              "    .dataframe tbody tr th:only-of-type {\n",
              "        vertical-align: middle;\n",
              "    }\n",
              "\n",
              "    .dataframe tbody tr th {\n",
              "        vertical-align: top;\n",
              "    }\n",
              "\n",
              "    .dataframe thead th {\n",
              "        text-align: right;\n",
              "    }\n",
              "</style>\n",
              "<table border=\"1\" class=\"dataframe\">\n",
              "  <thead>\n",
              "    <tr style=\"text-align: right;\">\n",
              "      <th></th>\n",
              "      <th>NU_INSCRICAO</th>\n",
              "      <th>NO_MUNICIPIO_RESIDENCIA</th>\n",
              "      <th>IDADE</th>\n",
              "      <th>SEXO</th>\n",
              "      <th>TP_ESTADO_CIVIL</th>\n",
              "      <th>RACA</th>\n",
              "      <th>TP_NACIONALIDADE</th>\n",
              "      <th>TP_ST_CONCLUSAO</th>\n",
              "      <th>ESCOLA</th>\n",
              "      <th>CO_ESCOLA</th>\n",
              "      <th>NO_MUNICIPIO_ESC</th>\n",
              "      <th>TP_PRESENCA_CN</th>\n",
              "      <th>TP_PRESENCA_CH</th>\n",
              "      <th>TP_PRESENCA_LC</th>\n",
              "      <th>TP_PRESENCA_MT</th>\n",
              "      <th>NOTA_CN</th>\n",
              "      <th>NOTA_CH</th>\n",
              "      <th>NOTA_LC</th>\n",
              "      <th>NOTA_MT</th>\n",
              "      <th>TP_LINGUA</th>\n",
              "      <th>TP_STATUS_REDACAO</th>\n",
              "      <th>COMP1</th>\n",
              "      <th>COMP2</th>\n",
              "      <th>COMP3</th>\n",
              "      <th>COMP4</th>\n",
              "      <th>COMP5</th>\n",
              "      <th>NOTA_REDACAO</th>\n",
              "      <th>INTERNET</th>\n",
              "    </tr>\n",
              "  </thead>\n",
              "  <tbody>\n",
              "    <tr>\n",
              "      <th>21124</th>\n",
              "      <td>1,90E+11</td>\n",
              "      <td>Campinas</td>\n",
              "      <td>20</td>\n",
              "      <td>F</td>\n",
              "      <td>solterio</td>\n",
              "      <td>branca</td>\n",
              "      <td>brasileiro</td>\n",
              "      <td>1</td>\n",
              "      <td>nao_respondeu</td>\n",
              "      <td>NaN</td>\n",
              "      <td>NaN</td>\n",
              "      <td>1</td>\n",
              "      <td>1</td>\n",
              "      <td>1</td>\n",
              "      <td>1</td>\n",
              "      <td>452.4</td>\n",
              "      <td>505.4</td>\n",
              "      <td>542.8</td>\n",
              "      <td>40.5</td>\n",
              "      <td>ingles</td>\n",
              "      <td>1.0</td>\n",
              "      <td>120.0</td>\n",
              "      <td>80.0</td>\n",
              "      <td>60.0</td>\n",
              "      <td>120.0</td>\n",
              "      <td>20.0</td>\n",
              "      <td>400.0</td>\n",
              "      <td>nao</td>\n",
              "    </tr>\n",
              "    <tr>\n",
              "      <th>372825</th>\n",
              "      <td>1,90E+11</td>\n",
              "      <td>Campinas</td>\n",
              "      <td>18</td>\n",
              "      <td>M</td>\n",
              "      <td>solterio</td>\n",
              "      <td>branca</td>\n",
              "      <td>brasileiro</td>\n",
              "      <td>2</td>\n",
              "      <td>privada</td>\n",
              "      <td>35112689.0</td>\n",
              "      <td>Campinas</td>\n",
              "      <td>1</td>\n",
              "      <td>1</td>\n",
              "      <td>1</td>\n",
              "      <td>1</td>\n",
              "      <td>612.3</td>\n",
              "      <td>691.2</td>\n",
              "      <td>610.9</td>\n",
              "      <td>799.8</td>\n",
              "      <td>ingles</td>\n",
              "      <td>1.0</td>\n",
              "      <td>160.0</td>\n",
              "      <td>200.0</td>\n",
              "      <td>180.0</td>\n",
              "      <td>160.0</td>\n",
              "      <td>160.0</td>\n",
              "      <td>860.0</td>\n",
              "      <td>sim</td>\n",
              "    </tr>\n",
              "    <tr>\n",
              "      <th>281587</th>\n",
              "      <td>1,90E+11</td>\n",
              "      <td>Campinas</td>\n",
              "      <td>17</td>\n",
              "      <td>F</td>\n",
              "      <td>nao_informado</td>\n",
              "      <td>preta</td>\n",
              "      <td>brasileiro</td>\n",
              "      <td>2</td>\n",
              "      <td>publica</td>\n",
              "      <td>NaN</td>\n",
              "      <td>NaN</td>\n",
              "      <td>1</td>\n",
              "      <td>1</td>\n",
              "      <td>1</td>\n",
              "      <td>1</td>\n",
              "      <td>365.1</td>\n",
              "      <td>47.9</td>\n",
              "      <td>394.6</td>\n",
              "      <td>455.1</td>\n",
              "      <td>ingles</td>\n",
              "      <td>1.0</td>\n",
              "      <td>40.0</td>\n",
              "      <td>40.0</td>\n",
              "      <td>40.0</td>\n",
              "      <td>40.0</td>\n",
              "      <td>0.0</td>\n",
              "      <td>160.0</td>\n",
              "      <td>sim</td>\n",
              "    </tr>\n",
              "  </tbody>\n",
              "</table>\n",
              "</div>\n",
              "      <button class=\"colab-df-convert\" onclick=\"convertToInteractive('df-8825477c-61c7-4ea0-a9c1-84ca471a4517')\"\n",
              "              title=\"Convert this dataframe to an interactive table.\"\n",
              "              style=\"display:none;\">\n",
              "        \n",
              "  <svg xmlns=\"http://www.w3.org/2000/svg\" height=\"24px\"viewBox=\"0 0 24 24\"\n",
              "       width=\"24px\">\n",
              "    <path d=\"M0 0h24v24H0V0z\" fill=\"none\"/>\n",
              "    <path d=\"M18.56 5.44l.94 2.06.94-2.06 2.06-.94-2.06-.94-.94-2.06-.94 2.06-2.06.94zm-11 1L8.5 8.5l.94-2.06 2.06-.94-2.06-.94L8.5 2.5l-.94 2.06-2.06.94zm10 10l.94 2.06.94-2.06 2.06-.94-2.06-.94-.94-2.06-.94 2.06-2.06.94z\"/><path d=\"M17.41 7.96l-1.37-1.37c-.4-.4-.92-.59-1.43-.59-.52 0-1.04.2-1.43.59L10.3 9.45l-7.72 7.72c-.78.78-.78 2.05 0 2.83L4 21.41c.39.39.9.59 1.41.59.51 0 1.02-.2 1.41-.59l7.78-7.78 2.81-2.81c.8-.78.8-2.07 0-2.86zM5.41 20L4 18.59l7.72-7.72 1.47 1.35L5.41 20z\"/>\n",
              "  </svg>\n",
              "      </button>\n",
              "      \n",
              "  <style>\n",
              "    .colab-df-container {\n",
              "      display:flex;\n",
              "      flex-wrap:wrap;\n",
              "      gap: 12px;\n",
              "    }\n",
              "\n",
              "    .colab-df-convert {\n",
              "      background-color: #E8F0FE;\n",
              "      border: none;\n",
              "      border-radius: 50%;\n",
              "      cursor: pointer;\n",
              "      display: none;\n",
              "      fill: #1967D2;\n",
              "      height: 32px;\n",
              "      padding: 0 0 0 0;\n",
              "      width: 32px;\n",
              "    }\n",
              "\n",
              "    .colab-df-convert:hover {\n",
              "      background-color: #E2EBFA;\n",
              "      box-shadow: 0px 1px 2px rgba(60, 64, 67, 0.3), 0px 1px 3px 1px rgba(60, 64, 67, 0.15);\n",
              "      fill: #174EA6;\n",
              "    }\n",
              "\n",
              "    [theme=dark] .colab-df-convert {\n",
              "      background-color: #3B4455;\n",
              "      fill: #D2E3FC;\n",
              "    }\n",
              "\n",
              "    [theme=dark] .colab-df-convert:hover {\n",
              "      background-color: #434B5C;\n",
              "      box-shadow: 0px 1px 3px 1px rgba(0, 0, 0, 0.15);\n",
              "      filter: drop-shadow(0px 1px 2px rgba(0, 0, 0, 0.3));\n",
              "      fill: #FFFFFF;\n",
              "    }\n",
              "  </style>\n",
              "\n",
              "      <script>\n",
              "        const buttonEl =\n",
              "          document.querySelector('#df-8825477c-61c7-4ea0-a9c1-84ca471a4517 button.colab-df-convert');\n",
              "        buttonEl.style.display =\n",
              "          google.colab.kernel.accessAllowed ? 'block' : 'none';\n",
              "\n",
              "        async function convertToInteractive(key) {\n",
              "          const element = document.querySelector('#df-8825477c-61c7-4ea0-a9c1-84ca471a4517');\n",
              "          const dataTable =\n",
              "            await google.colab.kernel.invokeFunction('convertToInteractive',\n",
              "                                                     [key], {});\n",
              "          if (!dataTable) return;\n",
              "\n",
              "          const docLinkHtml = 'Like what you see? Visit the ' +\n",
              "            '<a target=\"_blank\" href=https://colab.research.google.com/notebooks/data_table.ipynb>data table notebook</a>'\n",
              "            + ' to learn more about interactive tables.';\n",
              "          element.innerHTML = '';\n",
              "          dataTable['output_type'] = 'display_data';\n",
              "          await google.colab.output.renderOutput(dataTable, element);\n",
              "          const docLink = document.createElement('div');\n",
              "          docLink.innerHTML = docLinkHtml;\n",
              "          element.appendChild(docLink);\n",
              "        }\n",
              "      </script>\n",
              "    </div>\n",
              "  </div>\n",
              "  "
            ]
          },
          "metadata": {},
          "execution_count": 158
        }
      ]
    },
    {
      "cell_type": "markdown",
      "source": [
        "##Amostragem por Conglomerado(Agrupamento)\n",
        "Divisão da população em grupos com características similares(escolas públicas), porém heterogêneas, e seleção aleatória de alguns grupos(de todas as escolas públicas algumas escolas) para analisar todos os elementos desse grupo."
      ],
      "metadata": {
        "id": "wzy_5w9qZnVe"
      }
    },
    {
      "cell_type": "code",
      "source": [
        "df_campinas.head(3)"
      ],
      "metadata": {
        "id": "bsjb__WC6l4c",
        "colab": {
          "base_uri": "https://localhost:8080/",
          "height": 207
        },
        "outputId": "601e9e0d-9238-4dbd-9d12-49d3ffe8ce61"
      },
      "execution_count": 159,
      "outputs": [
        {
          "output_type": "execute_result",
          "data": {
            "text/plain": [
              "   NU_INSCRICAO NO_MUNICIPIO_RESIDENCIA  IDADE SEXO TP_ESTADO_CIVIL    RACA  \\\n",
              "15     1,90E+11                Campinas     17    F        solterio  branca   \n",
              "31     1,90E+11                Campinas     19    F        solterio   parda   \n",
              "51     1,90E+11                Campinas     17    F        solterio  branca   \n",
              "\n",
              "   TP_NACIONALIDADE  TP_ST_CONCLUSAO         ESCOLA  CO_ESCOLA  \\\n",
              "15       brasileiro                1  nao_respondeu        NaN   \n",
              "31       brasileiro                1  nao_respondeu        NaN   \n",
              "51       brasileiro                2        publica        NaN   \n",
              "\n",
              "   NO_MUNICIPIO_ESC  TP_PRESENCA_CN  TP_PRESENCA_CH  TP_PRESENCA_LC  \\\n",
              "15              NaN               1               1               1   \n",
              "31              NaN               1               1               1   \n",
              "51              NaN               1               1               1   \n",
              "\n",
              "    TP_PRESENCA_MT  NOTA_CN  NOTA_CH  NOTA_LC  NOTA_MT TP_LINGUA  \\\n",
              "15               1    422.9    496.5    509.6    496.5    ingles   \n",
              "31               1    634.2    657.4    580.9     73.1    ingles   \n",
              "51               1    420.3    485.6    517.4    417.5    ingles   \n",
              "\n",
              "    TP_STATUS_REDACAO  COMP1  COMP2  COMP3  COMP4  COMP5  NOTA_REDACAO  \\\n",
              "15                1.0  160.0  120.0  140.0  140.0  120.0         680.0   \n",
              "31                1.0  140.0  120.0  160.0  140.0  160.0         720.0   \n",
              "51                1.0  160.0  140.0  160.0  120.0  160.0         740.0   \n",
              "\n",
              "   INTERNET  \n",
              "15      sim  \n",
              "31      sim  \n",
              "51      sim  "
            ],
            "text/html": [
              "\n",
              "  <div id=\"df-9e4f512a-7383-4230-a623-e13ff2e277c1\">\n",
              "    <div class=\"colab-df-container\">\n",
              "      <div>\n",
              "<style scoped>\n",
              "    .dataframe tbody tr th:only-of-type {\n",
              "        vertical-align: middle;\n",
              "    }\n",
              "\n",
              "    .dataframe tbody tr th {\n",
              "        vertical-align: top;\n",
              "    }\n",
              "\n",
              "    .dataframe thead th {\n",
              "        text-align: right;\n",
              "    }\n",
              "</style>\n",
              "<table border=\"1\" class=\"dataframe\">\n",
              "  <thead>\n",
              "    <tr style=\"text-align: right;\">\n",
              "      <th></th>\n",
              "      <th>NU_INSCRICAO</th>\n",
              "      <th>NO_MUNICIPIO_RESIDENCIA</th>\n",
              "      <th>IDADE</th>\n",
              "      <th>SEXO</th>\n",
              "      <th>TP_ESTADO_CIVIL</th>\n",
              "      <th>RACA</th>\n",
              "      <th>TP_NACIONALIDADE</th>\n",
              "      <th>TP_ST_CONCLUSAO</th>\n",
              "      <th>ESCOLA</th>\n",
              "      <th>CO_ESCOLA</th>\n",
              "      <th>NO_MUNICIPIO_ESC</th>\n",
              "      <th>TP_PRESENCA_CN</th>\n",
              "      <th>TP_PRESENCA_CH</th>\n",
              "      <th>TP_PRESENCA_LC</th>\n",
              "      <th>TP_PRESENCA_MT</th>\n",
              "      <th>NOTA_CN</th>\n",
              "      <th>NOTA_CH</th>\n",
              "      <th>NOTA_LC</th>\n",
              "      <th>NOTA_MT</th>\n",
              "      <th>TP_LINGUA</th>\n",
              "      <th>TP_STATUS_REDACAO</th>\n",
              "      <th>COMP1</th>\n",
              "      <th>COMP2</th>\n",
              "      <th>COMP3</th>\n",
              "      <th>COMP4</th>\n",
              "      <th>COMP5</th>\n",
              "      <th>NOTA_REDACAO</th>\n",
              "      <th>INTERNET</th>\n",
              "    </tr>\n",
              "  </thead>\n",
              "  <tbody>\n",
              "    <tr>\n",
              "      <th>15</th>\n",
              "      <td>1,90E+11</td>\n",
              "      <td>Campinas</td>\n",
              "      <td>17</td>\n",
              "      <td>F</td>\n",
              "      <td>solterio</td>\n",
              "      <td>branca</td>\n",
              "      <td>brasileiro</td>\n",
              "      <td>1</td>\n",
              "      <td>nao_respondeu</td>\n",
              "      <td>NaN</td>\n",
              "      <td>NaN</td>\n",
              "      <td>1</td>\n",
              "      <td>1</td>\n",
              "      <td>1</td>\n",
              "      <td>1</td>\n",
              "      <td>422.9</td>\n",
              "      <td>496.5</td>\n",
              "      <td>509.6</td>\n",
              "      <td>496.5</td>\n",
              "      <td>ingles</td>\n",
              "      <td>1.0</td>\n",
              "      <td>160.0</td>\n",
              "      <td>120.0</td>\n",
              "      <td>140.0</td>\n",
              "      <td>140.0</td>\n",
              "      <td>120.0</td>\n",
              "      <td>680.0</td>\n",
              "      <td>sim</td>\n",
              "    </tr>\n",
              "    <tr>\n",
              "      <th>31</th>\n",
              "      <td>1,90E+11</td>\n",
              "      <td>Campinas</td>\n",
              "      <td>19</td>\n",
              "      <td>F</td>\n",
              "      <td>solterio</td>\n",
              "      <td>parda</td>\n",
              "      <td>brasileiro</td>\n",
              "      <td>1</td>\n",
              "      <td>nao_respondeu</td>\n",
              "      <td>NaN</td>\n",
              "      <td>NaN</td>\n",
              "      <td>1</td>\n",
              "      <td>1</td>\n",
              "      <td>1</td>\n",
              "      <td>1</td>\n",
              "      <td>634.2</td>\n",
              "      <td>657.4</td>\n",
              "      <td>580.9</td>\n",
              "      <td>73.1</td>\n",
              "      <td>ingles</td>\n",
              "      <td>1.0</td>\n",
              "      <td>140.0</td>\n",
              "      <td>120.0</td>\n",
              "      <td>160.0</td>\n",
              "      <td>140.0</td>\n",
              "      <td>160.0</td>\n",
              "      <td>720.0</td>\n",
              "      <td>sim</td>\n",
              "    </tr>\n",
              "    <tr>\n",
              "      <th>51</th>\n",
              "      <td>1,90E+11</td>\n",
              "      <td>Campinas</td>\n",
              "      <td>17</td>\n",
              "      <td>F</td>\n",
              "      <td>solterio</td>\n",
              "      <td>branca</td>\n",
              "      <td>brasileiro</td>\n",
              "      <td>2</td>\n",
              "      <td>publica</td>\n",
              "      <td>NaN</td>\n",
              "      <td>NaN</td>\n",
              "      <td>1</td>\n",
              "      <td>1</td>\n",
              "      <td>1</td>\n",
              "      <td>1</td>\n",
              "      <td>420.3</td>\n",
              "      <td>485.6</td>\n",
              "      <td>517.4</td>\n",
              "      <td>417.5</td>\n",
              "      <td>ingles</td>\n",
              "      <td>1.0</td>\n",
              "      <td>160.0</td>\n",
              "      <td>140.0</td>\n",
              "      <td>160.0</td>\n",
              "      <td>120.0</td>\n",
              "      <td>160.0</td>\n",
              "      <td>740.0</td>\n",
              "      <td>sim</td>\n",
              "    </tr>\n",
              "  </tbody>\n",
              "</table>\n",
              "</div>\n",
              "      <button class=\"colab-df-convert\" onclick=\"convertToInteractive('df-9e4f512a-7383-4230-a623-e13ff2e277c1')\"\n",
              "              title=\"Convert this dataframe to an interactive table.\"\n",
              "              style=\"display:none;\">\n",
              "        \n",
              "  <svg xmlns=\"http://www.w3.org/2000/svg\" height=\"24px\"viewBox=\"0 0 24 24\"\n",
              "       width=\"24px\">\n",
              "    <path d=\"M0 0h24v24H0V0z\" fill=\"none\"/>\n",
              "    <path d=\"M18.56 5.44l.94 2.06.94-2.06 2.06-.94-2.06-.94-.94-2.06-.94 2.06-2.06.94zm-11 1L8.5 8.5l.94-2.06 2.06-.94-2.06-.94L8.5 2.5l-.94 2.06-2.06.94zm10 10l.94 2.06.94-2.06 2.06-.94-2.06-.94-.94-2.06-.94 2.06-2.06.94z\"/><path d=\"M17.41 7.96l-1.37-1.37c-.4-.4-.92-.59-1.43-.59-.52 0-1.04.2-1.43.59L10.3 9.45l-7.72 7.72c-.78.78-.78 2.05 0 2.83L4 21.41c.39.39.9.59 1.41.59.51 0 1.02-.2 1.41-.59l7.78-7.78 2.81-2.81c.8-.78.8-2.07 0-2.86zM5.41 20L4 18.59l7.72-7.72 1.47 1.35L5.41 20z\"/>\n",
              "  </svg>\n",
              "      </button>\n",
              "      \n",
              "  <style>\n",
              "    .colab-df-container {\n",
              "      display:flex;\n",
              "      flex-wrap:wrap;\n",
              "      gap: 12px;\n",
              "    }\n",
              "\n",
              "    .colab-df-convert {\n",
              "      background-color: #E8F0FE;\n",
              "      border: none;\n",
              "      border-radius: 50%;\n",
              "      cursor: pointer;\n",
              "      display: none;\n",
              "      fill: #1967D2;\n",
              "      height: 32px;\n",
              "      padding: 0 0 0 0;\n",
              "      width: 32px;\n",
              "    }\n",
              "\n",
              "    .colab-df-convert:hover {\n",
              "      background-color: #E2EBFA;\n",
              "      box-shadow: 0px 1px 2px rgba(60, 64, 67, 0.3), 0px 1px 3px 1px rgba(60, 64, 67, 0.15);\n",
              "      fill: #174EA6;\n",
              "    }\n",
              "\n",
              "    [theme=dark] .colab-df-convert {\n",
              "      background-color: #3B4455;\n",
              "      fill: #D2E3FC;\n",
              "    }\n",
              "\n",
              "    [theme=dark] .colab-df-convert:hover {\n",
              "      background-color: #434B5C;\n",
              "      box-shadow: 0px 1px 3px 1px rgba(0, 0, 0, 0.15);\n",
              "      filter: drop-shadow(0px 1px 2px rgba(0, 0, 0, 0.3));\n",
              "      fill: #FFFFFF;\n",
              "    }\n",
              "  </style>\n",
              "\n",
              "      <script>\n",
              "        const buttonEl =\n",
              "          document.querySelector('#df-9e4f512a-7383-4230-a623-e13ff2e277c1 button.colab-df-convert');\n",
              "        buttonEl.style.display =\n",
              "          google.colab.kernel.accessAllowed ? 'block' : 'none';\n",
              "\n",
              "        async function convertToInteractive(key) {\n",
              "          const element = document.querySelector('#df-9e4f512a-7383-4230-a623-e13ff2e277c1');\n",
              "          const dataTable =\n",
              "            await google.colab.kernel.invokeFunction('convertToInteractive',\n",
              "                                                     [key], {});\n",
              "          if (!dataTable) return;\n",
              "\n",
              "          const docLinkHtml = 'Like what you see? Visit the ' +\n",
              "            '<a target=\"_blank\" href=https://colab.research.google.com/notebooks/data_table.ipynb>data table notebook</a>'\n",
              "            + ' to learn more about interactive tables.';\n",
              "          element.innerHTML = '';\n",
              "          dataTable['output_type'] = 'display_data';\n",
              "          await google.colab.output.renderOutput(dataTable, element);\n",
              "          const docLink = document.createElement('div');\n",
              "          docLink.innerHTML = docLinkHtml;\n",
              "          element.appendChild(docLink);\n",
              "        }\n",
              "      </script>\n",
              "    </div>\n",
              "  </div>\n",
              "  "
            ]
          },
          "metadata": {},
          "execution_count": 159
        }
      ]
    },
    {
      "cell_type": "code",
      "source": [
        "#Separando o grupo dos estudantes de escolas públicas\n",
        "dfe_publica = df_campinas.loc[df_campinas.ESCOLA == 'publica']"
      ],
      "metadata": {
        "id": "F7lvdHlkZyip"
      },
      "execution_count": 160,
      "outputs": []
    },
    {
      "cell_type": "code",
      "source": [
        "dfe_publica.head(3)"
      ],
      "metadata": {
        "id": "qkZMBzsx6xyv",
        "colab": {
          "base_uri": "https://localhost:8080/",
          "height": 207
        },
        "outputId": "f004d2ce-e3fa-4772-8966-af0e263a1979"
      },
      "execution_count": 161,
      "outputs": [
        {
          "output_type": "execute_result",
          "data": {
            "text/plain": [
              "    NU_INSCRICAO NO_MUNICIPIO_RESIDENCIA  IDADE SEXO TP_ESTADO_CIVIL    RACA  \\\n",
              "51      1,90E+11                Campinas     17    F        solterio  branca   \n",
              "116     1,90E+11                Campinas     17    F        solterio  branca   \n",
              "325     1,90E+11                Campinas     17    M        solterio   parda   \n",
              "\n",
              "    TP_NACIONALIDADE  TP_ST_CONCLUSAO   ESCOLA   CO_ESCOLA NO_MUNICIPIO_ESC  \\\n",
              "51        brasileiro                2  publica         NaN              NaN   \n",
              "116       brasileiro                2  publica  26078562.0    Lagoa do Ouro   \n",
              "325       brasileiro                2  publica  35907376.0         Campinas   \n",
              "\n",
              "     TP_PRESENCA_CN  TP_PRESENCA_CH  TP_PRESENCA_LC  TP_PRESENCA_MT  NOTA_CN  \\\n",
              "51                1               1               1               1    420.3   \n",
              "116               1               1               1               1     39.7   \n",
              "325               1               1               1               1    443.3   \n",
              "\n",
              "     NOTA_CH  NOTA_LC  NOTA_MT TP_LINGUA  TP_STATUS_REDACAO  COMP1  COMP2  \\\n",
              "51     485.6    517.4    417.5    ingles                1.0  160.0  140.0   \n",
              "116    488.1    472.5    480.5  espanhol                1.0  120.0   60.0   \n",
              "325    465.8     55.8    509.3    ingles                1.0   80.0  120.0   \n",
              "\n",
              "     COMP3  COMP4  COMP5  NOTA_REDACAO INTERNET  \n",
              "51   160.0  120.0  160.0         740.0      sim  \n",
              "116   60.0  100.0    0.0         340.0      sim  \n",
              "325  100.0  100.0   80.0         480.0      sim  "
            ],
            "text/html": [
              "\n",
              "  <div id=\"df-1b03c3cb-35f6-4483-ada8-fdf92d366502\">\n",
              "    <div class=\"colab-df-container\">\n",
              "      <div>\n",
              "<style scoped>\n",
              "    .dataframe tbody tr th:only-of-type {\n",
              "        vertical-align: middle;\n",
              "    }\n",
              "\n",
              "    .dataframe tbody tr th {\n",
              "        vertical-align: top;\n",
              "    }\n",
              "\n",
              "    .dataframe thead th {\n",
              "        text-align: right;\n",
              "    }\n",
              "</style>\n",
              "<table border=\"1\" class=\"dataframe\">\n",
              "  <thead>\n",
              "    <tr style=\"text-align: right;\">\n",
              "      <th></th>\n",
              "      <th>NU_INSCRICAO</th>\n",
              "      <th>NO_MUNICIPIO_RESIDENCIA</th>\n",
              "      <th>IDADE</th>\n",
              "      <th>SEXO</th>\n",
              "      <th>TP_ESTADO_CIVIL</th>\n",
              "      <th>RACA</th>\n",
              "      <th>TP_NACIONALIDADE</th>\n",
              "      <th>TP_ST_CONCLUSAO</th>\n",
              "      <th>ESCOLA</th>\n",
              "      <th>CO_ESCOLA</th>\n",
              "      <th>NO_MUNICIPIO_ESC</th>\n",
              "      <th>TP_PRESENCA_CN</th>\n",
              "      <th>TP_PRESENCA_CH</th>\n",
              "      <th>TP_PRESENCA_LC</th>\n",
              "      <th>TP_PRESENCA_MT</th>\n",
              "      <th>NOTA_CN</th>\n",
              "      <th>NOTA_CH</th>\n",
              "      <th>NOTA_LC</th>\n",
              "      <th>NOTA_MT</th>\n",
              "      <th>TP_LINGUA</th>\n",
              "      <th>TP_STATUS_REDACAO</th>\n",
              "      <th>COMP1</th>\n",
              "      <th>COMP2</th>\n",
              "      <th>COMP3</th>\n",
              "      <th>COMP4</th>\n",
              "      <th>COMP5</th>\n",
              "      <th>NOTA_REDACAO</th>\n",
              "      <th>INTERNET</th>\n",
              "    </tr>\n",
              "  </thead>\n",
              "  <tbody>\n",
              "    <tr>\n",
              "      <th>51</th>\n",
              "      <td>1,90E+11</td>\n",
              "      <td>Campinas</td>\n",
              "      <td>17</td>\n",
              "      <td>F</td>\n",
              "      <td>solterio</td>\n",
              "      <td>branca</td>\n",
              "      <td>brasileiro</td>\n",
              "      <td>2</td>\n",
              "      <td>publica</td>\n",
              "      <td>NaN</td>\n",
              "      <td>NaN</td>\n",
              "      <td>1</td>\n",
              "      <td>1</td>\n",
              "      <td>1</td>\n",
              "      <td>1</td>\n",
              "      <td>420.3</td>\n",
              "      <td>485.6</td>\n",
              "      <td>517.4</td>\n",
              "      <td>417.5</td>\n",
              "      <td>ingles</td>\n",
              "      <td>1.0</td>\n",
              "      <td>160.0</td>\n",
              "      <td>140.0</td>\n",
              "      <td>160.0</td>\n",
              "      <td>120.0</td>\n",
              "      <td>160.0</td>\n",
              "      <td>740.0</td>\n",
              "      <td>sim</td>\n",
              "    </tr>\n",
              "    <tr>\n",
              "      <th>116</th>\n",
              "      <td>1,90E+11</td>\n",
              "      <td>Campinas</td>\n",
              "      <td>17</td>\n",
              "      <td>F</td>\n",
              "      <td>solterio</td>\n",
              "      <td>branca</td>\n",
              "      <td>brasileiro</td>\n",
              "      <td>2</td>\n",
              "      <td>publica</td>\n",
              "      <td>26078562.0</td>\n",
              "      <td>Lagoa do Ouro</td>\n",
              "      <td>1</td>\n",
              "      <td>1</td>\n",
              "      <td>1</td>\n",
              "      <td>1</td>\n",
              "      <td>39.7</td>\n",
              "      <td>488.1</td>\n",
              "      <td>472.5</td>\n",
              "      <td>480.5</td>\n",
              "      <td>espanhol</td>\n",
              "      <td>1.0</td>\n",
              "      <td>120.0</td>\n",
              "      <td>60.0</td>\n",
              "      <td>60.0</td>\n",
              "      <td>100.0</td>\n",
              "      <td>0.0</td>\n",
              "      <td>340.0</td>\n",
              "      <td>sim</td>\n",
              "    </tr>\n",
              "    <tr>\n",
              "      <th>325</th>\n",
              "      <td>1,90E+11</td>\n",
              "      <td>Campinas</td>\n",
              "      <td>17</td>\n",
              "      <td>M</td>\n",
              "      <td>solterio</td>\n",
              "      <td>parda</td>\n",
              "      <td>brasileiro</td>\n",
              "      <td>2</td>\n",
              "      <td>publica</td>\n",
              "      <td>35907376.0</td>\n",
              "      <td>Campinas</td>\n",
              "      <td>1</td>\n",
              "      <td>1</td>\n",
              "      <td>1</td>\n",
              "      <td>1</td>\n",
              "      <td>443.3</td>\n",
              "      <td>465.8</td>\n",
              "      <td>55.8</td>\n",
              "      <td>509.3</td>\n",
              "      <td>ingles</td>\n",
              "      <td>1.0</td>\n",
              "      <td>80.0</td>\n",
              "      <td>120.0</td>\n",
              "      <td>100.0</td>\n",
              "      <td>100.0</td>\n",
              "      <td>80.0</td>\n",
              "      <td>480.0</td>\n",
              "      <td>sim</td>\n",
              "    </tr>\n",
              "  </tbody>\n",
              "</table>\n",
              "</div>\n",
              "      <button class=\"colab-df-convert\" onclick=\"convertToInteractive('df-1b03c3cb-35f6-4483-ada8-fdf92d366502')\"\n",
              "              title=\"Convert this dataframe to an interactive table.\"\n",
              "              style=\"display:none;\">\n",
              "        \n",
              "  <svg xmlns=\"http://www.w3.org/2000/svg\" height=\"24px\"viewBox=\"0 0 24 24\"\n",
              "       width=\"24px\">\n",
              "    <path d=\"M0 0h24v24H0V0z\" fill=\"none\"/>\n",
              "    <path d=\"M18.56 5.44l.94 2.06.94-2.06 2.06-.94-2.06-.94-.94-2.06-.94 2.06-2.06.94zm-11 1L8.5 8.5l.94-2.06 2.06-.94-2.06-.94L8.5 2.5l-.94 2.06-2.06.94zm10 10l.94 2.06.94-2.06 2.06-.94-2.06-.94-.94-2.06-.94 2.06-2.06.94z\"/><path d=\"M17.41 7.96l-1.37-1.37c-.4-.4-.92-.59-1.43-.59-.52 0-1.04.2-1.43.59L10.3 9.45l-7.72 7.72c-.78.78-.78 2.05 0 2.83L4 21.41c.39.39.9.59 1.41.59.51 0 1.02-.2 1.41-.59l7.78-7.78 2.81-2.81c.8-.78.8-2.07 0-2.86zM5.41 20L4 18.59l7.72-7.72 1.47 1.35L5.41 20z\"/>\n",
              "  </svg>\n",
              "      </button>\n",
              "      \n",
              "  <style>\n",
              "    .colab-df-container {\n",
              "      display:flex;\n",
              "      flex-wrap:wrap;\n",
              "      gap: 12px;\n",
              "    }\n",
              "\n",
              "    .colab-df-convert {\n",
              "      background-color: #E8F0FE;\n",
              "      border: none;\n",
              "      border-radius: 50%;\n",
              "      cursor: pointer;\n",
              "      display: none;\n",
              "      fill: #1967D2;\n",
              "      height: 32px;\n",
              "      padding: 0 0 0 0;\n",
              "      width: 32px;\n",
              "    }\n",
              "\n",
              "    .colab-df-convert:hover {\n",
              "      background-color: #E2EBFA;\n",
              "      box-shadow: 0px 1px 2px rgba(60, 64, 67, 0.3), 0px 1px 3px 1px rgba(60, 64, 67, 0.15);\n",
              "      fill: #174EA6;\n",
              "    }\n",
              "\n",
              "    [theme=dark] .colab-df-convert {\n",
              "      background-color: #3B4455;\n",
              "      fill: #D2E3FC;\n",
              "    }\n",
              "\n",
              "    [theme=dark] .colab-df-convert:hover {\n",
              "      background-color: #434B5C;\n",
              "      box-shadow: 0px 1px 3px 1px rgba(0, 0, 0, 0.15);\n",
              "      filter: drop-shadow(0px 1px 2px rgba(0, 0, 0, 0.3));\n",
              "      fill: #FFFFFF;\n",
              "    }\n",
              "  </style>\n",
              "\n",
              "      <script>\n",
              "        const buttonEl =\n",
              "          document.querySelector('#df-1b03c3cb-35f6-4483-ada8-fdf92d366502 button.colab-df-convert');\n",
              "        buttonEl.style.display =\n",
              "          google.colab.kernel.accessAllowed ? 'block' : 'none';\n",
              "\n",
              "        async function convertToInteractive(key) {\n",
              "          const element = document.querySelector('#df-1b03c3cb-35f6-4483-ada8-fdf92d366502');\n",
              "          const dataTable =\n",
              "            await google.colab.kernel.invokeFunction('convertToInteractive',\n",
              "                                                     [key], {});\n",
              "          if (!dataTable) return;\n",
              "\n",
              "          const docLinkHtml = 'Like what you see? Visit the ' +\n",
              "            '<a target=\"_blank\" href=https://colab.research.google.com/notebooks/data_table.ipynb>data table notebook</a>'\n",
              "            + ' to learn more about interactive tables.';\n",
              "          element.innerHTML = '';\n",
              "          dataTable['output_type'] = 'display_data';\n",
              "          await google.colab.output.renderOutput(dataTable, element);\n",
              "          const docLink = document.createElement('div');\n",
              "          docLink.innerHTML = docLinkHtml;\n",
              "          element.appendChild(docLink);\n",
              "        }\n",
              "      </script>\n",
              "    </div>\n",
              "  </div>\n",
              "  "
            ]
          },
          "metadata": {},
          "execution_count": 161
        }
      ]
    },
    {
      "cell_type": "code",
      "source": [
        "#Observando valores que ficaram na coluna ESCOLA\n",
        "dfe_publica['ESCOLA'].unique()"
      ],
      "metadata": {
        "id": "NOTpvyQr7WAS",
        "colab": {
          "base_uri": "https://localhost:8080/"
        },
        "outputId": "42ac47ec-f8e7-40e8-9dc7-1610046046d4"
      },
      "execution_count": 162,
      "outputs": [
        {
          "output_type": "execute_result",
          "data": {
            "text/plain": [
              "array(['publica'], dtype=object)"
            ]
          },
          "metadata": {},
          "execution_count": 162
        }
      ]
    },
    {
      "cell_type": "code",
      "source": [
        "#Contando os valores únicos\n",
        "dfe_publica['ESCOLA'].value_counts()"
      ],
      "metadata": {
        "id": "dsCm8M-E7uqc",
        "colab": {
          "base_uri": "https://localhost:8080/"
        },
        "outputId": "b8b8ef66-c59d-4993-f99f-5a138fcab19d"
      },
      "execution_count": 163,
      "outputs": [
        {
          "output_type": "execute_result",
          "data": {
            "text/plain": [
              "publica    4175\n",
              "Name: ESCOLA, dtype: int64"
            ]
          },
          "metadata": {},
          "execution_count": 163
        }
      ]
    },
    {
      "cell_type": "code",
      "source": [
        "dfe_publica.shape"
      ],
      "metadata": {
        "id": "5LMWTKQJ7wrX",
        "colab": {
          "base_uri": "https://localhost:8080/"
        },
        "outputId": "eb054cea-b30a-4652-a1da-815e0c2ea141"
      },
      "execution_count": 164,
      "outputs": [
        {
          "output_type": "execute_result",
          "data": {
            "text/plain": [
              "(4175, 28)"
            ]
          },
          "metadata": {},
          "execution_count": 164
        }
      ]
    },
    {
      "cell_type": "markdown",
      "source": [
        "###Grupos para seleção da amostragem"
      ],
      "metadata": {
        "id": "dULfdGhC85au"
      }
    },
    {
      "cell_type": "code",
      "source": [
        "#Agora o objetivo é separar os estudantes em grupos de cada escola a partir do código da escola\n",
        "amostra = dfe_publica['CO_ESCOLA'].value_counts()\n",
        "amostra"
      ],
      "metadata": {
        "id": "ZFMnw_tP8Luy",
        "colab": {
          "base_uri": "https://localhost:8080/"
        },
        "outputId": "e4490e1f-c9b9-4bb9-d025-e5f835db5f54"
      },
      "execution_count": 165,
      "outputs": [
        {
          "output_type": "execute_result",
          "data": {
            "text/plain": [
              "35045937.0    152\n",
              "35018363.0    134\n",
              "35018797.0    124\n",
              "35018879.0    110\n",
              "35018326.0    109\n",
              "             ... \n",
              "35462822.0      1\n",
              "35058836.0      1\n",
              "35112926.0      1\n",
              "35017255.0      1\n",
              "35047053.0      1\n",
              "Name: CO_ESCOLA, Length: 186, dtype: int64"
            ]
          },
          "metadata": {},
          "execution_count": 165
        }
      ]
    },
    {
      "cell_type": "code",
      "source": [
        "#o cód vai virar o índice\n",
        "amostra.index"
      ],
      "metadata": {
        "colab": {
          "base_uri": "https://localhost:8080/"
        },
        "id": "tGydtrhnjouL",
        "outputId": "63a40536-3005-4bb1-a2d1-158de46c5120"
      },
      "execution_count": 166,
      "outputs": [
        {
          "output_type": "execute_result",
          "data": {
            "text/plain": [
              "Float64Index([35045937.0, 35018363.0, 35018797.0, 35018879.0, 35018326.0,\n",
              "              35047200.0, 35901097.0, 35045949.0, 35018235.0, 35018302.0,\n",
              "              ...\n",
              "              35018181.0, 35445757.0, 35045724.0, 35432842.0, 35039834.0,\n",
              "              35462822.0, 35058836.0, 35112926.0, 35017255.0, 35047053.0],\n",
              "             dtype='float64', length=186)"
            ]
          },
          "metadata": {},
          "execution_count": 166
        }
      ]
    },
    {
      "cell_type": "code",
      "source": [
        "#Selecionar aleatóriamente 15% dos cód das escolas\n",
        "amostragem = np.random.choice(a=[0,1],size=186, replace=True, p=[0.85, 0.15])"
      ],
      "metadata": {
        "id": "N0XQtnh7k4yG"
      },
      "execution_count": 168,
      "outputs": []
    },
    {
      "cell_type": "code",
      "source": [
        "amostragem"
      ],
      "metadata": {
        "colab": {
          "base_uri": "https://localhost:8080/"
        },
        "id": "uVgNW7UmlhqA",
        "outputId": "eb4745a6-7ef0-49b1-ae39-6c19656b0f84"
      },
      "execution_count": 169,
      "outputs": [
        {
          "output_type": "execute_result",
          "data": {
            "text/plain": [
              "array([0, 0, 0, 0, 0, 1, 0, 0, 0, 1, 0, 0, 0, 0, 0, 0, 0, 0, 1, 0, 0, 0,\n",
              "       0, 0, 0, 1, 1, 1, 0, 0, 0, 1, 0, 0, 0, 0, 1, 0, 0, 0, 0, 0, 0, 0,\n",
              "       1, 1, 0, 0, 0, 1, 0, 0, 0, 0, 0, 1, 0, 0, 0, 0, 0, 0, 0, 0, 0, 0,\n",
              "       0, 0, 1, 0, 0, 0, 0, 1, 0, 0, 1, 0, 0, 0, 0, 0, 0, 0, 0, 0, 0, 0,\n",
              "       0, 1, 0, 0, 0, 0, 0, 1, 0, 0, 0, 0, 1, 0, 0, 0, 0, 0, 0, 1, 0, 0,\n",
              "       0, 0, 0, 1, 0, 0, 0, 0, 1, 0, 0, 0, 0, 0, 0, 0, 0, 0, 0, 0, 0, 0,\n",
              "       0, 0, 0, 0, 0, 0, 0, 0, 0, 1, 0, 0, 0, 0, 0, 1, 0, 0, 1, 0, 0, 0,\n",
              "       1, 0, 0, 0, 0, 0, 0, 0, 0, 0, 0, 0, 0, 1, 0, 0, 1, 0, 1, 0, 0, 0,\n",
              "       1, 0, 0, 0, 0, 0, 0, 0, 1, 0])"
            ]
          },
          "metadata": {},
          "execution_count": 169
        }
      ]
    },
    {
      "cell_type": "code",
      "source": [
        "#Colocndo os íncices das escolas selecionadas da amostra em uma variável\n",
        "amos_conglomerado = amostra.loc[amostragem == 1]"
      ],
      "metadata": {
        "id": "GBl7JfJslktf"
      },
      "execution_count": 172,
      "outputs": []
    },
    {
      "cell_type": "code",
      "source": [
        "amos_conglomerado"
      ],
      "metadata": {
        "colab": {
          "base_uri": "https://localhost:8080/"
        },
        "id": "Wobguv0Imfvc",
        "outputId": "332e9e07-2479-4a63-836b-5ce81c01519f"
      },
      "execution_count": 173,
      "outputs": [
        {
          "output_type": "execute_result",
          "data": {
            "text/plain": [
              "35047200.0    93\n",
              "35018302.0    73\n",
              "35047120.0    49\n",
              "35018521.0    36\n",
              "35018089.0    35\n",
              "35905471.0    35\n",
              "35018120.0    32\n",
              "35924945.0    29\n",
              "35903875.0    25\n",
              "35018272.0    24\n",
              "35907352.0    22\n",
              "35923655.0    20\n",
              "35040873.0    15\n",
              "35018910.0    13\n",
              "35018417.0    13\n",
              "35065535.0     9\n",
              "35430705.0     8\n",
              "35047156.0     7\n",
              "35018107.0     6\n",
              "35118084.0     5\n",
              "35123080.0     4\n",
              "35112896.0     2\n",
              "35462342.0     1\n",
              "35009751.0     1\n",
              "35985600.0     1\n",
              "23128178.0     1\n",
              "35112252.0     1\n",
              "35138769.0     1\n",
              "35018181.0     1\n",
              "35017255.0     1\n",
              "Name: CO_ESCOLA, dtype: int64"
            ]
          },
          "metadata": {},
          "execution_count": 173
        }
      ]
    },
    {
      "cell_type": "code",
      "source": [
        "amos_conglomerado.index"
      ],
      "metadata": {
        "colab": {
          "base_uri": "https://localhost:8080/"
        },
        "id": "O-SbcfeSmnAF",
        "outputId": "16c4b559-4519-486c-9a92-f28e75f6394d"
      },
      "execution_count": 174,
      "outputs": [
        {
          "output_type": "execute_result",
          "data": {
            "text/plain": [
              "Float64Index([35047200.0, 35018302.0, 35047120.0, 35018521.0, 35018089.0,\n",
              "              35905471.0, 35018120.0, 35924945.0, 35903875.0, 35018272.0,\n",
              "              35907352.0, 35923655.0, 35040873.0, 35018910.0, 35018417.0,\n",
              "              35065535.0, 35430705.0, 35047156.0, 35018107.0, 35118084.0,\n",
              "              35123080.0, 35112896.0, 35462342.0, 35009751.0, 35985600.0,\n",
              "              23128178.0, 35112252.0, 35138769.0, 35018181.0, 35017255.0],\n",
              "             dtype='float64')"
            ]
          },
          "metadata": {},
          "execution_count": 174
        }
      ]
    },
    {
      "cell_type": "code",
      "source": [
        "#Criando um df  com as escolas selecionadas para a amostragem,\n",
        "df_conglomerado = dfe_publica.loc[dfe_publica['CO_ESCOLA'].isin([35112859.0, 35905471.0, 35045950.0, 35018508.0, 35905461.0,\n",
        "              35914897.0, 35125568.0, 35127012.0, 35037965.0, 35018910.0,\n",
        "              35127784.0, 35925962.0, 35907397.0, 35118084.0, 35579403.0,\n",
        "              35458569.0, 35985296.0, 35045724.0, 35150095.0, 35138769.0,\n",
        "              35337833.0, 35500012.0, 26127741.0, 35462342.0, 35445757.0,\n",
        "              35058836.0, 35035956.0])]"
      ],
      "metadata": {
        "id": "n3ePzneRm_LH"
      },
      "execution_count": 177,
      "outputs": []
    },
    {
      "cell_type": "code",
      "source": [
        "df_conglomerado.shape"
      ],
      "metadata": {
        "colab": {
          "base_uri": "https://localhost:8080/"
        },
        "id": "NTCq7IThnQVs",
        "outputId": "91188788-4f35-48c5-ac27-c31e59c00bef"
      },
      "execution_count": 178,
      "outputs": [
        {
          "output_type": "execute_result",
          "data": {
            "text/plain": [
              "(293, 28)"
            ]
          },
          "metadata": {},
          "execution_count": 178
        }
      ]
    },
    {
      "cell_type": "code",
      "source": [
        "#Este df contém a amostra que contém todos os alunos das escolas(grupos) que possuem uma similaridade(são  escolas públicas)\n",
        "df_conglomerado.head()"
      ],
      "metadata": {
        "colab": {
          "base_uri": "https://localhost:8080/",
          "height": 270
        },
        "id": "3mlTv0qTnWCF",
        "outputId": "361eed0f-7b8c-4493-f257-4c0d5734d578"
      },
      "execution_count": 179,
      "outputs": [
        {
          "output_type": "execute_result",
          "data": {
            "text/plain": [
              "     NU_INSCRICAO NO_MUNICIPIO_RESIDENCIA  IDADE SEXO TP_ESTADO_CIVIL    RACA  \\\n",
              "2066     1,90E+11                Campinas     17    F        solterio   parda   \n",
              "5050     1,90E+11                Campinas     17    F        solterio  branca   \n",
              "5267     1,90E+11                Campinas     17    F        solterio  branca   \n",
              "6279     1,90E+11                Campinas     17    F        solterio  branca   \n",
              "6389     1,90E+11                Campinas     17    M        solterio   parda   \n",
              "\n",
              "     TP_NACIONALIDADE  TP_ST_CONCLUSAO   ESCOLA   CO_ESCOLA NO_MUNICIPIO_ESC  \\\n",
              "2066       brasileiro                2  publica  35905471.0         Campinas   \n",
              "5050       brasileiro                2  publica  35045950.0          Limeira   \n",
              "5267       brasileiro                2  publica  35905461.0         Campinas   \n",
              "6279       brasileiro                2  publica  35907397.0         Campinas   \n",
              "6389       brasileiro                2  publica  35112859.0         Campinas   \n",
              "\n",
              "      TP_PRESENCA_CN  TP_PRESENCA_CH  TP_PRESENCA_LC  TP_PRESENCA_MT  NOTA_CN  \\\n",
              "2066               1               1               1               1    596.1   \n",
              "5050               1               1               1               1    604.4   \n",
              "5267               1               1               1               1    423.9   \n",
              "6279               1               1               1               1    440.5   \n",
              "6389               1               1               1               1    525.3   \n",
              "\n",
              "      NOTA_CH  NOTA_LC  NOTA_MT TP_LINGUA  TP_STATUS_REDACAO  COMP1  COMP2  \\\n",
              "2066    610.6    594.9    598.8    ingles                1.0  160.0  200.0   \n",
              "5050     62.0     59.5    728.7    ingles                1.0  140.0  160.0   \n",
              "5267    479.7    471.1    416.5    ingles                1.0  120.0  140.0   \n",
              "6279    401.1    445.2    541.4  espanhol                1.0  100.0  120.0   \n",
              "6389     53.3    474.9    614.4    ingles                1.0  120.0  120.0   \n",
              "\n",
              "      COMP3  COMP4  COMP5  NOTA_REDACAO INTERNET  \n",
              "2066  200.0  200.0  180.0         940.0      sim  \n",
              "5050  140.0  140.0  140.0         720.0      sim  \n",
              "5267  120.0  100.0   80.0         560.0      sim  \n",
              "6279   80.0   80.0   80.0         460.0      sim  \n",
              "6389  120.0  120.0  100.0         580.0      sim  "
            ],
            "text/html": [
              "\n",
              "  <div id=\"df-0316502b-8290-4b65-b0bd-36cefdea2ddf\">\n",
              "    <div class=\"colab-df-container\">\n",
              "      <div>\n",
              "<style scoped>\n",
              "    .dataframe tbody tr th:only-of-type {\n",
              "        vertical-align: middle;\n",
              "    }\n",
              "\n",
              "    .dataframe tbody tr th {\n",
              "        vertical-align: top;\n",
              "    }\n",
              "\n",
              "    .dataframe thead th {\n",
              "        text-align: right;\n",
              "    }\n",
              "</style>\n",
              "<table border=\"1\" class=\"dataframe\">\n",
              "  <thead>\n",
              "    <tr style=\"text-align: right;\">\n",
              "      <th></th>\n",
              "      <th>NU_INSCRICAO</th>\n",
              "      <th>NO_MUNICIPIO_RESIDENCIA</th>\n",
              "      <th>IDADE</th>\n",
              "      <th>SEXO</th>\n",
              "      <th>TP_ESTADO_CIVIL</th>\n",
              "      <th>RACA</th>\n",
              "      <th>TP_NACIONALIDADE</th>\n",
              "      <th>TP_ST_CONCLUSAO</th>\n",
              "      <th>ESCOLA</th>\n",
              "      <th>CO_ESCOLA</th>\n",
              "      <th>NO_MUNICIPIO_ESC</th>\n",
              "      <th>TP_PRESENCA_CN</th>\n",
              "      <th>TP_PRESENCA_CH</th>\n",
              "      <th>TP_PRESENCA_LC</th>\n",
              "      <th>TP_PRESENCA_MT</th>\n",
              "      <th>NOTA_CN</th>\n",
              "      <th>NOTA_CH</th>\n",
              "      <th>NOTA_LC</th>\n",
              "      <th>NOTA_MT</th>\n",
              "      <th>TP_LINGUA</th>\n",
              "      <th>TP_STATUS_REDACAO</th>\n",
              "      <th>COMP1</th>\n",
              "      <th>COMP2</th>\n",
              "      <th>COMP3</th>\n",
              "      <th>COMP4</th>\n",
              "      <th>COMP5</th>\n",
              "      <th>NOTA_REDACAO</th>\n",
              "      <th>INTERNET</th>\n",
              "    </tr>\n",
              "  </thead>\n",
              "  <tbody>\n",
              "    <tr>\n",
              "      <th>2066</th>\n",
              "      <td>1,90E+11</td>\n",
              "      <td>Campinas</td>\n",
              "      <td>17</td>\n",
              "      <td>F</td>\n",
              "      <td>solterio</td>\n",
              "      <td>parda</td>\n",
              "      <td>brasileiro</td>\n",
              "      <td>2</td>\n",
              "      <td>publica</td>\n",
              "      <td>35905471.0</td>\n",
              "      <td>Campinas</td>\n",
              "      <td>1</td>\n",
              "      <td>1</td>\n",
              "      <td>1</td>\n",
              "      <td>1</td>\n",
              "      <td>596.1</td>\n",
              "      <td>610.6</td>\n",
              "      <td>594.9</td>\n",
              "      <td>598.8</td>\n",
              "      <td>ingles</td>\n",
              "      <td>1.0</td>\n",
              "      <td>160.0</td>\n",
              "      <td>200.0</td>\n",
              "      <td>200.0</td>\n",
              "      <td>200.0</td>\n",
              "      <td>180.0</td>\n",
              "      <td>940.0</td>\n",
              "      <td>sim</td>\n",
              "    </tr>\n",
              "    <tr>\n",
              "      <th>5050</th>\n",
              "      <td>1,90E+11</td>\n",
              "      <td>Campinas</td>\n",
              "      <td>17</td>\n",
              "      <td>F</td>\n",
              "      <td>solterio</td>\n",
              "      <td>branca</td>\n",
              "      <td>brasileiro</td>\n",
              "      <td>2</td>\n",
              "      <td>publica</td>\n",
              "      <td>35045950.0</td>\n",
              "      <td>Limeira</td>\n",
              "      <td>1</td>\n",
              "      <td>1</td>\n",
              "      <td>1</td>\n",
              "      <td>1</td>\n",
              "      <td>604.4</td>\n",
              "      <td>62.0</td>\n",
              "      <td>59.5</td>\n",
              "      <td>728.7</td>\n",
              "      <td>ingles</td>\n",
              "      <td>1.0</td>\n",
              "      <td>140.0</td>\n",
              "      <td>160.0</td>\n",
              "      <td>140.0</td>\n",
              "      <td>140.0</td>\n",
              "      <td>140.0</td>\n",
              "      <td>720.0</td>\n",
              "      <td>sim</td>\n",
              "    </tr>\n",
              "    <tr>\n",
              "      <th>5267</th>\n",
              "      <td>1,90E+11</td>\n",
              "      <td>Campinas</td>\n",
              "      <td>17</td>\n",
              "      <td>F</td>\n",
              "      <td>solterio</td>\n",
              "      <td>branca</td>\n",
              "      <td>brasileiro</td>\n",
              "      <td>2</td>\n",
              "      <td>publica</td>\n",
              "      <td>35905461.0</td>\n",
              "      <td>Campinas</td>\n",
              "      <td>1</td>\n",
              "      <td>1</td>\n",
              "      <td>1</td>\n",
              "      <td>1</td>\n",
              "      <td>423.9</td>\n",
              "      <td>479.7</td>\n",
              "      <td>471.1</td>\n",
              "      <td>416.5</td>\n",
              "      <td>ingles</td>\n",
              "      <td>1.0</td>\n",
              "      <td>120.0</td>\n",
              "      <td>140.0</td>\n",
              "      <td>120.0</td>\n",
              "      <td>100.0</td>\n",
              "      <td>80.0</td>\n",
              "      <td>560.0</td>\n",
              "      <td>sim</td>\n",
              "    </tr>\n",
              "    <tr>\n",
              "      <th>6279</th>\n",
              "      <td>1,90E+11</td>\n",
              "      <td>Campinas</td>\n",
              "      <td>17</td>\n",
              "      <td>F</td>\n",
              "      <td>solterio</td>\n",
              "      <td>branca</td>\n",
              "      <td>brasileiro</td>\n",
              "      <td>2</td>\n",
              "      <td>publica</td>\n",
              "      <td>35907397.0</td>\n",
              "      <td>Campinas</td>\n",
              "      <td>1</td>\n",
              "      <td>1</td>\n",
              "      <td>1</td>\n",
              "      <td>1</td>\n",
              "      <td>440.5</td>\n",
              "      <td>401.1</td>\n",
              "      <td>445.2</td>\n",
              "      <td>541.4</td>\n",
              "      <td>espanhol</td>\n",
              "      <td>1.0</td>\n",
              "      <td>100.0</td>\n",
              "      <td>120.0</td>\n",
              "      <td>80.0</td>\n",
              "      <td>80.0</td>\n",
              "      <td>80.0</td>\n",
              "      <td>460.0</td>\n",
              "      <td>sim</td>\n",
              "    </tr>\n",
              "    <tr>\n",
              "      <th>6389</th>\n",
              "      <td>1,90E+11</td>\n",
              "      <td>Campinas</td>\n",
              "      <td>17</td>\n",
              "      <td>M</td>\n",
              "      <td>solterio</td>\n",
              "      <td>parda</td>\n",
              "      <td>brasileiro</td>\n",
              "      <td>2</td>\n",
              "      <td>publica</td>\n",
              "      <td>35112859.0</td>\n",
              "      <td>Campinas</td>\n",
              "      <td>1</td>\n",
              "      <td>1</td>\n",
              "      <td>1</td>\n",
              "      <td>1</td>\n",
              "      <td>525.3</td>\n",
              "      <td>53.3</td>\n",
              "      <td>474.9</td>\n",
              "      <td>614.4</td>\n",
              "      <td>ingles</td>\n",
              "      <td>1.0</td>\n",
              "      <td>120.0</td>\n",
              "      <td>120.0</td>\n",
              "      <td>120.0</td>\n",
              "      <td>120.0</td>\n",
              "      <td>100.0</td>\n",
              "      <td>580.0</td>\n",
              "      <td>sim</td>\n",
              "    </tr>\n",
              "  </tbody>\n",
              "</table>\n",
              "</div>\n",
              "      <button class=\"colab-df-convert\" onclick=\"convertToInteractive('df-0316502b-8290-4b65-b0bd-36cefdea2ddf')\"\n",
              "              title=\"Convert this dataframe to an interactive table.\"\n",
              "              style=\"display:none;\">\n",
              "        \n",
              "  <svg xmlns=\"http://www.w3.org/2000/svg\" height=\"24px\"viewBox=\"0 0 24 24\"\n",
              "       width=\"24px\">\n",
              "    <path d=\"M0 0h24v24H0V0z\" fill=\"none\"/>\n",
              "    <path d=\"M18.56 5.44l.94 2.06.94-2.06 2.06-.94-2.06-.94-.94-2.06-.94 2.06-2.06.94zm-11 1L8.5 8.5l.94-2.06 2.06-.94-2.06-.94L8.5 2.5l-.94 2.06-2.06.94zm10 10l.94 2.06.94-2.06 2.06-.94-2.06-.94-.94-2.06-.94 2.06-2.06.94z\"/><path d=\"M17.41 7.96l-1.37-1.37c-.4-.4-.92-.59-1.43-.59-.52 0-1.04.2-1.43.59L10.3 9.45l-7.72 7.72c-.78.78-.78 2.05 0 2.83L4 21.41c.39.39.9.59 1.41.59.51 0 1.02-.2 1.41-.59l7.78-7.78 2.81-2.81c.8-.78.8-2.07 0-2.86zM5.41 20L4 18.59l7.72-7.72 1.47 1.35L5.41 20z\"/>\n",
              "  </svg>\n",
              "      </button>\n",
              "      \n",
              "  <style>\n",
              "    .colab-df-container {\n",
              "      display:flex;\n",
              "      flex-wrap:wrap;\n",
              "      gap: 12px;\n",
              "    }\n",
              "\n",
              "    .colab-df-convert {\n",
              "      background-color: #E8F0FE;\n",
              "      border: none;\n",
              "      border-radius: 50%;\n",
              "      cursor: pointer;\n",
              "      display: none;\n",
              "      fill: #1967D2;\n",
              "      height: 32px;\n",
              "      padding: 0 0 0 0;\n",
              "      width: 32px;\n",
              "    }\n",
              "\n",
              "    .colab-df-convert:hover {\n",
              "      background-color: #E2EBFA;\n",
              "      box-shadow: 0px 1px 2px rgba(60, 64, 67, 0.3), 0px 1px 3px 1px rgba(60, 64, 67, 0.15);\n",
              "      fill: #174EA6;\n",
              "    }\n",
              "\n",
              "    [theme=dark] .colab-df-convert {\n",
              "      background-color: #3B4455;\n",
              "      fill: #D2E3FC;\n",
              "    }\n",
              "\n",
              "    [theme=dark] .colab-df-convert:hover {\n",
              "      background-color: #434B5C;\n",
              "      box-shadow: 0px 1px 3px 1px rgba(0, 0, 0, 0.15);\n",
              "      filter: drop-shadow(0px 1px 2px rgba(0, 0, 0, 0.3));\n",
              "      fill: #FFFFFF;\n",
              "    }\n",
              "  </style>\n",
              "\n",
              "      <script>\n",
              "        const buttonEl =\n",
              "          document.querySelector('#df-0316502b-8290-4b65-b0bd-36cefdea2ddf button.colab-df-convert');\n",
              "        buttonEl.style.display =\n",
              "          google.colab.kernel.accessAllowed ? 'block' : 'none';\n",
              "\n",
              "        async function convertToInteractive(key) {\n",
              "          const element = document.querySelector('#df-0316502b-8290-4b65-b0bd-36cefdea2ddf');\n",
              "          const dataTable =\n",
              "            await google.colab.kernel.invokeFunction('convertToInteractive',\n",
              "                                                     [key], {});\n",
              "          if (!dataTable) return;\n",
              "\n",
              "          const docLinkHtml = 'Like what you see? Visit the ' +\n",
              "            '<a target=\"_blank\" href=https://colab.research.google.com/notebooks/data_table.ipynb>data table notebook</a>'\n",
              "            + ' to learn more about interactive tables.';\n",
              "          element.innerHTML = '';\n",
              "          dataTable['output_type'] = 'display_data';\n",
              "          await google.colab.output.renderOutput(dataTable, element);\n",
              "          const docLink = document.createElement('div');\n",
              "          docLink.innerHTML = docLinkHtml;\n",
              "          element.appendChild(docLink);\n",
              "        }\n",
              "      </script>\n",
              "    </div>\n",
              "  </div>\n",
              "  "
            ]
          },
          "metadata": {},
          "execution_count": 179
        }
      ]
    }
  ]
}