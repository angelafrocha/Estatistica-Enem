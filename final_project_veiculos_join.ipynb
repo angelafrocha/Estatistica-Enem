{
  "nbformat": 4,
  "nbformat_minor": 0,
  "metadata": {
    "colab": {
      "provenance": [],
      "collapsed_sections": [
        "dxEDSVuDgLsC",
        "k9VJqlZugArg",
        "dU2W1_r6ACLN",
        "pGrPnQ25ALUt",
        "8F8Gq3PHI8qv",
        "9n9ReDfuPFZM",
        "ILOuw7WEoYI6"
      ],
      "include_colab_link": true
    },
    "kernelspec": {
      "name": "python3",
      "display_name": "Python 3"
    },
    "language_info": {
      "name": "python"
    }
  },
  "cells": [
    {
      "cell_type": "markdown",
      "metadata": {
        "id": "view-in-github",
        "colab_type": "text"
      },
      "source": [
        "<a href=\"https://colab.research.google.com/github/angelafrocha/Estatistica-com-Python-para-analise-de-dados/blob/main/final_project_veiculos_join.ipynb\" target=\"_parent\"><img src=\"https://colab.research.google.com/assets/colab-badge.svg\" alt=\"Open In Colab\"/></a>"
      ]
    },
    {
      "cell_type": "markdown",
      "source": [
        "#INSTALAÇÃO E IMPORTAÇÃO DE BIBLIOTECAS#"
      ],
      "metadata": {
        "id": "dxEDSVuDgLsC"
      }
    },
    {
      "cell_type": "code",
      "execution_count": null,
      "metadata": {
        "colab": {
          "base_uri": "https://localhost:8080/"
        },
        "id": "g1S2UAyq2WPX",
        "outputId": "1edb9916-4a85-48fc-fe3c-b7d43aa5d9a6"
      },
      "outputs": [
        {
          "output_type": "stream",
          "name": "stdout",
          "text": [
            "Looking in indexes: https://pypi.org/simple, https://us-python.pkg.dev/colab-wheels/public/simple/\n",
            "Collecting pyspark\n",
            "  Downloading pyspark-3.4.0.tar.gz (310.8 MB)\n",
            "\u001b[2K     \u001b[90m━━━━━━━━━━━━━━━━━━━━━━━━━━━━━━━━━━━━━━━\u001b[0m \u001b[32m310.8/310.8 MB\u001b[0m \u001b[31m3.0 MB/s\u001b[0m eta \u001b[36m0:00:00\u001b[0m\n",
            "\u001b[?25h  Preparing metadata (setup.py) ... \u001b[?25l\u001b[?25hdone\n",
            "Requirement already satisfied: py4j==0.10.9.7 in /usr/local/lib/python3.10/dist-packages (from pyspark) (0.10.9.7)\n",
            "Building wheels for collected packages: pyspark\n",
            "  Building wheel for pyspark (setup.py) ... \u001b[?25l\u001b[?25hdone\n",
            "  Created wheel for pyspark: filename=pyspark-3.4.0-py2.py3-none-any.whl size=311317130 sha256=8b566ebc121cd31022458c7a6bc6a784b5da0f6eb4b6db8049523d0d16aed9da\n",
            "  Stored in directory: /root/.cache/pip/wheels/7b/1b/4b/3363a1d04368e7ff0d408e57ff57966fcdf00583774e761327\n",
            "Successfully built pyspark\n",
            "Installing collected packages: pyspark\n",
            "Successfully installed pyspark-3.4.0\n"
          ]
        }
      ],
      "source": [
        "!pip install pyspark"
      ]
    },
    {
      "cell_type": "code",
      "source": [
        "!pip install gcsfs"
      ],
      "metadata": {
        "colab": {
          "base_uri": "https://localhost:8080/"
        },
        "id": "c-KZb0CR3_an",
        "outputId": "bfc39839-4c0d-4002-e9c3-1290166d314d"
      },
      "execution_count": null,
      "outputs": [
        {
          "output_type": "stream",
          "name": "stdout",
          "text": [
            "Looking in indexes: https://pypi.org/simple, https://us-python.pkg.dev/colab-wheels/public/simple/\n",
            "Collecting gcsfs\n",
            "  Downloading gcsfs-2023.5.0-py2.py3-none-any.whl (26 kB)\n",
            "Collecting aiohttp!=4.0.0a0,!=4.0.0a1 (from gcsfs)\n",
            "  Downloading aiohttp-3.8.4-cp310-cp310-manylinux_2_17_x86_64.manylinux2014_x86_64.whl (1.0 MB)\n",
            "\u001b[2K     \u001b[90m━━━━━━━━━━━━━━━━━━━━━━━━━━━━━━━━━━━━━━━━\u001b[0m \u001b[32m1.0/1.0 MB\u001b[0m \u001b[31m15.8 MB/s\u001b[0m eta \u001b[36m0:00:00\u001b[0m\n",
            "\u001b[?25hRequirement already satisfied: decorator>4.1.2 in /usr/local/lib/python3.10/dist-packages (from gcsfs) (4.4.2)\n",
            "Collecting fsspec==2023.5.0 (from gcsfs)\n",
            "  Downloading fsspec-2023.5.0-py3-none-any.whl (160 kB)\n",
            "\u001b[2K     \u001b[90m━━━━━━━━━━━━━━━━━━━━━━━━━━━━━━━━━━━━━━\u001b[0m \u001b[32m160.1/160.1 kB\u001b[0m \u001b[31m12.5 MB/s\u001b[0m eta \u001b[36m0:00:00\u001b[0m\n",
            "\u001b[?25hRequirement already satisfied: google-auth>=1.2 in /usr/local/lib/python3.10/dist-packages (from gcsfs) (2.17.3)\n",
            "Requirement already satisfied: google-auth-oauthlib in /usr/local/lib/python3.10/dist-packages (from gcsfs) (1.0.0)\n",
            "Requirement already satisfied: google-cloud-storage in /usr/local/lib/python3.10/dist-packages (from gcsfs) (2.8.0)\n",
            "Requirement already satisfied: requests in /usr/local/lib/python3.10/dist-packages (from gcsfs) (2.27.1)\n",
            "Requirement already satisfied: attrs>=17.3.0 in /usr/local/lib/python3.10/dist-packages (from aiohttp!=4.0.0a0,!=4.0.0a1->gcsfs) (23.1.0)\n",
            "Requirement already satisfied: charset-normalizer<4.0,>=2.0 in /usr/local/lib/python3.10/dist-packages (from aiohttp!=4.0.0a0,!=4.0.0a1->gcsfs) (2.0.12)\n",
            "Collecting multidict<7.0,>=4.5 (from aiohttp!=4.0.0a0,!=4.0.0a1->gcsfs)\n",
            "  Downloading multidict-6.0.4-cp310-cp310-manylinux_2_17_x86_64.manylinux2014_x86_64.whl (114 kB)\n",
            "\u001b[2K     \u001b[90m━━━━━━━━━━━━━━━━━━━━━━━━━━━━━━━━━━━━━━\u001b[0m \u001b[32m114.5/114.5 kB\u001b[0m \u001b[31m11.1 MB/s\u001b[0m eta \u001b[36m0:00:00\u001b[0m\n",
            "\u001b[?25hCollecting async-timeout<5.0,>=4.0.0a3 (from aiohttp!=4.0.0a0,!=4.0.0a1->gcsfs)\n",
            "  Downloading async_timeout-4.0.2-py3-none-any.whl (5.8 kB)\n",
            "Collecting yarl<2.0,>=1.0 (from aiohttp!=4.0.0a0,!=4.0.0a1->gcsfs)\n",
            "  Downloading yarl-1.9.2-cp310-cp310-manylinux_2_17_x86_64.manylinux2014_x86_64.whl (268 kB)\n",
            "\u001b[2K     \u001b[90m━━━━━━━━━━━━━━━━━━━━━━━━━━━━━━━━━━━━━━\u001b[0m \u001b[32m268.8/268.8 kB\u001b[0m \u001b[31m24.4 MB/s\u001b[0m eta \u001b[36m0:00:00\u001b[0m\n",
            "\u001b[?25hCollecting frozenlist>=1.1.1 (from aiohttp!=4.0.0a0,!=4.0.0a1->gcsfs)\n",
            "  Downloading frozenlist-1.3.3-cp310-cp310-manylinux_2_5_x86_64.manylinux1_x86_64.manylinux_2_17_x86_64.manylinux2014_x86_64.whl (149 kB)\n",
            "\u001b[2K     \u001b[90m━━━━━━━━━━━━━━━━━━━━━━━━━━━━━━━━━━━━━━\u001b[0m \u001b[32m149.6/149.6 kB\u001b[0m \u001b[31m15.2 MB/s\u001b[0m eta \u001b[36m0:00:00\u001b[0m\n",
            "\u001b[?25hCollecting aiosignal>=1.1.2 (from aiohttp!=4.0.0a0,!=4.0.0a1->gcsfs)\n",
            "  Downloading aiosignal-1.3.1-py3-none-any.whl (7.6 kB)\n",
            "Requirement already satisfied: cachetools<6.0,>=2.0.0 in /usr/local/lib/python3.10/dist-packages (from google-auth>=1.2->gcsfs) (5.3.0)\n",
            "Requirement already satisfied: pyasn1-modules>=0.2.1 in /usr/local/lib/python3.10/dist-packages (from google-auth>=1.2->gcsfs) (0.3.0)\n",
            "Requirement already satisfied: six>=1.9.0 in /usr/local/lib/python3.10/dist-packages (from google-auth>=1.2->gcsfs) (1.16.0)\n",
            "Requirement already satisfied: rsa<5,>=3.1.4 in /usr/local/lib/python3.10/dist-packages (from google-auth>=1.2->gcsfs) (4.9)\n",
            "Requirement already satisfied: requests-oauthlib>=0.7.0 in /usr/local/lib/python3.10/dist-packages (from google-auth-oauthlib->gcsfs) (1.3.1)\n",
            "Requirement already satisfied: google-api-core!=2.0.*,!=2.1.*,!=2.2.*,!=2.3.0,<3.0.0dev,>=1.31.5 in /usr/local/lib/python3.10/dist-packages (from google-cloud-storage->gcsfs) (2.11.0)\n",
            "Requirement already satisfied: google-cloud-core<3.0dev,>=2.3.0 in /usr/local/lib/python3.10/dist-packages (from google-cloud-storage->gcsfs) (2.3.2)\n",
            "Requirement already satisfied: google-resumable-media>=2.3.2 in /usr/local/lib/python3.10/dist-packages (from google-cloud-storage->gcsfs) (2.5.0)\n",
            "Requirement already satisfied: urllib3<1.27,>=1.21.1 in /usr/local/lib/python3.10/dist-packages (from requests->gcsfs) (1.26.15)\n",
            "Requirement already satisfied: certifi>=2017.4.17 in /usr/local/lib/python3.10/dist-packages (from requests->gcsfs) (2022.12.7)\n",
            "Requirement already satisfied: idna<4,>=2.5 in /usr/local/lib/python3.10/dist-packages (from requests->gcsfs) (3.4)\n",
            "Requirement already satisfied: googleapis-common-protos<2.0dev,>=1.56.2 in /usr/local/lib/python3.10/dist-packages (from google-api-core!=2.0.*,!=2.1.*,!=2.2.*,!=2.3.0,<3.0.0dev,>=1.31.5->google-cloud-storage->gcsfs) (1.59.0)\n",
            "Requirement already satisfied: protobuf!=3.20.0,!=3.20.1,!=4.21.0,!=4.21.1,!=4.21.2,!=4.21.3,!=4.21.4,!=4.21.5,<5.0.0dev,>=3.19.5 in /usr/local/lib/python3.10/dist-packages (from google-api-core!=2.0.*,!=2.1.*,!=2.2.*,!=2.3.0,<3.0.0dev,>=1.31.5->google-cloud-storage->gcsfs) (3.20.3)\n",
            "Requirement already satisfied: google-crc32c<2.0dev,>=1.0 in /usr/local/lib/python3.10/dist-packages (from google-resumable-media>=2.3.2->google-cloud-storage->gcsfs) (1.5.0)\n",
            "Requirement already satisfied: pyasn1<0.6.0,>=0.4.6 in /usr/local/lib/python3.10/dist-packages (from pyasn1-modules>=0.2.1->google-auth>=1.2->gcsfs) (0.5.0)\n",
            "Requirement already satisfied: oauthlib>=3.0.0 in /usr/local/lib/python3.10/dist-packages (from requests-oauthlib>=0.7.0->google-auth-oauthlib->gcsfs) (3.2.2)\n",
            "Installing collected packages: multidict, fsspec, frozenlist, async-timeout, yarl, aiosignal, aiohttp, gcsfs\n",
            "  Attempting uninstall: fsspec\n",
            "    Found existing installation: fsspec 2023.4.0\n",
            "    Uninstalling fsspec-2023.4.0:\n",
            "      Successfully uninstalled fsspec-2023.4.0\n",
            "Successfully installed aiohttp-3.8.4 aiosignal-1.3.1 async-timeout-4.0.2 frozenlist-1.3.3 fsspec-2023.5.0 gcsfs-2023.5.0 multidict-6.0.4 yarl-1.9.2\n"
          ]
        }
      ]
    },
    {
      "cell_type": "code",
      "source": [
        "!pip install pymongo"
      ],
      "metadata": {
        "colab": {
          "base_uri": "https://localhost:8080/"
        },
        "id": "9IO4SMWIe6W0",
        "outputId": "960f7875-c4f4-4581-f19f-fd0236a3edf1"
      },
      "execution_count": null,
      "outputs": [
        {
          "output_type": "stream",
          "name": "stdout",
          "text": [
            "Looking in indexes: https://pypi.org/simple, https://us-python.pkg.dev/colab-wheels/public/simple/\n",
            "Collecting pymongo\n",
            "  Downloading pymongo-4.3.3-cp310-cp310-manylinux_2_17_x86_64.manylinux2014_x86_64.whl (492 kB)\n",
            "\u001b[2K     \u001b[90m━━━━━━━━━━━━━━━━━━━━━━━━━━━━━━━━━━━━━━━\u001b[0m \u001b[32m492.9/492.9 kB\u001b[0m \u001b[31m8.9 MB/s\u001b[0m eta \u001b[36m0:00:00\u001b[0m\n",
            "\u001b[?25hCollecting dnspython<3.0.0,>=1.16.0 (from pymongo)\n",
            "  Downloading dnspython-2.3.0-py3-none-any.whl (283 kB)\n",
            "\u001b[2K     \u001b[90m━━━━━━━━━━━━━━━━━━━━━━━━━━━━━━━━━━━━━━\u001b[0m \u001b[32m283.7/283.7 kB\u001b[0m \u001b[31m18.6 MB/s\u001b[0m eta \u001b[36m0:00:00\u001b[0m\n",
            "\u001b[?25hInstalling collected packages: dnspython, pymongo\n",
            "Successfully installed dnspython-2.3.0 pymongo-4.3.3\n"
          ]
        }
      ]
    },
    {
      "cell_type": "code",
      "source": [
        "from pyspark.sql import SparkSession\n",
        "import pyspark.sql.functions as F\n",
        "import pandas as pd\n",
        "import numpy as np\n",
        "from pyspark.sql.types import IntegerType, FloatType, DoubleType\n",
        "import seaborn as sns\n",
        "import warnings\n",
        "from google.cloud import storage\n",
        "import os\n",
        "import matplotlib.pyplot as plt\n",
        "import pymongo\n",
        "from pymongo import MongoClient\n",
        "warnings.filterwarnings(\"ignore\")"
      ],
      "metadata": {
        "id": "zxG0hEmQ3aiO"
      },
      "execution_count": null,
      "outputs": []
    },
    {
      "cell_type": "code",
      "source": [
        "#montando um drive, para ter acesso a chave do GCP\n",
        "from google.colab import drive\n",
        "drive.mount('/content/drive')"
      ],
      "metadata": {
        "id": "_MOBc-fz4n3j",
        "colab": {
          "base_uri": "https://localhost:8080/"
        },
        "outputId": "57d933e0-c981-4c53-c6f8-be8b95c73191"
      },
      "execution_count": null,
      "outputs": [
        {
          "output_type": "stream",
          "name": "stdout",
          "text": [
            "Mounted at /content/drive\n"
          ]
        }
      ]
    },
    {
      "cell_type": "markdown",
      "source": [
        "#CONFIGURAÇÕES#"
      ],
      "metadata": {
        "id": "k9VJqlZugArg"
      }
    },
    {
      "cell_type": "code",
      "source": [
        "#CONFIGURAR A CHAVE do google cloud\n",
        "serviceAccount = 'chave_conexão_google'\n",
        "os.environ['GOOGLE_APPLICATION_CREDENTIALS'] = serviceAccount\n"
      ],
      "metadata": {
        "id": "h5tPfhuZ4aei"
      },
      "execution_count": null,
      "outputs": []
    },
    {
      "cell_type": "code",
      "source": [
        "#Acessando a bucket criada\n",
        "client = storage.Client()\n",
        "\n",
        "bucket = client.get_bucket('projetofinal1')\n",
        "\n",
        "bucket.blob('autoveiculos_total.json')\n",
        "\n"
      ],
      "metadata": {
        "id": "U8yRjD-n4iB5"
      },
      "execution_count": null,
      "outputs": []
    },
    {
      "cell_type": "code",
      "source": [
        "#Criando uma sessão spark\n",
        "spark = (SparkSession.builder\n",
        "                     .master('local')\n",
        "                     .appName('veiculos')\n",
        "                     .config('spark.ui.port', '4050')\n",
        "                     .config(\"spark.jars\", 'https://storage.googleapis.com/hadoop-lib/gcs/gcs-connector-hadoop2-latest.jar')\n",
        "                     .getOrCreate())"
      ],
      "metadata": {
        "id": "mf3qdXY_3ksy"
      },
      "execution_count": null,
      "outputs": []
    },
    {
      "cell_type": "code",
      "source": [
        "#conectando o python ao mongo\n",
        "uri = \"mongodb+srv://clustere5.wjshwzt.mongodb.net/?authSource=%24external&authMechanism=MONGODB-X509&retryWrites=true&w=majority\"\n",
        "client = MongoClient(uri,\n",
        "                     tls=True,\n",
        "                     tlsCertificateKeyFile='chave_mongo.pem',\n",
        "                     )\n",
        "db = client['prod_venda_join']\n",
        "intermediario = db['intermediario']"
      ],
      "metadata": {
        "id": "gk6TT30Sf0Ah"
      },
      "execution_count": null,
      "outputs": []
    },
    {
      "cell_type": "code",
      "source": [],
      "metadata": {
        "id": "sBC3DWt5jcSK"
      },
      "execution_count": null,
      "outputs": []
    },
    {
      "cell_type": "markdown",
      "source": [
        "#EXTRAÇÃO#"
      ],
      "metadata": {
        "id": "dU2W1_r6ACLN"
      }
    },
    {
      "cell_type": "markdown",
      "source": [
        "Extraindo os 6 datasets referentes a produção e vendas de automoveis alocadas na pasta brutos do bucket (datalake)"
      ],
      "metadata": {
        "id": "0UK06GarpW-_"
      }
    },
    {
      "cell_type": "code",
      "source": [
        "\n",
        "df_venda_autoveiculos_total = (\n",
        "    spark.read\n",
        "         .format('json')\n",
        "         .option('delimiter', ',')\n",
        "         .option('header', 'true')\n",
        "         .option('inferschema', 'true')\n",
        "         .option('encoding','utf-8')\n",
        "         .option('escape','\"')\n",
        "         .load('gs://projetofinal1/brutos/autoveiculos_total.json')\n",
        ")"
      ],
      "metadata": {
        "id": "QGXs4_pG7Lyr"
      },
      "execution_count": null,
      "outputs": []
    },
    {
      "cell_type": "code",
      "source": [
        "df_venda_comerciais_conces = (\n",
        "    spark.read\n",
        "         .format('csv')\n",
        "         .option('delimiter', ';')\n",
        "         .option('header', 'true')\n",
        "         .option('inferschema', 'true')\n",
        "         .option('encoding','utf-8')\n",
        "         .option('escape','\"')\n",
        "         .load('gs://projetofinal1/brutos/comerciaisLeves_concessionarias.csv')\n",
        ")"
      ],
      "metadata": {
        "id": "oUmUkcNB8oxq"
      },
      "execution_count": null,
      "outputs": []
    },
    {
      "cell_type": "code",
      "source": [
        "df_venda_total_conces = (\n",
        "    spark.read\n",
        "         .format('json')\n",
        "         .option('delimiter', ',')\n",
        "         .option('header', 'true')\n",
        "         .option('inferschema', 'true')\n",
        "         .option('encoding','utf-8')\n",
        "         .option('escape','\"')\n",
        "         .load('gs://projetofinal1/brutos/total_concessionarias.json')\n",
        ")"
      ],
      "metadata": {
        "id": "geFGPYSVAXyL"
      },
      "execution_count": null,
      "outputs": []
    },
    {
      "cell_type": "code",
      "source": [
        "df_prod_automoveis = (\n",
        "    spark.read\n",
        "         .format('csv')\n",
        "         .option('delimiter', ';')\n",
        "         .option('header', 'true')\n",
        "         .option('inferschema', 'true')\n",
        "         .option('encoding','utf-8')\n",
        "         .option('escape','\"')\n",
        "         .load('gs://projetofinal1/brutos/prod_automoveis.csv')\n",
        ")"
      ],
      "metadata": {
        "id": "3_udwc-A_Bmd"
      },
      "execution_count": null,
      "outputs": []
    },
    {
      "cell_type": "code",
      "source": [
        "df_prod_total_autoveiculos = (\n",
        "    spark.read\n",
        "         .format('csv')\n",
        "         .option('delimiter', ';')\n",
        "         .option('header', 'true')\n",
        "         .option('inferschema', 'true')\n",
        "         .option('encoding','utf-8')\n",
        "         .option('escape','\"')\n",
        "         .load('gs://projetofinal1/brutos/producao_total_auto.csv')\n",
        ")"
      ],
      "metadata": {
        "id": "pqdtY6BU_3q8"
      },
      "execution_count": null,
      "outputs": []
    },
    {
      "cell_type": "code",
      "source": [
        "df_vendas_merc_Interno = (\n",
        "    spark.read\n",
        "         .format('csv')\n",
        "         .option('delimiter', ';')\n",
        "         .option('header', 'true')\n",
        "         .option('inferschema', 'true')\n",
        "         .option('encoding','utf-8')\n",
        "         .option('escape','\"')\n",
        "         .load('gs://projetofinal1/brutos/vendas_merc_Interno.csv')\n",
        ")"
      ],
      "metadata": {
        "id": "DK59kmmTBnUQ"
      },
      "execution_count": null,
      "outputs": []
    },
    {
      "cell_type": "markdown",
      "source": [
        "#Backups#"
      ],
      "metadata": {
        "id": "pGrPnQ25ALUt"
      }
    },
    {
      "cell_type": "code",
      "source": [
        "df_backup_vendas_inter = df_vendas_merc_Interno"
      ],
      "metadata": {
        "id": "rpovBmOorb2A"
      },
      "execution_count": null,
      "outputs": []
    },
    {
      "cell_type": "code",
      "source": [
        "df__backup_prod_total_autoveiculos = df_prod_total_autoveiculos"
      ],
      "metadata": {
        "id": "2ICDfe8Crl2Z"
      },
      "execution_count": null,
      "outputs": []
    },
    {
      "cell_type": "code",
      "source": [
        "df_backup_prod_automoveis = df_prod_automoveis"
      ],
      "metadata": {
        "id": "YAkTyhstsEnJ"
      },
      "execution_count": null,
      "outputs": []
    },
    {
      "cell_type": "code",
      "source": [
        "df_backup_venda_total_conces = df_venda_total_conces"
      ],
      "metadata": {
        "id": "zGCf1va5sKGm"
      },
      "execution_count": null,
      "outputs": []
    },
    {
      "cell_type": "code",
      "source": [
        "df_backup_venda_comerciais_conces = df_venda_comerciais_conces"
      ],
      "metadata": {
        "id": "HC92QOursVgi"
      },
      "execution_count": null,
      "outputs": []
    },
    {
      "cell_type": "code",
      "source": [
        "df_backup_venda_autoveiculos_total = df_venda_autoveiculos_total"
      ],
      "metadata": {
        "id": "84MO1v8Wsd75"
      },
      "execution_count": null,
      "outputs": []
    },
    {
      "cell_type": "markdown",
      "source": [
        "#ANALISE EXPLORATÓRIA DOS DADOS#"
      ],
      "metadata": {
        "id": "8F8Gq3PHI8qv"
      }
    },
    {
      "cell_type": "code",
      "source": [
        "df_prod_automoveis.show()"
      ],
      "metadata": {
        "colab": {
          "base_uri": "https://localhost:8080/"
        },
        "id": "HtYUIHThDjkW",
        "outputId": "f494d2f6-75cc-48ae-c8c8-f38f47766c5c"
      },
      "execution_count": null,
      "outputs": [
        {
          "output_type": "stream",
          "name": "stdout",
          "text": [
            "+----------+------+\n",
            "|      data| valor|\n",
            "+----------+------+\n",
            "|01/01/1993| 62913|\n",
            "|01/02/1993| 70663|\n",
            "|01/03/1993| 93322|\n",
            "|01/04/1993| 83861|\n",
            "|01/05/1993| 95587|\n",
            "|01/06/1993| 96818|\n",
            "|01/07/1993| 98985|\n",
            "|01/08/1993|109389|\n",
            "|01/09/1993|100182|\n",
            "|01/10/1993|103272|\n",
            "|01/11/1993|104836|\n",
            "|01/12/1993| 90390|\n",
            "|01/01/1994| 88749|\n",
            "|01/02/1994| 90725|\n",
            "|01/03/1994|116167|\n",
            "|01/04/1994| 90052|\n",
            "|01/05/1994|112323|\n",
            "|01/06/1994|102368|\n",
            "|01/07/1994|107274|\n",
            "|01/08/1994|119641|\n",
            "+----------+------+\n",
            "only showing top 20 rows\n",
            "\n"
          ]
        }
      ]
    },
    {
      "cell_type": "code",
      "source": [
        "df_prod_total_autoveiculos.show()"
      ],
      "metadata": {
        "colab": {
          "base_uri": "https://localhost:8080/"
        },
        "id": "QXbVXSAuD-vi",
        "outputId": "4bda6a72-0ff0-44d9-e0ad-bcd297a212c6"
      },
      "execution_count": null,
      "outputs": [
        {
          "output_type": "stream",
          "name": "stdout",
          "text": [
            "+----------+------+\n",
            "|      data| valor|\n",
            "+----------+------+\n",
            "|01/01/1993| 66168|\n",
            "|01/02/1993| 73042|\n",
            "|01/03/1993| 98691|\n",
            "|01/04/1993| 88839|\n",
            "|01/05/1993|101055|\n",
            "|01/06/1993|102512|\n",
            "|01/07/1993|104493|\n",
            "|01/08/1993|115800|\n",
            "|01/09/1993|106990|\n",
            "|01/10/1993|109989|\n",
            "|01/11/1993|111043|\n",
            "|01/12/1993| 94678|\n",
            "|01/01/1994| 93357|\n",
            "|01/02/1994| 95060|\n",
            "|01/03/1994|122600|\n",
            "|01/04/1994| 94820|\n",
            "|01/05/1994|119441|\n",
            "|01/06/1994|109101|\n",
            "|01/07/1994|114188|\n",
            "|01/08/1994|127038|\n",
            "+----------+------+\n",
            "only showing top 20 rows\n",
            "\n"
          ]
        }
      ]
    },
    {
      "cell_type": "code",
      "source": [
        "df_venda_autoveiculos_total.show()"
      ],
      "metadata": {
        "colab": {
          "base_uri": "https://localhost:8080/"
        },
        "id": "VpmEAZD4EPSM",
        "outputId": "b0f4e234-677e-4fe2-c732-db4ee34b5cf2"
      },
      "execution_count": null,
      "outputs": [
        {
          "output_type": "stream",
          "name": "stdout",
          "text": [
            "+----------+-----+\n",
            "|      data|valor|\n",
            "+----------+-----+\n",
            "|01/01/1981|87939|\n",
            "|01/02/1981|65251|\n",
            "|01/03/1981|64065|\n",
            "|01/04/1981|69042|\n",
            "|01/05/1981|62966|\n",
            "|01/06/1981|61271|\n",
            "|01/07/1981|60824|\n",
            "|01/08/1981|63871|\n",
            "|01/09/1981|64828|\n",
            "|01/10/1981|63211|\n",
            "|01/11/1981|61129|\n",
            "|01/12/1981|68939|\n",
            "|01/01/1982|62413|\n",
            "|01/02/1982|65785|\n",
            "|01/03/1982|74433|\n",
            "|01/04/1982|67611|\n",
            "|01/05/1982|64058|\n",
            "|01/06/1982|69819|\n",
            "|01/07/1982|72763|\n",
            "|01/08/1982|75621|\n",
            "+----------+-----+\n",
            "only showing top 20 rows\n",
            "\n"
          ]
        }
      ]
    },
    {
      "cell_type": "code",
      "source": [
        "df_venda_comerciais_conces.show()"
      ],
      "metadata": {
        "colab": {
          "base_uri": "https://localhost:8080/"
        },
        "id": "cYpiLu3HEYuo",
        "outputId": "95f8bbaf-7aa3-49d6-9fec-239b7b31983c"
      },
      "execution_count": null,
      "outputs": [
        {
          "output_type": "stream",
          "name": "stdout",
          "text": [
            "+----------+-----+\n",
            "|      data|valor|\n",
            "+----------+-----+\n",
            "|01/01/1990|13195|\n",
            "|01/02/1990|10715|\n",
            "|01/03/1990| 5822|\n",
            "|01/04/1990| 5531|\n",
            "|01/05/1990| 9734|\n",
            "|01/06/1990| 7569|\n",
            "|01/07/1990| 8296|\n",
            "|01/08/1990|15328|\n",
            "|01/09/1990|13247|\n",
            "|01/10/1990|15010|\n",
            "|01/11/1990|12234|\n",
            "|01/12/1990|11751|\n",
            "|01/01/1991| 9631|\n",
            "|01/02/1991| 9320|\n",
            "|01/03/1991|10584|\n",
            "|01/04/1991| 5978|\n",
            "|01/05/1991| 8612|\n",
            "|01/06/1991|12006|\n",
            "|01/07/1991|15026|\n",
            "|01/08/1991|12955|\n",
            "+----------+-----+\n",
            "only showing top 20 rows\n",
            "\n"
          ]
        }
      ]
    },
    {
      "cell_type": "code",
      "source": [
        "df_vendas_merc_Interno.show()"
      ],
      "metadata": {
        "colab": {
          "base_uri": "https://localhost:8080/"
        },
        "id": "CKdBf6WgEgKM",
        "outputId": "71254714-e081-44dc-eb0b-5cc714d6eb0d"
      },
      "execution_count": null,
      "outputs": [
        {
          "output_type": "stream",
          "name": "stdout",
          "text": [
            "+----------+-----+\n",
            "|      data|valor|\n",
            "+----------+-----+\n",
            "|01/01/1981|73363|\n",
            "|01/02/1981|48973|\n",
            "|01/03/1981|40523|\n",
            "|01/04/1981|48580|\n",
            "|01/05/1981|41750|\n",
            "|01/06/1981|45874|\n",
            "|01/07/1981|42017|\n",
            "|01/08/1981|44446|\n",
            "|01/09/1981|47095|\n",
            "|01/10/1981|48790|\n",
            "|01/11/1981|47231|\n",
            "|01/12/1981|52008|\n",
            "|01/01/1982|48208|\n",
            "|01/02/1982|48093|\n",
            "|01/03/1982|57707|\n",
            "|01/04/1982|52270|\n",
            "|01/05/1982|50905|\n",
            "|01/06/1982|56510|\n",
            "|01/07/1982|56526|\n",
            "|01/08/1982|60109|\n",
            "+----------+-----+\n",
            "only showing top 20 rows\n",
            "\n"
          ]
        }
      ]
    },
    {
      "cell_type": "code",
      "source": [
        "df_vendas_merc_Interno.count()"
      ],
      "metadata": {
        "colab": {
          "base_uri": "https://localhost:8080/"
        },
        "id": "NSC7hk8mEvha",
        "outputId": "0f9c97c9-a58c-4d1e-c6bd-2e7c7ba1c6ef"
      },
      "execution_count": null,
      "outputs": [
        {
          "output_type": "execute_result",
          "data": {
            "text/plain": [
              "507"
            ]
          },
          "metadata": {},
          "execution_count": 25
        }
      ]
    },
    {
      "cell_type": "code",
      "source": [
        "df_vendas_merc_Interno.drop_duplicates().count()"
      ],
      "metadata": {
        "colab": {
          "base_uri": "https://localhost:8080/"
        },
        "id": "S4OF49z7HJiq",
        "outputId": "fb865261-69a1-4daf-f3f0-6996c95f17ec"
      },
      "execution_count": null,
      "outputs": [
        {
          "output_type": "execute_result",
          "data": {
            "text/plain": [
              "507"
            ]
          },
          "metadata": {},
          "execution_count": 26
        }
      ]
    },
    {
      "cell_type": "code",
      "source": [
        "df_venda_total_conces.count()"
      ],
      "metadata": {
        "colab": {
          "base_uri": "https://localhost:8080/"
        },
        "id": "dYsMmljTE9AN",
        "outputId": "41927b2b-5192-4a4f-cf5a-004f200560ad"
      },
      "execution_count": null,
      "outputs": [
        {
          "output_type": "execute_result",
          "data": {
            "text/plain": [
              "399"
            ]
          },
          "metadata": {},
          "execution_count": 27
        }
      ]
    },
    {
      "cell_type": "code",
      "source": [
        "df_venda_total_conces.drop_duplicates().count()"
      ],
      "metadata": {
        "colab": {
          "base_uri": "https://localhost:8080/"
        },
        "id": "LZUY-PI7HYNF",
        "outputId": "dc6ef1e8-5ead-47c7-8cc8-c16ac8a1c5ec"
      },
      "execution_count": null,
      "outputs": [
        {
          "output_type": "execute_result",
          "data": {
            "text/plain": [
              "399"
            ]
          },
          "metadata": {},
          "execution_count": 28
        }
      ]
    },
    {
      "cell_type": "code",
      "source": [
        "df_prod_automoveis.count()"
      ],
      "metadata": {
        "colab": {
          "base_uri": "https://localhost:8080/"
        },
        "id": "rTg5C2jZFBMf",
        "outputId": "49f9604c-64f4-4e6e-fabc-c6b2e3f0207c"
      },
      "execution_count": null,
      "outputs": [
        {
          "output_type": "execute_result",
          "data": {
            "text/plain": [
              "363"
            ]
          },
          "metadata": {},
          "execution_count": 29
        }
      ]
    },
    {
      "cell_type": "code",
      "source": [
        "df_prod_automoveis.drop_duplicates().count()"
      ],
      "metadata": {
        "colab": {
          "base_uri": "https://localhost:8080/"
        },
        "id": "3zP5QFgbGxHk",
        "outputId": "151577d7-e2a7-47b7-d7a8-4156530656b2"
      },
      "execution_count": null,
      "outputs": [
        {
          "output_type": "execute_result",
          "data": {
            "text/plain": [
              "363"
            ]
          },
          "metadata": {},
          "execution_count": 30
        }
      ]
    },
    {
      "cell_type": "code",
      "source": [
        "df_venda_autoveiculos_total.count()"
      ],
      "metadata": {
        "colab": {
          "base_uri": "https://localhost:8080/"
        },
        "id": "CkFHygdkFGqS",
        "outputId": "ce592da6-5669-4bb5-c08e-490064fcacc1"
      },
      "execution_count": null,
      "outputs": [
        {
          "output_type": "execute_result",
          "data": {
            "text/plain": [
              "507"
            ]
          },
          "metadata": {},
          "execution_count": 31
        }
      ]
    },
    {
      "cell_type": "code",
      "source": [
        "df_venda_autoveiculos_total.drop_duplicates().count()"
      ],
      "metadata": {
        "colab": {
          "base_uri": "https://localhost:8080/"
        },
        "id": "i9iHsT66HCSE",
        "outputId": "d2bd3bff-438e-4781-81cd-e18ff47fee93"
      },
      "execution_count": null,
      "outputs": [
        {
          "output_type": "execute_result",
          "data": {
            "text/plain": [
              "507"
            ]
          },
          "metadata": {},
          "execution_count": 32
        }
      ]
    },
    {
      "cell_type": "code",
      "source": [
        "df_venda_comerciais_conces.count()"
      ],
      "metadata": {
        "colab": {
          "base_uri": "https://localhost:8080/"
        },
        "id": "C-AH7QN4FPx_",
        "outputId": "b7e51b5e-c1a6-423e-a53a-bf93ceede009"
      },
      "execution_count": null,
      "outputs": [
        {
          "output_type": "execute_result",
          "data": {
            "text/plain": [
              "399"
            ]
          },
          "metadata": {},
          "execution_count": 33
        }
      ]
    },
    {
      "cell_type": "code",
      "source": [
        "df_venda_comerciais_conces.drop_duplicates().count()"
      ],
      "metadata": {
        "colab": {
          "base_uri": "https://localhost:8080/"
        },
        "id": "972Z8UiDHgqr",
        "outputId": "5c457e32-2bc0-40ec-e490-da2af02ad7c4"
      },
      "execution_count": null,
      "outputs": [
        {
          "output_type": "execute_result",
          "data": {
            "text/plain": [
              "399"
            ]
          },
          "metadata": {},
          "execution_count": 34
        }
      ]
    },
    {
      "cell_type": "code",
      "source": [
        "df_venda_autoveiculos_total.show()"
      ],
      "metadata": {
        "colab": {
          "base_uri": "https://localhost:8080/"
        },
        "id": "A1J5SUxGFa2O",
        "outputId": "d0832a74-1d88-4772-eafd-7789ee7fafc2"
      },
      "execution_count": null,
      "outputs": [
        {
          "output_type": "stream",
          "name": "stdout",
          "text": [
            "+----------+-----+\n",
            "|      data|valor|\n",
            "+----------+-----+\n",
            "|01/01/1981|87939|\n",
            "|01/02/1981|65251|\n",
            "|01/03/1981|64065|\n",
            "|01/04/1981|69042|\n",
            "|01/05/1981|62966|\n",
            "|01/06/1981|61271|\n",
            "|01/07/1981|60824|\n",
            "|01/08/1981|63871|\n",
            "|01/09/1981|64828|\n",
            "|01/10/1981|63211|\n",
            "|01/11/1981|61129|\n",
            "|01/12/1981|68939|\n",
            "|01/01/1982|62413|\n",
            "|01/02/1982|65785|\n",
            "|01/03/1982|74433|\n",
            "|01/04/1982|67611|\n",
            "|01/05/1982|64058|\n",
            "|01/06/1982|69819|\n",
            "|01/07/1982|72763|\n",
            "|01/08/1982|75621|\n",
            "+----------+-----+\n",
            "only showing top 20 rows\n",
            "\n"
          ]
        }
      ]
    },
    {
      "cell_type": "code",
      "source": [
        "df_vendas_merc_Interno.show()"
      ],
      "metadata": {
        "colab": {
          "base_uri": "https://localhost:8080/"
        },
        "id": "ylMgJ7sOFufe",
        "outputId": "7d1ac5ae-5a96-4d0e-ba8c-2facfc5d445f"
      },
      "execution_count": null,
      "outputs": [
        {
          "output_type": "stream",
          "name": "stdout",
          "text": [
            "+----------+-----+\n",
            "|      data|valor|\n",
            "+----------+-----+\n",
            "|01/01/1981|73363|\n",
            "|01/02/1981|48973|\n",
            "|01/03/1981|40523|\n",
            "|01/04/1981|48580|\n",
            "|01/05/1981|41750|\n",
            "|01/06/1981|45874|\n",
            "|01/07/1981|42017|\n",
            "|01/08/1981|44446|\n",
            "|01/09/1981|47095|\n",
            "|01/10/1981|48790|\n",
            "|01/11/1981|47231|\n",
            "|01/12/1981|52008|\n",
            "|01/01/1982|48208|\n",
            "|01/02/1982|48093|\n",
            "|01/03/1982|57707|\n",
            "|01/04/1982|52270|\n",
            "|01/05/1982|50905|\n",
            "|01/06/1982|56510|\n",
            "|01/07/1982|56526|\n",
            "|01/08/1982|60109|\n",
            "+----------+-----+\n",
            "only showing top 20 rows\n",
            "\n"
          ]
        }
      ]
    },
    {
      "cell_type": "code",
      "source": [
        "df_venda_comerciais_conces.printSchema()"
      ],
      "metadata": {
        "colab": {
          "base_uri": "https://localhost:8080/"
        },
        "id": "fx3MbszqGZ7y",
        "outputId": "c83efc55-37ed-4725-f9dc-244b97edd1e8"
      },
      "execution_count": null,
      "outputs": [
        {
          "output_type": "stream",
          "name": "stdout",
          "text": [
            "root\n",
            " |-- data: string (nullable = true)\n",
            " |-- valor: integer (nullable = true)\n",
            "\n"
          ]
        }
      ]
    },
    {
      "cell_type": "code",
      "source": [
        "df_venda_total_conces.printSchema()"
      ],
      "metadata": {
        "colab": {
          "base_uri": "https://localhost:8080/"
        },
        "id": "9fbAMbMUIIFg",
        "outputId": "f6acb7b1-815c-439c-d524-b8e71218add8"
      },
      "execution_count": null,
      "outputs": [
        {
          "output_type": "stream",
          "name": "stdout",
          "text": [
            "root\n",
            " |-- data: string (nullable = true)\n",
            " |-- valor: string (nullable = true)\n",
            "\n"
          ]
        }
      ]
    },
    {
      "cell_type": "code",
      "source": [
        "df_venda_autoveiculos_total.printSchema()"
      ],
      "metadata": {
        "colab": {
          "base_uri": "https://localhost:8080/"
        },
        "id": "k8JLa2RuIROM",
        "outputId": "62f08db1-4467-496b-89bb-bc0f47e8d53c"
      },
      "execution_count": null,
      "outputs": [
        {
          "output_type": "stream",
          "name": "stdout",
          "text": [
            "root\n",
            " |-- data: string (nullable = true)\n",
            " |-- valor: string (nullable = true)\n",
            "\n"
          ]
        }
      ]
    },
    {
      "cell_type": "code",
      "source": [
        "df_vendas_merc_Interno.printSchema()"
      ],
      "metadata": {
        "colab": {
          "base_uri": "https://localhost:8080/"
        },
        "id": "d3y3HsvNIa8B",
        "outputId": "47f26c6c-80ac-42bb-a2de-015bc6516325"
      },
      "execution_count": null,
      "outputs": [
        {
          "output_type": "stream",
          "name": "stdout",
          "text": [
            "root\n",
            " |-- data: string (nullable = true)\n",
            " |-- valor: integer (nullable = true)\n",
            "\n"
          ]
        }
      ]
    },
    {
      "cell_type": "code",
      "source": [
        "df_prod_automoveis.printSchema()"
      ],
      "metadata": {
        "colab": {
          "base_uri": "https://localhost:8080/"
        },
        "id": "YW6U6itPJr-b",
        "outputId": "b3353f62-7d00-4094-fcee-255425f1e707"
      },
      "execution_count": null,
      "outputs": [
        {
          "output_type": "stream",
          "name": "stdout",
          "text": [
            "root\n",
            " |-- data: string (nullable = true)\n",
            " |-- valor: integer (nullable = true)\n",
            "\n"
          ]
        }
      ]
    },
    {
      "cell_type": "code",
      "source": [
        "df_prod_total_autoveiculos.printSchema()"
      ],
      "metadata": {
        "colab": {
          "base_uri": "https://localhost:8080/"
        },
        "id": "uupgs_QFJ8dX",
        "outputId": "1b4abf6e-f4eb-4158-c987-33321493f180"
      },
      "execution_count": null,
      "outputs": [
        {
          "output_type": "stream",
          "name": "stdout",
          "text": [
            "root\n",
            " |-- data: string (nullable = true)\n",
            " |-- valor: integer (nullable = true)\n",
            "\n"
          ]
        }
      ]
    },
    {
      "cell_type": "code",
      "source": [
        "df_vendas_merc_Interno.toPandas().isna().any()"
      ],
      "metadata": {
        "colab": {
          "base_uri": "https://localhost:8080/"
        },
        "id": "RV7yLeViIgSy",
        "outputId": "a65ed1ae-46d5-4f86-a436-af2c8b00ab4f"
      },
      "execution_count": null,
      "outputs": [
        {
          "output_type": "execute_result",
          "data": {
            "text/plain": [
              "data     False\n",
              "valor    False\n",
              "dtype: bool"
            ]
          },
          "metadata": {},
          "execution_count": 43
        }
      ]
    },
    {
      "cell_type": "code",
      "source": [
        "df_venda_autoveiculos_total.toPandas().isna().any()"
      ],
      "metadata": {
        "colab": {
          "base_uri": "https://localhost:8080/"
        },
        "id": "8H-WF9uhJ7v3",
        "outputId": "f1bc4e2b-b680-4b52-b4bb-42052214f421"
      },
      "execution_count": null,
      "outputs": [
        {
          "output_type": "execute_result",
          "data": {
            "text/plain": [
              "data     False\n",
              "valor    False\n",
              "dtype: bool"
            ]
          },
          "metadata": {},
          "execution_count": 44
        }
      ]
    },
    {
      "cell_type": "code",
      "source": [
        "df_venda_comerciais_conces.toPandas().isna().any()"
      ],
      "metadata": {
        "colab": {
          "base_uri": "https://localhost:8080/"
        },
        "id": "Qdwy50xvKJVh",
        "outputId": "8e534a70-7d3a-4c83-a8f2-ca7af1351f69"
      },
      "execution_count": null,
      "outputs": [
        {
          "output_type": "execute_result",
          "data": {
            "text/plain": [
              "data     False\n",
              "valor    False\n",
              "dtype: bool"
            ]
          },
          "metadata": {},
          "execution_count": 45
        }
      ]
    },
    {
      "cell_type": "code",
      "source": [
        "df_prod_automoveis.toPandas().isna().any()"
      ],
      "metadata": {
        "colab": {
          "base_uri": "https://localhost:8080/"
        },
        "id": "dlVOH8KdKRRA",
        "outputId": "6ab2e9aa-5872-4dc4-b4bb-25ffb657282c"
      },
      "execution_count": null,
      "outputs": [
        {
          "output_type": "execute_result",
          "data": {
            "text/plain": [
              "data     False\n",
              "valor    False\n",
              "dtype: bool"
            ]
          },
          "metadata": {},
          "execution_count": 46
        }
      ]
    },
    {
      "cell_type": "code",
      "source": [
        "df_prod_total_autoveiculos.toPandas().isna().any()"
      ],
      "metadata": {
        "colab": {
          "base_uri": "https://localhost:8080/"
        },
        "id": "-hGeZ_50KZpY",
        "outputId": "72618a23-a194-490f-e60d-93eb7b274e7b"
      },
      "execution_count": null,
      "outputs": [
        {
          "output_type": "execute_result",
          "data": {
            "text/plain": [
              "data     False\n",
              "valor    False\n",
              "dtype: bool"
            ]
          },
          "metadata": {},
          "execution_count": 47
        }
      ]
    },
    {
      "cell_type": "markdown",
      "source": [
        "#Transformação#"
      ],
      "metadata": {
        "id": "9n9ReDfuPFZM"
      }
    },
    {
      "cell_type": "code",
      "source": [
        "df_prod_total_autoveiculos.withColumn('data', F.to_date('data','dd/MM/yyyy')).show(3)"
      ],
      "metadata": {
        "colab": {
          "base_uri": "https://localhost:8080/"
        },
        "id": "BVJEEkkgKhyg",
        "outputId": "ebe51732-5203-4677-e144-d44a56b463fe"
      },
      "execution_count": null,
      "outputs": [
        {
          "output_type": "stream",
          "name": "stdout",
          "text": [
            "+----------+-----+\n",
            "|      data|valor|\n",
            "+----------+-----+\n",
            "|1993-01-01|66168|\n",
            "|1993-02-01|73042|\n",
            "|1993-03-01|98691|\n",
            "+----------+-----+\n",
            "only showing top 3 rows\n",
            "\n"
          ]
        }
      ]
    },
    {
      "cell_type": "code",
      "source": [
        "#Convertendo o campo data para o formato date\n",
        "df_prod_total_autoveiculos = df_prod_total_autoveiculos.withColumn('data', F.to_date('data','dd/MM/yyyy'))"
      ],
      "metadata": {
        "id": "9GftO2R2PZVO"
      },
      "execution_count": null,
      "outputs": []
    },
    {
      "cell_type": "code",
      "source": [
        "df_prod_total_autoveiculos.show(3)"
      ],
      "metadata": {
        "colab": {
          "base_uri": "https://localhost:8080/"
        },
        "id": "mxIlbIjAnBRe",
        "outputId": "cfd4e52d-9240-412a-972b-6efbd2d8685b"
      },
      "execution_count": null,
      "outputs": [
        {
          "output_type": "stream",
          "name": "stdout",
          "text": [
            "+----------+-----+\n",
            "|      data|valor|\n",
            "+----------+-----+\n",
            "|1993-01-01|66168|\n",
            "|1993-02-01|73042|\n",
            "|1993-03-01|98691|\n",
            "+----------+-----+\n",
            "only showing top 3 rows\n",
            "\n"
          ]
        }
      ]
    },
    {
      "cell_type": "code",
      "source": [
        "df_prod_total_autoveiculos.printSchema()"
      ],
      "metadata": {
        "colab": {
          "base_uri": "https://localhost:8080/"
        },
        "id": "Y6Z8jvslnJxj",
        "outputId": "80b34beb-43f7-4e73-f31a-3f27e25757ba"
      },
      "execution_count": null,
      "outputs": [
        {
          "output_type": "stream",
          "name": "stdout",
          "text": [
            "root\n",
            " |-- data: date (nullable = true)\n",
            " |-- valor: integer (nullable = true)\n",
            "\n"
          ]
        }
      ]
    },
    {
      "cell_type": "code",
      "source": [
        "#Renomeando o campo valor para melhor identificação do campo após realizar o join\n",
        "df_prod_total_autoveiculos = df_prod_total_autoveiculos.withColumnRenamed('valor', 'Producao_Autoveiculos_total')"
      ],
      "metadata": {
        "id": "I_vctQeY0aR5"
      },
      "execution_count": null,
      "outputs": []
    },
    {
      "cell_type": "code",
      "source": [
        "df_prod_total_autoveiculos.show(3)"
      ],
      "metadata": {
        "colab": {
          "base_uri": "https://localhost:8080/"
        },
        "id": "B8Cfa1xqqM0F",
        "outputId": "0f2796c4-cc0e-4893-eeed-f558fe281911"
      },
      "execution_count": null,
      "outputs": [
        {
          "output_type": "stream",
          "name": "stdout",
          "text": [
            "+----------+---------------------------+\n",
            "|      data|Producao_Autoveiculos_total|\n",
            "+----------+---------------------------+\n",
            "|1993-01-01|                      66168|\n",
            "|1993-02-01|                      73042|\n",
            "|1993-03-01|                      98691|\n",
            "+----------+---------------------------+\n",
            "only showing top 3 rows\n",
            "\n"
          ]
        }
      ]
    },
    {
      "cell_type": "markdown",
      "source": [
        "Renomeando o campo valor para melhor identificação do campo após realizar o join e convertenda a data"
      ],
      "metadata": {
        "id": "rxyLy0LhBnla"
      }
    },
    {
      "cell_type": "code",
      "source": [
        "df_prod_automoveis = df_prod_automoveis.withColumn('data', F.to_date('data','dd/MM/yyyy'))"
      ],
      "metadata": {
        "id": "ZgsUE7G2qP6U"
      },
      "execution_count": null,
      "outputs": []
    },
    {
      "cell_type": "code",
      "source": [
        "df_prod_automoveis = df_prod_automoveis.withColumnRenamed('valor', 'Producao_Automoveis')"
      ],
      "metadata": {
        "id": "YeK0WxfEz93C"
      },
      "execution_count": null,
      "outputs": []
    },
    {
      "cell_type": "code",
      "source": [
        "df_prod_automoveis.show(3)"
      ],
      "metadata": {
        "colab": {
          "base_uri": "https://localhost:8080/"
        },
        "id": "9v9drKSxv7Vf",
        "outputId": "074ea94f-5e67-45fa-e045-bd678137ee25"
      },
      "execution_count": null,
      "outputs": [
        {
          "output_type": "stream",
          "name": "stdout",
          "text": [
            "+----------+-------------------+\n",
            "|      data|Producao_Automoveis|\n",
            "+----------+-------------------+\n",
            "|1993-01-01|              62913|\n",
            "|1993-02-01|              70663|\n",
            "|1993-03-01|              93322|\n",
            "+----------+-------------------+\n",
            "only showing top 3 rows\n",
            "\n"
          ]
        }
      ]
    },
    {
      "cell_type": "markdown",
      "source": [
        "Renomeando o campo valor para melhor identificação do campo após realizar o join e convertenda a data"
      ],
      "metadata": {
        "id": "g_B9nVyMBUpj"
      }
    },
    {
      "cell_type": "code",
      "source": [
        "df_venda_autoveiculos_total = df_venda_autoveiculos_total.withColumn('data', F.to_date('data','dd/MM/yyyy'))"
      ],
      "metadata": {
        "id": "9IwcKxJwq2Os"
      },
      "execution_count": null,
      "outputs": []
    },
    {
      "cell_type": "code",
      "source": [
        "df_venda_autoveiculos_total = df_venda_autoveiculos_total.withColumnRenamed('valor', 'valorVendas_autoveiculosTotal')"
      ],
      "metadata": {
        "id": "BabKiUQZzoG0"
      },
      "execution_count": null,
      "outputs": []
    },
    {
      "cell_type": "code",
      "source": [
        "df_venda_autoveiculos_total.show(3)"
      ],
      "metadata": {
        "colab": {
          "base_uri": "https://localhost:8080/"
        },
        "id": "L9aBukAEwCDW",
        "outputId": "d8680ac0-ef5e-4cd9-b6e1-7b8d50d564a7"
      },
      "execution_count": null,
      "outputs": [
        {
          "output_type": "stream",
          "name": "stdout",
          "text": [
            "+----------+-----------------------------+\n",
            "|      data|valorVendas_autoveiculosTotal|\n",
            "+----------+-----------------------------+\n",
            "|1981-01-01|                        87939|\n",
            "|1981-02-01|                        65251|\n",
            "|1981-03-01|                        64065|\n",
            "+----------+-----------------------------+\n",
            "only showing top 3 rows\n",
            "\n"
          ]
        }
      ]
    },
    {
      "cell_type": "code",
      "source": [
        "df_venda_comerciais_conces = df_backup_venda_total_conces"
      ],
      "metadata": {
        "id": "9eAau5On_XzS"
      },
      "execution_count": null,
      "outputs": []
    },
    {
      "cell_type": "code",
      "source": [
        "df_venda_comerciais_conces.printSchema()"
      ],
      "metadata": {
        "colab": {
          "base_uri": "https://localhost:8080/"
        },
        "id": "LasdGkau_grg",
        "outputId": "46f6a729-5343-4963-ec3d-77b6c2ef0bde"
      },
      "execution_count": null,
      "outputs": [
        {
          "output_type": "stream",
          "name": "stdout",
          "text": [
            "root\n",
            " |-- data: string (nullable = true)\n",
            " |-- valor: string (nullable = true)\n",
            "\n"
          ]
        }
      ]
    },
    {
      "cell_type": "markdown",
      "source": [
        "Renomeando o campo valor para melhor identificação do campo após realizar o join e convertenda a data"
      ],
      "metadata": {
        "id": "GdUgyFI5Bbbm"
      }
    },
    {
      "cell_type": "code",
      "source": [
        "df_venda_comerciais_conces = df_venda_comerciais_conces.withColumn('data', F.to_date('data','dd/MM/yyyy'))"
      ],
      "metadata": {
        "id": "RuzCH8Bpq24L"
      },
      "execution_count": null,
      "outputs": []
    },
    {
      "cell_type": "code",
      "source": [
        "df_venda_comerciais_conces = df_venda_comerciais_conces.withColumnRenamed('valor', 'valorVendas_ConcesComerciais')"
      ],
      "metadata": {
        "id": "pucyogKyzMbC"
      },
      "execution_count": null,
      "outputs": []
    },
    {
      "cell_type": "code",
      "source": [
        "df_venda_comerciais_conces.printSchema()"
      ],
      "metadata": {
        "colab": {
          "base_uri": "https://localhost:8080/"
        },
        "id": "ku6nJ1Nw_rwE",
        "outputId": "27fb9cac-1a7f-4a36-f686-e7e99fb26f79"
      },
      "execution_count": null,
      "outputs": [
        {
          "output_type": "stream",
          "name": "stdout",
          "text": [
            "root\n",
            " |-- data: date (nullable = true)\n",
            " |-- valorVendas_ConcesComerciais: string (nullable = true)\n",
            "\n"
          ]
        }
      ]
    },
    {
      "cell_type": "code",
      "source": [
        "df_venda_comerciais_conces.show(3)"
      ],
      "metadata": {
        "colab": {
          "base_uri": "https://localhost:8080/"
        },
        "id": "gyQ32HC6wFhJ",
        "outputId": "781d0d2d-feca-4e11-d6ac-0d1e3516d6e1"
      },
      "execution_count": null,
      "outputs": [
        {
          "output_type": "stream",
          "name": "stdout",
          "text": [
            "+----------+----------------------------+\n",
            "|      data|valorVendas_ConcesComerciais|\n",
            "+----------+----------------------------+\n",
            "|1990-01-01|                       69792|\n",
            "|1990-02-01|                       57258|\n",
            "|1990-03-01|                       32740|\n",
            "+----------+----------------------------+\n",
            "only showing top 3 rows\n",
            "\n"
          ]
        }
      ]
    },
    {
      "cell_type": "markdown",
      "source": [
        "Renomeando o campo valor para melhor identificação do campo após realizar o join e convertenda a data"
      ],
      "metadata": {
        "id": "Hup23VizBg1h"
      }
    },
    {
      "cell_type": "code",
      "source": [
        "df_vendas_merc_Interno = df_vendas_merc_Interno.withColumn('data', F.to_date('data','dd/MM/yyyy'))"
      ],
      "metadata": {
        "id": "bmDrqIBatokq"
      },
      "execution_count": null,
      "outputs": []
    },
    {
      "cell_type": "code",
      "source": [
        "df_vendas_merc_Interno = df_vendas_merc_Interno.withColumnRenamed('valor', 'valorVendas_mercadoInterno')"
      ],
      "metadata": {
        "id": "uI29I1tYyD8l"
      },
      "execution_count": null,
      "outputs": []
    },
    {
      "cell_type": "code",
      "source": [
        "df_vendas_merc_Interno.show(3)"
      ],
      "metadata": {
        "colab": {
          "base_uri": "https://localhost:8080/"
        },
        "id": "xgXh9psbwOm2",
        "outputId": "73fc537f-92b4-4081-955f-4c91f2b86b50"
      },
      "execution_count": null,
      "outputs": [
        {
          "output_type": "stream",
          "name": "stdout",
          "text": [
            "+----------+--------------------------+\n",
            "|      data|valorVendas_mercadoInterno|\n",
            "+----------+--------------------------+\n",
            "|1981-01-01|                     73363|\n",
            "|1981-02-01|                     48973|\n",
            "|1981-03-01|                     40523|\n",
            "+----------+--------------------------+\n",
            "only showing top 3 rows\n",
            "\n"
          ]
        }
      ]
    },
    {
      "cell_type": "code",
      "source": [
        "df_venda_total_conces.show(3)"
      ],
      "metadata": {
        "colab": {
          "base_uri": "https://localhost:8080/"
        },
        "id": "ehJ3axyt_DvY",
        "outputId": "c47b1c80-1510-4d0a-fd86-1867de8fd628"
      },
      "execution_count": null,
      "outputs": [
        {
          "output_type": "stream",
          "name": "stdout",
          "text": [
            "+----------+-----+\n",
            "|      data|valor|\n",
            "+----------+-----+\n",
            "|01/01/1990|69792|\n",
            "|01/02/1990|57258|\n",
            "|01/03/1990|32740|\n",
            "+----------+-----+\n",
            "only showing top 3 rows\n",
            "\n"
          ]
        }
      ]
    },
    {
      "cell_type": "markdown",
      "source": [
        "Renomeando o campo valor para melhor identificação do campo após realizar o join e convertenda a"
      ],
      "metadata": {
        "id": "3EBB5SAbCU_x"
      }
    },
    {
      "cell_type": "code",
      "source": [
        "df_venda_total_conces = df_venda_total_conces.withColumn('data', F.to_date('data','dd/MM/yyyy'))"
      ],
      "metadata": {
        "id": "yUlkE1oWCh7Y"
      },
      "execution_count": null,
      "outputs": []
    },
    {
      "cell_type": "code",
      "source": [
        "df_venda_total_conces = df_venda_total_conces.withColumnRenamed('valor', 'valorVendas_concesTotal')"
      ],
      "metadata": {
        "id": "Ejp2sqjkCr_u"
      },
      "execution_count": null,
      "outputs": []
    },
    {
      "cell_type": "code",
      "source": [
        "df_venda_total_conces.printSchema()"
      ],
      "metadata": {
        "colab": {
          "base_uri": "https://localhost:8080/"
        },
        "id": "VImDxG-ODFMN",
        "outputId": "12a0dcbc-ce3c-4c3d-cafd-d7835841ef90"
      },
      "execution_count": null,
      "outputs": [
        {
          "output_type": "stream",
          "name": "stdout",
          "text": [
            "root\n",
            " |-- data: date (nullable = true)\n",
            " |-- valorVendas_concesTotal: string (nullable = true)\n",
            "\n"
          ]
        }
      ]
    },
    {
      "cell_type": "code",
      "source": [
        "df_venda_total_conces.show(10)"
      ],
      "metadata": {
        "colab": {
          "base_uri": "https://localhost:8080/"
        },
        "id": "NZXDbsMfwqWs",
        "outputId": "1edb960f-67c8-444a-ffa8-72a87cc5dd8f"
      },
      "execution_count": null,
      "outputs": [
        {
          "output_type": "stream",
          "name": "stdout",
          "text": [
            "+----------+-----------------------+\n",
            "|      data|valorVendas_concesTotal|\n",
            "+----------+-----------------------+\n",
            "|1990-01-01|                  69792|\n",
            "|1990-02-01|                  57258|\n",
            "|1990-03-01|                  32740|\n",
            "|1990-04-01|                  32812|\n",
            "|1990-05-01|                  58464|\n",
            "|1990-06-01|                  37632|\n",
            "|1990-07-01|                  43697|\n",
            "|1990-08-01|                  84707|\n",
            "|1990-09-01|                  75195|\n",
            "|1990-10-01|                  80938|\n",
            "+----------+-----------------------+\n",
            "only showing top 10 rows\n",
            "\n"
          ]
        }
      ]
    },
    {
      "cell_type": "code",
      "source": [
        "df_venda_comerciais_conces.show(10)"
      ],
      "metadata": {
        "colab": {
          "base_uri": "https://localhost:8080/"
        },
        "id": "uFvEI_DzwwYd",
        "outputId": "62345840-9c0f-4647-9a2e-2b68bdbfbc47"
      },
      "execution_count": null,
      "outputs": [
        {
          "output_type": "stream",
          "name": "stdout",
          "text": [
            "+----------+----------------------------+\n",
            "|      data|valorVendas_ConcesComerciais|\n",
            "+----------+----------------------------+\n",
            "|1990-01-01|                       69792|\n",
            "|1990-02-01|                       57258|\n",
            "|1990-03-01|                       32740|\n",
            "|1990-04-01|                       32812|\n",
            "|1990-05-01|                       58464|\n",
            "|1990-06-01|                       37632|\n",
            "|1990-07-01|                       43697|\n",
            "|1990-08-01|                       84707|\n",
            "|1990-09-01|                       75195|\n",
            "|1990-10-01|                       80938|\n",
            "+----------+----------------------------+\n",
            "only showing top 10 rows\n",
            "\n"
          ]
        }
      ]
    },
    {
      "cell_type": "code",
      "source": [
        "df_vendas_merc_Interno.count()"
      ],
      "metadata": {
        "colab": {
          "base_uri": "https://localhost:8080/"
        },
        "id": "GqW8sJq_xMLz",
        "outputId": "936616b3-59c4-4dd4-fe6b-e54444bcab8a"
      },
      "execution_count": null,
      "outputs": [
        {
          "output_type": "execute_result",
          "data": {
            "text/plain": [
              "507"
            ]
          },
          "metadata": {},
          "execution_count": 49
        }
      ]
    },
    {
      "cell_type": "code",
      "source": [
        "df_venda_total_conces.count()"
      ],
      "metadata": {
        "colab": {
          "base_uri": "https://localhost:8080/"
        },
        "id": "e7Q0KvOcxYoe",
        "outputId": "de61386e-e943-4f98-a960-f18ec6ac57bc"
      },
      "execution_count": null,
      "outputs": [
        {
          "output_type": "execute_result",
          "data": {
            "text/plain": [
              "399"
            ]
          },
          "metadata": {},
          "execution_count": 50
        }
      ]
    },
    {
      "cell_type": "code",
      "source": [
        "df_venda_comerciais_conces.count()"
      ],
      "metadata": {
        "colab": {
          "base_uri": "https://localhost:8080/"
        },
        "id": "GZFmN4T3xeSY",
        "outputId": "79851601-7b8a-4a92-bd1c-1cf8356eebdb"
      },
      "execution_count": null,
      "outputs": [
        {
          "output_type": "execute_result",
          "data": {
            "text/plain": [
              "399"
            ]
          },
          "metadata": {},
          "execution_count": 51
        }
      ]
    },
    {
      "cell_type": "code",
      "source": [
        "df_venda_autoveiculos_total.count()"
      ],
      "metadata": {
        "colab": {
          "base_uri": "https://localhost:8080/"
        },
        "id": "5HaUWTeExjnb",
        "outputId": "47d370cf-8846-48a6-a381-aa033d989484"
      },
      "execution_count": null,
      "outputs": [
        {
          "output_type": "execute_result",
          "data": {
            "text/plain": [
              "507"
            ]
          },
          "metadata": {},
          "execution_count": 52
        }
      ]
    },
    {
      "cell_type": "code",
      "source": [
        "df_prod_automoveis.count()"
      ],
      "metadata": {
        "colab": {
          "base_uri": "https://localhost:8080/"
        },
        "id": "xUrJIx7Yxo2t",
        "outputId": "68da13f6-5e11-477c-9836-ceb70ca00230"
      },
      "execution_count": null,
      "outputs": [
        {
          "output_type": "execute_result",
          "data": {
            "text/plain": [
              "363"
            ]
          },
          "metadata": {},
          "execution_count": 53
        }
      ]
    },
    {
      "cell_type": "code",
      "source": [
        "df_prod_total_autoveiculos.count()"
      ],
      "metadata": {
        "colab": {
          "base_uri": "https://localhost:8080/"
        },
        "id": "VBWBTwOwxzIV",
        "outputId": "315db5f0-1068-4a9c-9a5a-88c941853c98"
      },
      "execution_count": null,
      "outputs": [
        {
          "output_type": "execute_result",
          "data": {
            "text/plain": [
              "363"
            ]
          },
          "metadata": {},
          "execution_count": 54
        }
      ]
    },
    {
      "cell_type": "markdown",
      "source": [
        "Realizando o join dos dataframes, iniciando o df com maior número de linhas para o menor"
      ],
      "metadata": {
        "id": "l9LSrwanDOXN"
      }
    },
    {
      "cell_type": "code",
      "source": [
        "df_join = df_vendas_merc_Interno.join(df_prod_total_autoveiculos, on=['data'], how='left')"
      ],
      "metadata": {
        "id": "Ddq2j2m-vHWr"
      },
      "execution_count": null,
      "outputs": []
    },
    {
      "cell_type": "code",
      "source": [
        "df_join = df_join.join(df_venda_autoveiculos_total, on=['data'], how='left')"
      ],
      "metadata": {
        "id": "8l7aejvm1Jlf"
      },
      "execution_count": null,
      "outputs": []
    },
    {
      "cell_type": "code",
      "source": [
        "df_join = df_join.join(df_prod_automoveis, on=['data'], how='left')"
      ],
      "metadata": {
        "id": "nkmhOkyAgzoU"
      },
      "execution_count": null,
      "outputs": []
    },
    {
      "cell_type": "code",
      "source": [
        "df_join = df_join.join(df_venda_total_conces, on=['data'], how='left')"
      ],
      "metadata": {
        "id": "ASm279Vm1TgM"
      },
      "execution_count": null,
      "outputs": []
    },
    {
      "cell_type": "code",
      "source": [
        "df_join = df_join.join(df_venda_comerciais_conces, on=['data'], how='left')"
      ],
      "metadata": {
        "id": "XkZWabIa1eFp"
      },
      "execution_count": null,
      "outputs": []
    },
    {
      "cell_type": "code",
      "source": [
        "df_join.show(3)"
      ],
      "metadata": {
        "colab": {
          "base_uri": "https://localhost:8080/"
        },
        "id": "KPTh9x2bAwPa",
        "outputId": "71edd7d9-3e9a-4c82-8c50-bc8beda406ab"
      },
      "execution_count": null,
      "outputs": [
        {
          "output_type": "stream",
          "name": "stdout",
          "text": [
            "+----------+--------------------------+---------------------------+-----------------------------+-------------------+-----------------------+----------------------------+\n",
            "|      data|valorVendas_mercadoInterno|Producao_Autoveiculos_total|valorVendas_autoveiculosTotal|Producao_Automoveis|valorVendas_concesTotal|valorVendas_ConcesComerciais|\n",
            "+----------+--------------------------+---------------------------+-----------------------------+-------------------+-----------------------+----------------------------+\n",
            "|1981-01-01|                     73363|                       null|                        87939|               null|                   null|                        null|\n",
            "|1981-02-01|                     48973|                       null|                        65251|               null|                   null|                        null|\n",
            "|1981-03-01|                     40523|                       null|                        64065|               null|                   null|                        null|\n",
            "+----------+--------------------------+---------------------------+-----------------------------+-------------------+-----------------------+----------------------------+\n",
            "only showing top 3 rows\n",
            "\n"
          ]
        }
      ]
    },
    {
      "cell_type": "code",
      "source": [
        "df_join = df_join.join(df_prod_automoveis, on=['data'], how='left')"
      ],
      "metadata": {
        "id": "lCIYWP6P15ms"
      },
      "execution_count": null,
      "outputs": []
    },
    {
      "cell_type": "code",
      "source": [
        "df_join.show(3)"
      ],
      "metadata": {
        "colab": {
          "base_uri": "https://localhost:8080/"
        },
        "id": "gZcvcQw2A3fP",
        "outputId": "9d97892a-3799-4826-c2e8-2a148ae6529e"
      },
      "execution_count": null,
      "outputs": [
        {
          "output_type": "stream",
          "name": "stdout",
          "text": [
            "+----------+--------------------------+---------------------------+-----------------------------+-------------------+-----------------------+----------------------------+-------------------+\n",
            "|      data|valorVendas_mercadoInterno|Producao_Autoveiculos_total|valorVendas_autoveiculosTotal|Producao_Automoveis|valorVendas_concesTotal|valorVendas_ConcesComerciais|Producao_Automoveis|\n",
            "+----------+--------------------------+---------------------------+-----------------------------+-------------------+-----------------------+----------------------------+-------------------+\n",
            "|1981-01-01|                     73363|                       null|                        87939|               null|                   null|                        null|               null|\n",
            "|1981-02-01|                     48973|                       null|                        65251|               null|                   null|                        null|               null|\n",
            "|1981-03-01|                     40523|                       null|                        64065|               null|                   null|                        null|               null|\n",
            "+----------+--------------------------+---------------------------+-----------------------------+-------------------+-----------------------+----------------------------+-------------------+\n",
            "only showing top 3 rows\n",
            "\n"
          ]
        }
      ]
    },
    {
      "cell_type": "code",
      "source": [
        "df_join.printSchema()"
      ],
      "metadata": {
        "colab": {
          "base_uri": "https://localhost:8080/"
        },
        "id": "Bt11F2rU40TS",
        "outputId": "db7780e9-20ee-480c-9285-da0f8176fbb9"
      },
      "execution_count": null,
      "outputs": [
        {
          "output_type": "stream",
          "name": "stdout",
          "text": [
            "root\n",
            " |-- data: date (nullable = true)\n",
            " |-- valorVendas_mercadoInterno: integer (nullable = true)\n",
            " |-- Producao_Autoveiculos_total: integer (nullable = true)\n",
            " |-- valorVendas_autoveiculosTotal: string (nullable = true)\n",
            " |-- Producao_Automoveis: integer (nullable = true)\n",
            " |-- valorVendas_concesTotal: string (nullable = true)\n",
            " |-- valorVendas_ConcesComerciais: string (nullable = true)\n",
            " |-- Producao_Automoveis: integer (nullable = true)\n",
            "\n"
          ]
        }
      ]
    },
    {
      "cell_type": "code",
      "source": [
        "df_join.where(F.col('data') == '2015-01-01').show()"
      ],
      "metadata": {
        "colab": {
          "base_uri": "https://localhost:8080/"
        },
        "id": "zcyCLDMB2BKp",
        "outputId": "1b6862c7-2693-4371-e9b8-0fdc17dbb568"
      },
      "execution_count": null,
      "outputs": [
        {
          "output_type": "stream",
          "name": "stdout",
          "text": [
            "+----------+--------------------------+---------------------------+-----------------------------+-------------------+-----------------------+----------------------------+-------------------+\n",
            "|      data|valorVendas_mercadoInterno|Producao_Autoveiculos_total|valorVendas_autoveiculosTotal|Producao_Automoveis|valorVendas_concesTotal|valorVendas_ConcesComerciais|Producao_Automoveis|\n",
            "+----------+--------------------------+---------------------------+-----------------------------+-------------------+-----------------------+----------------------------+-------------------+\n",
            "|2015-01-01|                    208143|                     204716|                       224445|             194123|                 253788|                      253788|             194123|\n",
            "+----------+--------------------------+---------------------------+-----------------------------+-------------------+-----------------------+----------------------------+-------------------+\n",
            "\n"
          ]
        }
      ]
    },
    {
      "cell_type": "code",
      "source": [
        "df_join = df_join.withColumnRenamed('valor', 'valorVendas_autoveiculosTotal')"
      ],
      "metadata": {
        "id": "wR2Rl5Wb2Ha8"
      },
      "execution_count": null,
      "outputs": []
    },
    {
      "cell_type": "markdown",
      "source": [
        "#CARREGAMENTO#"
      ],
      "metadata": {
        "id": "ILOuw7WEoYI6"
      }
    },
    {
      "cell_type": "code",
      "source": [
        "#Salvando o DataFrame em um arquivo CSV\n",
        "df_join.write.format(\"csv\").option(\"header\", \"true\").mode(\"overwrite\").save(\"gs://projetofinal1/temp/vendas_prod_veiculos.csv\")"
      ],
      "metadata": {
        "id": "MKzvA-oO2yeO"
      },
      "execution_count": null,
      "outputs": []
    },
    {
      "cell_type": "code",
      "source": [],
      "metadata": {
        "id": "og7X_eynkZ8b"
      },
      "execution_count": null,
      "outputs": []
    }
  ]
}